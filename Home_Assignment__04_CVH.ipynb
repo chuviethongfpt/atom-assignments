{
  "nbformat": 4,
  "nbformat_minor": 0,
  "metadata": {
    "colab": {
      "name": "Home_Assignment_#04_CVH.ipynb",
      "provenance": [],
      "collapsed_sections": [],
      "toc_visible": true,
      "authorship_tag": "ABX9TyMUrVMvtMT/jLmko+/nP+e8",
      "include_colab_link": true
    },
    "kernelspec": {
      "name": "python3",
      "display_name": "Python 3"
    },
    "language_info": {
      "name": "python"
    }
  },
  "cells": [
    {
      "cell_type": "markdown",
      "metadata": {
        "id": "view-in-github",
        "colab_type": "text"
      },
      "source": [
        "<a href=\"https://colab.research.google.com/github/chuviethongfpt/atom-assignments/blob/main/Home_Assignment__04_CVH.ipynb\" target=\"_parent\"><img src=\"https://colab.research.google.com/assets/colab-badge.svg\" alt=\"Open In Colab\"/></a>"
      ]
    },
    {
      "cell_type": "code",
      "metadata": {
        "colab": {
          "base_uri": "https://localhost:8080/"
        },
        "id": "NZZsua_2MTv5",
        "outputId": "30d59c7c-1850-42d3-c75d-f1345933938a"
      },
      "source": [
        "!pip install duckdb"
      ],
      "execution_count": 27,
      "outputs": [
        {
          "output_type": "stream",
          "text": [
            "Requirement already satisfied: duckdb in /usr/local/lib/python3.7/dist-packages (0.2.6)\n",
            "Requirement already satisfied: numpy>=1.14 in /usr/local/lib/python3.7/dist-packages (from duckdb) (1.19.5)\n"
          ],
          "name": "stdout"
        }
      ]
    },
    {
      "cell_type": "code",
      "metadata": {
        "id": "4kB0I59NF5J5"
      },
      "source": [
        "import requests # -> Để call API\n",
        "import json # -> Xử lý file JSON\n",
        "import pandas as pd # -> Thư viện xử lý dữ liệu dạng bảng\n",
        "import re # -> Thư viện xử lý text: regular expressions\n",
        "from datetime import datetime as dt # -> Thư viện xử lý dữ liệu thời gian\n",
        "import duckdb # -> Thư viện \"giả lập\" xử lý dữ liệu bằng SQL\n",
        "import numpy as np\n"
      ],
      "execution_count": 28,
      "outputs": []
    },
    {
      "cell_type": "markdown",
      "metadata": {
        "id": "UkIqnPquMq6_"
      },
      "source": [
        "# STEP 0: XEM LẠI DATA ĐÃ CÓ (SLACK API)\n",
        "Ở bước đầu tiên, ta xem lại tất cả các data của DATACracy Atom mà ra đã biết:\n",
        "\n",
        "Data từ Slack API:\n",
        "\n",
        "\n",
        "*   Danh sách thành viên\n",
        "*   Danh sách các channels\n",
        "*   Lịch sử tin nhắn trên các channels\n",
        "\n",
        "Data do dự án tự collect - File CSV (trích xuất từ Google Spreadsheet):\n",
        "\n",
        "*   Danh sách thành viên được phân theo vị trí (mentors, learners, BTC)\n",
        "\n",
        "===> Các dữ liệu này lần lượt được lấy bằng code bên dưới."
      ]
    },
    {
      "cell_type": "code",
      "metadata": {
        "id": "MBpWh8QENhK5"
      },
      "source": [
        "## Load Token file \n",
        "## WARNING!! --- Put it in gitignore and DO NOT print out to notebook\n",
        "with open('env_variable.json', 'r') as j:\n",
        "    json_data = json.load(j)"
      ],
      "execution_count": 29,
      "outputs": []
    },
    {
      "cell_type": "markdown",
      "metadata": {
        "id": "uilJIAeLSuss"
      },
      "source": [
        "# 0.1. Pull List of Members"
      ]
    },
    {
      "cell_type": "code",
      "metadata": {
        "colab": {
          "base_uri": "https://localhost:8080/",
          "height": 197
        },
        "id": "FmcA5nUnSsZ9",
        "outputId": "21510efc-a1c0-4a39-fef6-a6cbe3fe78a8"
      },
      "source": [
        "# 1. LIST OF SLACK MEMBERS \n",
        "\n",
        "## Pull list of member as JSON\n",
        "## Gọi API từ Endpoints (Input - Token được đưa vào Headers)\n",
        "## Challenge: Thử gọi API này bằng Postman\n",
        "endpoint = \"https://slack.com/api/users.list\"\n",
        "headers = {\"Authorization\": \"Bearer {}\".format(json_data['SLACK_BEARER_TOKEN'])}\n",
        "response_json = requests.post(endpoint, headers=headers).json() \n",
        "user_dat = response_json['members']\n",
        "\n",
        "## Convert to CSV\n",
        "user_dict = {'user_id':[],'name':[],'display_name':[],'real_name':[],'title':[],'is_bot':[]}\n",
        "for i in range(len(user_dat)):\n",
        "  user_dict['user_id'].append(user_dat[i]['id'])\n",
        "  user_dict['name'].append(user_dat[i]['name'])\n",
        "  user_dict['display_name'].append(user_dat[i]['profile']['display_name'])\n",
        "  user_dict['real_name'].append(user_dat[i]['profile']['real_name_normalized'])\n",
        "  user_dict['title'].append(user_dat[i]['profile']['title'])\n",
        "  user_dict['is_bot'].append(user_dat[i]['is_bot'])\n",
        "\n",
        "user_df = pd.DataFrame(user_dict) \n",
        "user_df = user_df.replace('', np.nan) # -> replace khoảng trắng bằng giá trị NULL (nan)\n",
        "user_df.head()"
      ],
      "execution_count": 30,
      "outputs": [
        {
          "output_type": "execute_result",
          "data": {
            "text/html": [
              "<div>\n",
              "<style scoped>\n",
              "    .dataframe tbody tr th:only-of-type {\n",
              "        vertical-align: middle;\n",
              "    }\n",
              "\n",
              "    .dataframe tbody tr th {\n",
              "        vertical-align: top;\n",
              "    }\n",
              "\n",
              "    .dataframe thead th {\n",
              "        text-align: right;\n",
              "    }\n",
              "</style>\n",
              "<table border=\"1\" class=\"dataframe\">\n",
              "  <thead>\n",
              "    <tr style=\"text-align: right;\">\n",
              "      <th></th>\n",
              "      <th>user_id</th>\n",
              "      <th>name</th>\n",
              "      <th>display_name</th>\n",
              "      <th>real_name</th>\n",
              "      <th>title</th>\n",
              "      <th>is_bot</th>\n",
              "    </tr>\n",
              "  </thead>\n",
              "  <tbody>\n",
              "    <tr>\n",
              "      <th>0</th>\n",
              "      <td>USLACKBOT</td>\n",
              "      <td>slackbot</td>\n",
              "      <td>Slackbot</td>\n",
              "      <td>Slackbot</td>\n",
              "      <td>NaN</td>\n",
              "      <td>False</td>\n",
              "    </tr>\n",
              "    <tr>\n",
              "      <th>1</th>\n",
              "      <td>U01AT4T75JB</td>\n",
              "      <td>loclexuan26392</td>\n",
              "      <td>Loc Le Xuan</td>\n",
              "      <td>Loc Le Xuan</td>\n",
              "      <td>NaN</td>\n",
              "      <td>False</td>\n",
              "    </tr>\n",
              "    <tr>\n",
              "      <th>2</th>\n",
              "      <td>U01AVDY7JET</td>\n",
              "      <td>locle.ds</td>\n",
              "      <td>Loc Le Xuan</td>\n",
              "      <td>Loc Le Xuan</td>\n",
              "      <td>NaN</td>\n",
              "      <td>False</td>\n",
              "    </tr>\n",
              "    <tr>\n",
              "      <th>3</th>\n",
              "      <td>U01BE2PR6LU</td>\n",
              "      <td>maianhdang.ftu</td>\n",
              "      <td>MAD</td>\n",
              "      <td>Dặng Huỳnh Mai Anh</td>\n",
              "      <td>Technical Contents</td>\n",
              "      <td>False</td>\n",
              "    </tr>\n",
              "    <tr>\n",
              "      <th>4</th>\n",
              "      <td>U01C48T7S1J</td>\n",
              "      <td>huyenhoang.design</td>\n",
              "      <td>Thanh Huyen Hoang</td>\n",
              "      <td>Thanh Huyen Hoang</td>\n",
              "      <td>NaN</td>\n",
              "      <td>False</td>\n",
              "    </tr>\n",
              "  </tbody>\n",
              "</table>\n",
              "</div>"
            ],
            "text/plain": [
              "       user_id               name  ...               title is_bot\n",
              "0    USLACKBOT           slackbot  ...                 NaN  False\n",
              "1  U01AT4T75JB     loclexuan26392  ...                 NaN  False\n",
              "2  U01AVDY7JET           locle.ds  ...                 NaN  False\n",
              "3  U01BE2PR6LU     maianhdang.ftu  ...  Technical Contents  False\n",
              "4  U01C48T7S1J  huyenhoang.design  ...                 NaN  False\n",
              "\n",
              "[5 rows x 6 columns]"
            ]
          },
          "metadata": {
            "tags": []
          },
          "execution_count": 30
        }
      ]
    },
    {
      "cell_type": "code",
      "metadata": {
        "colab": {
          "base_uri": "https://localhost:8080/"
        },
        "id": "wNMMGNcdmQRc",
        "outputId": "708c1ee6-254e-4a45-b489-09422a76645f"
      },
      "source": [
        "user_df.info()"
      ],
      "execution_count": 31,
      "outputs": [
        {
          "output_type": "stream",
          "text": [
            "<class 'pandas.core.frame.DataFrame'>\n",
            "RangeIndex: 75 entries, 0 to 74\n",
            "Data columns (total 6 columns):\n",
            " #   Column        Non-Null Count  Dtype \n",
            "---  ------        --------------  ----- \n",
            " 0   user_id       75 non-null     object\n",
            " 1   name          75 non-null     object\n",
            " 2   display_name  50 non-null     object\n",
            " 3   real_name     75 non-null     object\n",
            " 4   title         6 non-null      object\n",
            " 5   is_bot        75 non-null     bool  \n",
            "dtypes: bool(1), object(5)\n",
            "memory usage: 3.1+ KB\n"
          ],
          "name": "stdout"
        }
      ]
    },
    {
      "cell_type": "markdown",
      "metadata": {
        "id": "WW06BLUpmTl8"
      },
      "source": [
        "# 0.2. List of Channels"
      ]
    },
    {
      "cell_type": "code",
      "metadata": {
        "colab": {
          "base_uri": "https://localhost:8080/",
          "height": 281
        },
        "id": "PppKJhwfmR5T",
        "outputId": "fe4334f3-56d6-4878-aeeb-1e9f4d4a55ec"
      },
      "source": [
        "# 2. LIST OF SLACK CHANNELS\n",
        "\n",
        "endpoint2 = \"https://slack.com/api/conversations.list\"\n",
        "data = {'types': 'public_channel,private_channel'} # -> CHECK: API Docs https://api.slack.com/methods/conversations.list/test\n",
        "response_json = requests.post(endpoint2, headers=headers, data=data).json() \n",
        "channel_dat = response_json['channels']\n",
        "\n",
        "channel_dict = {'channel_id':[], 'channel_name':[], 'is_channel':[],'creator':[],'created_at':[],'topics':[],'purpose':[],'num_members':[]}\n",
        "for i in range(len(channel_dat)):\n",
        "  channel_dict['channel_id'].append(channel_dat[i]['id'])\n",
        "  channel_dict['channel_name'].append(channel_dat[i]['name'])\n",
        "  channel_dict['is_channel'].append(channel_dat[i]['is_channel'])\n",
        "  channel_dict['creator'].append(channel_dat[i]['creator'])\n",
        "  channel_dict['created_at'].append(dt.fromtimestamp(float(channel_dat[i]['created'])))\n",
        "  channel_dict['topics'].append(channel_dat[i]['topic']['value'])\n",
        "  channel_dict['purpose'].append(channel_dat[i]['purpose']['value'])\n",
        "  channel_dict['num_members'].append(channel_dat[i]['num_members'])\n",
        "\n",
        "channel_df = pd.DataFrame(channel_dict) \n",
        "channel_df = channel_df.replace('', np.nan) # -> replace khoảng trắng bằng giá trị NULL (nan)\n",
        "channel_df.head()"
      ],
      "execution_count": 32,
      "outputs": [
        {
          "output_type": "execute_result",
          "data": {
            "text/html": [
              "<div>\n",
              "<style scoped>\n",
              "    .dataframe tbody tr th:only-of-type {\n",
              "        vertical-align: middle;\n",
              "    }\n",
              "\n",
              "    .dataframe tbody tr th {\n",
              "        vertical-align: top;\n",
              "    }\n",
              "\n",
              "    .dataframe thead th {\n",
              "        text-align: right;\n",
              "    }\n",
              "</style>\n",
              "<table border=\"1\" class=\"dataframe\">\n",
              "  <thead>\n",
              "    <tr style=\"text-align: right;\">\n",
              "      <th></th>\n",
              "      <th>channel_id</th>\n",
              "      <th>channel_name</th>\n",
              "      <th>is_channel</th>\n",
              "      <th>creator</th>\n",
              "      <th>created_at</th>\n",
              "      <th>topics</th>\n",
              "      <th>purpose</th>\n",
              "      <th>num_members</th>\n",
              "    </tr>\n",
              "  </thead>\n",
              "  <tbody>\n",
              "    <tr>\n",
              "      <th>0</th>\n",
              "      <td>C01B4PVGLVB</td>\n",
              "      <td>general</td>\n",
              "      <td>True</td>\n",
              "      <td>U01BE2PR6LU</td>\n",
              "      <td>2020-09-23 10:25:03</td>\n",
              "      <td>NaN</td>\n",
              "      <td>This is the one channel that will always inclu...</td>\n",
              "      <td>65</td>\n",
              "    </tr>\n",
              "    <tr>\n",
              "      <th>1</th>\n",
              "      <td>C01BYH7JHB5</td>\n",
              "      <td>contents</td>\n",
              "      <td>True</td>\n",
              "      <td>U01BE2PR6LU</td>\n",
              "      <td>2020-10-05 07:28:09</td>\n",
              "      <td>NaN</td>\n",
              "      <td>NaN</td>\n",
              "      <td>12</td>\n",
              "    </tr>\n",
              "    <tr>\n",
              "      <th>2</th>\n",
              "      <td>C01CAMNCJJV</td>\n",
              "      <td>branding-design</td>\n",
              "      <td>True</td>\n",
              "      <td>U01AVDY7JET</td>\n",
              "      <td>2020-10-05 03:16:30</td>\n",
              "      <td>NaN</td>\n",
              "      <td>NaN</td>\n",
              "      <td>9</td>\n",
              "    </tr>\n",
              "    <tr>\n",
              "      <th>3</th>\n",
              "      <td>C01U6P7LZ8F</td>\n",
              "      <td>atom-assignment1</td>\n",
              "      <td>True</td>\n",
              "      <td>U01BE2PR6LU</td>\n",
              "      <td>2021-04-17 07:00:04</td>\n",
              "      <td>Assigment#1 - Python Basics &amp;amp; Spreadsheet ...</td>\n",
              "      <td>Where learners submit assignments and give rev...</td>\n",
              "      <td>44</td>\n",
              "    </tr>\n",
              "    <tr>\n",
              "      <th>4</th>\n",
              "      <td>C01UL6K1C7L</td>\n",
              "      <td>atom-week1</td>\n",
              "      <td>True</td>\n",
              "      <td>U01BE2PR6LU</td>\n",
              "      <td>2021-04-16 17:44:32</td>\n",
              "      <td>TOPIC: Data Strategy. Metrics Design. Spreadsh...</td>\n",
              "      <td>TOPIC: Data Strategy. Metrics Design. Spreadsh...</td>\n",
              "      <td>43</td>\n",
              "    </tr>\n",
              "  </tbody>\n",
              "</table>\n",
              "</div>"
            ],
            "text/plain": [
              "    channel_id  ... num_members\n",
              "0  C01B4PVGLVB  ...          65\n",
              "1  C01BYH7JHB5  ...          12\n",
              "2  C01CAMNCJJV  ...           9\n",
              "3  C01U6P7LZ8F  ...          44\n",
              "4  C01UL6K1C7L  ...          43\n",
              "\n",
              "[5 rows x 8 columns]"
            ]
          },
          "metadata": {
            "tags": []
          },
          "execution_count": 32
        }
      ]
    },
    {
      "cell_type": "code",
      "metadata": {
        "colab": {
          "base_uri": "https://localhost:8080/"
        },
        "id": "49nKeIGPmY5g",
        "outputId": "90362d11-26dd-434e-c8be-934bca772761"
      },
      "source": [
        "channel_df.info()"
      ],
      "execution_count": 33,
      "outputs": [
        {
          "output_type": "stream",
          "text": [
            "<class 'pandas.core.frame.DataFrame'>\n",
            "RangeIndex: 19 entries, 0 to 18\n",
            "Data columns (total 8 columns):\n",
            " #   Column        Non-Null Count  Dtype         \n",
            "---  ------        --------------  -----         \n",
            " 0   channel_id    19 non-null     object        \n",
            " 1   channel_name  19 non-null     object        \n",
            " 2   is_channel    19 non-null     bool          \n",
            " 3   creator       19 non-null     object        \n",
            " 4   created_at    19 non-null     datetime64[ns]\n",
            " 5   topics        6 non-null      object        \n",
            " 6   purpose       13 non-null     object        \n",
            " 7   num_members   19 non-null     int64         \n",
            "dtypes: bool(1), datetime64[ns](1), int64(1), object(5)\n",
            "memory usage: 1.2+ KB\n"
          ],
          "name": "stdout"
        }
      ]
    },
    {
      "cell_type": "markdown",
      "metadata": {
        "id": "e2bcOZO2mbOG"
      },
      "source": [
        "# 0.3. Message Data"
      ]
    },
    {
      "cell_type": "code",
      "metadata": {
        "id": "fd8EK4tFmdcu"
      },
      "source": [
        "endpoint3 = \"https://slack.com/api/conversations.history\""
      ],
      "execution_count": 34,
      "outputs": []
    },
    {
      "cell_type": "code",
      "metadata": {
        "colab": {
          "base_uri": "https://localhost:8080/"
        },
        "id": "b-g20rY0mwgJ",
        "outputId": "1e2e1975-733c-406d-a270-f6c14770ec91"
      },
      "source": [
        "msg_dict = {'channel_id':[],'msg_id':[], 'msg_ts':[], 'user_id':[], 'latest_reply':[],'reply_user_count':[],'reply_users':[],'github_link':[]}\n",
        "for channel_id, channel_name in zip(channel_df['channel_id'], channel_df['channel_name']):\n",
        "  print('Channel ID: {} - Channel Name: {}'.format(channel_id, channel_name))\n",
        "  try:\n",
        "    data = {\"channel\": channel_id} \n",
        "    response_json = requests.post(endpoint3, data=data, headers=headers).json()\n",
        "    msg_ls = response_json['messages']\n",
        "    for i in range(len(msg_ls)):\n",
        "      if 'client_msg_id' in msg_ls[i].keys():\n",
        "        msg_dict['channel_id'].append(channel_id)\n",
        "        msg_dict['msg_id'].append(msg_ls[i]['client_msg_id'])\n",
        "        msg_dict['msg_ts'].append(dt.fromtimestamp(float(msg_ls[i]['ts'])))\n",
        "        msg_dict['latest_reply'].append(dt.fromtimestamp(float(msg_ls[i]['latest_reply'] if 'latest_reply' in msg_ls[i].keys() else 0))) ## -> No reply: 1970-01-01\n",
        "        msg_dict['user_id'].append(msg_ls[i]['user'])\n",
        "        msg_dict['reply_user_count'].append(msg_ls[i]['reply_users_count'] if 'reply_users_count' in msg_ls[i].keys() else 0)\n",
        "        msg_dict['reply_users'].append(msg_ls[i]['reply_users'] if 'reply_users' in msg_ls[i].keys() else 0) \n",
        "        ## -> Censor message contains tokens\n",
        "        text = msg_ls[i]['text']\n",
        "        github_link = re.findall('(?:https?://)?(?:www[.])?github[.]com/[\\w-]+/?', text)\n",
        "        msg_dict['github_link'].append(github_link[0] if len(github_link) > 0 else np.nan)\n",
        "  except:\n",
        "    print('====> '+ str(response_json))"
      ],
      "execution_count": 35,
      "outputs": [
        {
          "output_type": "stream",
          "text": [
            "Channel ID: C01B4PVGLVB - Channel Name: general\n",
            "Channel ID: C01BYH7JHB5 - Channel Name: contents\n",
            "====> {'ok': False, 'error': 'not_in_channel'}\n",
            "Channel ID: C01CAMNCJJV - Channel Name: branding-design\n",
            "====> {'ok': False, 'error': 'not_in_channel'}\n",
            "Channel ID: C01U6P7LZ8F - Channel Name: atom-assignment1\n",
            "Channel ID: C01UL6K1C7L - Channel Name: atom-week1\n",
            "Channel ID: C01ULCHGN75 - Channel Name: atom-general\n",
            "====> {'ok': False, 'error': 'not_in_channel'}\n",
            "Channel ID: C020VMT58JK - Channel Name: topics-data-analytics\n",
            "Channel ID: C0213MNH9L6 - Channel Name: topics-python\n",
            "Channel ID: C0213N56M2A - Channel Name: topics-materials\n",
            "Channel ID: C021FSDN7LJ - Channel Name: atom-assignment2\n",
            "Channel ID: C021KLB0DSB - Channel Name: discuss-group3\n",
            "Channel ID: C021KLB90GP - Channel Name: discuss-group4\n",
            "Channel ID: C02204B2CD6 - Channel Name: atom-week2\n",
            "Channel ID: C0220KU9399 - Channel Name: discuss-group1\n",
            "Channel ID: C0226D3LEQ4 - Channel Name: atom-week3\n",
            "Channel ID: C0227A51SAY - Channel Name: atom-assignment3\n",
            "Channel ID: C022Q7TGRLG - Channel Name: discuss-group2\n",
            "Channel ID: C022RRWQ6US - Channel Name: atom-assignment4\n",
            "Channel ID: C022Y1FUETE - Channel Name: atom-week4\n"
          ],
          "name": "stdout"
        }
      ]
    },
    {
      "cell_type": "code",
      "metadata": {
        "colab": {
          "base_uri": "https://localhost:8080/",
          "height": 281
        },
        "id": "r2o4zevrm0Iy",
        "outputId": "13107921-045d-4954-ebca-fb8c5206af52"
      },
      "source": [
        "msg_df = pd.DataFrame(msg_dict)\n",
        "msg_df = msg_df.replace('', np.nan) # -> replace khoảng trắng bằng giá trị NULL (nan)\n",
        "msg_df.tail()"
      ],
      "execution_count": 36,
      "outputs": [
        {
          "output_type": "execute_result",
          "data": {
            "text/html": [
              "<div>\n",
              "<style scoped>\n",
              "    .dataframe tbody tr th:only-of-type {\n",
              "        vertical-align: middle;\n",
              "    }\n",
              "\n",
              "    .dataframe tbody tr th {\n",
              "        vertical-align: top;\n",
              "    }\n",
              "\n",
              "    .dataframe thead th {\n",
              "        text-align: right;\n",
              "    }\n",
              "</style>\n",
              "<table border=\"1\" class=\"dataframe\">\n",
              "  <thead>\n",
              "    <tr style=\"text-align: right;\">\n",
              "      <th></th>\n",
              "      <th>channel_id</th>\n",
              "      <th>msg_id</th>\n",
              "      <th>msg_ts</th>\n",
              "      <th>user_id</th>\n",
              "      <th>latest_reply</th>\n",
              "      <th>reply_user_count</th>\n",
              "      <th>reply_users</th>\n",
              "      <th>github_link</th>\n",
              "    </tr>\n",
              "  </thead>\n",
              "  <tbody>\n",
              "    <tr>\n",
              "      <th>259</th>\n",
              "      <td>C022RRWQ6US</td>\n",
              "      <td>3db33d2a-5666-44cf-95e0-dd33aee4e63c</td>\n",
              "      <td>2021-05-24 11:49:29.003700</td>\n",
              "      <td>U01BE2PR6LU</td>\n",
              "      <td>1970-01-01 00:00:00.000000</td>\n",
              "      <td>0</td>\n",
              "      <td>0</td>\n",
              "      <td>NaN</td>\n",
              "    </tr>\n",
              "    <tr>\n",
              "      <th>260</th>\n",
              "      <td>C022RRWQ6US</td>\n",
              "      <td>8b4a2ebb-7882-402b-8339-a0b067ce5165</td>\n",
              "      <td>2021-05-23 07:58:23.003000</td>\n",
              "      <td>U01BE2PR6LU</td>\n",
              "      <td>1970-01-01 00:00:00.000000</td>\n",
              "      <td>0</td>\n",
              "      <td>0</td>\n",
              "      <td>NaN</td>\n",
              "    </tr>\n",
              "    <tr>\n",
              "      <th>261</th>\n",
              "      <td>C022RRWQ6US</td>\n",
              "      <td>231fad01-7083-4cd0-b6b6-e97bf54779e2</td>\n",
              "      <td>2021-05-22 23:23:13.001400</td>\n",
              "      <td>U01BE2PR6LU</td>\n",
              "      <td>1970-01-01 00:00:00.000000</td>\n",
              "      <td>0</td>\n",
              "      <td>0</td>\n",
              "      <td>https://github.com/anhdanggit/</td>\n",
              "    </tr>\n",
              "    <tr>\n",
              "      <th>262</th>\n",
              "      <td>C022Y1FUETE</td>\n",
              "      <td>ee582f3d-c339-4d06-a263-b71c6470e647</td>\n",
              "      <td>2021-05-24 11:49:57.001000</td>\n",
              "      <td>U01BE2PR6LU</td>\n",
              "      <td>1970-01-01 00:00:00.000000</td>\n",
              "      <td>0</td>\n",
              "      <td>0</td>\n",
              "      <td>NaN</td>\n",
              "    </tr>\n",
              "    <tr>\n",
              "      <th>263</th>\n",
              "      <td>C022Y1FUETE</td>\n",
              "      <td>38adf48f-21cc-437c-9ad3-31cd002bc4f8</td>\n",
              "      <td>2021-05-23 07:58:05.001500</td>\n",
              "      <td>U01BE2PR6LU</td>\n",
              "      <td>2021-05-23 16:15:45.002200</td>\n",
              "      <td>1</td>\n",
              "      <td>[U01VB632FPS]</td>\n",
              "      <td>NaN</td>\n",
              "    </tr>\n",
              "  </tbody>\n",
              "</table>\n",
              "</div>"
            ],
            "text/plain": [
              "      channel_id  ...                     github_link\n",
              "259  C022RRWQ6US  ...                             NaN\n",
              "260  C022RRWQ6US  ...                             NaN\n",
              "261  C022RRWQ6US  ...  https://github.com/anhdanggit/\n",
              "262  C022Y1FUETE  ...                             NaN\n",
              "263  C022Y1FUETE  ...                             NaN\n",
              "\n",
              "[5 rows x 8 columns]"
            ]
          },
          "metadata": {
            "tags": []
          },
          "execution_count": 36
        }
      ]
    },
    {
      "cell_type": "code",
      "metadata": {
        "colab": {
          "base_uri": "https://localhost:8080/"
        },
        "id": "aFRQCXFKna7y",
        "outputId": "0a63b052-9c6b-4b63-d080-079e8e08c540"
      },
      "source": [
        "msg_df.info()"
      ],
      "execution_count": 37,
      "outputs": [
        {
          "output_type": "stream",
          "text": [
            "<class 'pandas.core.frame.DataFrame'>\n",
            "RangeIndex: 264 entries, 0 to 263\n",
            "Data columns (total 8 columns):\n",
            " #   Column            Non-Null Count  Dtype         \n",
            "---  ------            --------------  -----         \n",
            " 0   channel_id        264 non-null    object        \n",
            " 1   msg_id            264 non-null    object        \n",
            " 2   msg_ts            264 non-null    datetime64[ns]\n",
            " 3   user_id           264 non-null    object        \n",
            " 4   latest_reply      264 non-null    datetime64[ns]\n",
            " 5   reply_user_count  264 non-null    int64         \n",
            " 6   reply_users       264 non-null    object        \n",
            " 7   github_link       100 non-null    object        \n",
            "dtypes: datetime64[ns](2), int64(1), object(5)\n",
            "memory usage: 16.6+ KB\n"
          ],
          "name": "stdout"
        }
      ]
    },
    {
      "cell_type": "markdown",
      "metadata": {
        "id": "dNb27kPFogao"
      },
      "source": [
        "# 0.4. DataCracy Info\n",
        "\n",
        "*   Data do dự án tự collect - File CSV (trích xuất từ Google Spreadsheet): Danh sách thành viên được phân theo vị trí (mentors, learners, BTC)\n",
        "*   Trong cùng folder Github assignment_4\n",
        "\n"
      ]
    },
    {
      "cell_type": "code",
      "metadata": {
        "colab": {
          "base_uri": "https://localhost:8080/",
          "height": 197
        },
        "id": "mV3kCBXiopNk",
        "outputId": "be60b1f6-34cd-482e-e09a-4b40f4329f2c"
      },
      "source": [
        "dtc_groups = pd.read_csv('datacracy_groups.csv')\n",
        "dtc_groups.head()"
      ],
      "execution_count": 38,
      "outputs": [
        {
          "output_type": "execute_result",
          "data": {
            "text/html": [
              "<div>\n",
              "<style scoped>\n",
              "    .dataframe tbody tr th:only-of-type {\n",
              "        vertical-align: middle;\n",
              "    }\n",
              "\n",
              "    .dataframe tbody tr th {\n",
              "        vertical-align: top;\n",
              "    }\n",
              "\n",
              "    .dataframe thead th {\n",
              "        text-align: right;\n",
              "    }\n",
              "</style>\n",
              "<table border=\"1\" class=\"dataframe\">\n",
              "  <thead>\n",
              "    <tr style=\"text-align: right;\">\n",
              "      <th></th>\n",
              "      <th>name</th>\n",
              "      <th>DataCracy_role</th>\n",
              "    </tr>\n",
              "  </thead>\n",
              "  <tbody>\n",
              "    <tr>\n",
              "      <th>0</th>\n",
              "      <td>slackbot</td>\n",
              "      <td>BTC</td>\n",
              "    </tr>\n",
              "    <tr>\n",
              "      <th>1</th>\n",
              "      <td>loclexuan26392</td>\n",
              "      <td>BTC</td>\n",
              "    </tr>\n",
              "    <tr>\n",
              "      <th>2</th>\n",
              "      <td>locle.ds</td>\n",
              "      <td>BTC</td>\n",
              "    </tr>\n",
              "    <tr>\n",
              "      <th>3</th>\n",
              "      <td>maianhdang.ftu</td>\n",
              "      <td>BTC</td>\n",
              "    </tr>\n",
              "    <tr>\n",
              "      <th>4</th>\n",
              "      <td>huyenhoang.design</td>\n",
              "      <td>BTC</td>\n",
              "    </tr>\n",
              "  </tbody>\n",
              "</table>\n",
              "</div>"
            ],
            "text/plain": [
              "                name DataCracy_role\n",
              "0           slackbot            BTC\n",
              "1     loclexuan26392            BTC\n",
              "2           locle.ds            BTC\n",
              "3     maianhdang.ftu            BTC\n",
              "4  huyenhoang.design            BTC"
            ]
          },
          "metadata": {
            "tags": []
          },
          "execution_count": 38
        }
      ]
    },
    {
      "cell_type": "markdown",
      "metadata": {
        "id": "9sorA5SRoxze"
      },
      "source": [
        "# STEP 1: NHU CẦU & MỤC ĐÍCH\n",
        "\n",
        "\n",
        "> Đặt mình vào vị trí người chủ, bạn quan tâm đến điều gì?\n",
        "\n",
        "*   Quan trọng nhất của mọi Data Solution, là bắt đầu từ nhu cầu, mục đích và câu hỏi lớn của Clients (người chủ).\n",
        "*   Chính từ những câu hỏi lớn này, ta có thể khoanh vùng thông tin nào quan trọng, ta muốn đạt được điều gì?\n",
        "\n",
        "\n",
        "\n",
        "\n"
      ]
    },
    {
      "cell_type": "markdown",
      "metadata": {
        "id": "vp3AGk7do--B"
      },
      "source": [
        "# TODO#1: Requirements\n",
        "Tự trả lời các câu hỏi sau, từ góc nhìn của bạn (đặt mình vào vị trí bạn là co-founder của dự án DataCracy):\n",
        "\n",
        "\n",
        "1.   Mục đích của lớp học Atom là gì?\n",
        "2.   BTC sẽ quan tâm đến những chủ đề/quy trình gì để đạt được Mục Đích trong (1)?\n",
        "3.   Làm sao để đo lường các điểm trong (2)? => Metrics?\n",
        "4.   Dựa vào các data đã có như liệt kê trong STEP 0:\n",
        "\n",
        "\n",
        "*   Chỉ dùng những data sẵn có, ta có thể đo lường và thiết kế những metrics nào bạn đã liệt kê trong (3)?\n",
        "*   Tham khảo Slack API và hình dung về các thông tin DataCracy có khả năng thu thập, bạn sẽ đề xuất DataCracy thu thập thêm những thông tin gì?\n",
        "\n",
        "\n",
        "\n",
        "\n"
      ]
    },
    {
      "cell_type": "markdown",
      "metadata": {
        "id": "vOJN1TaKbQ4N"
      },
      "source": [
        "**1. Mục đích của lớp học Atom là gì?**\n",
        "\n",
        "Mục đích chung: \n",
        "1.\tTrau dồi kỹ năng và kiến thức về Data, đặc biệt là cách giúp người học vận dụng được những kỹ năng kiến thức học được từ chương trình ứng nghiệm vào từng lĩnh vực công việc mà họ đang theo đuổi hoặc đang làm việc.\n",
        "2.\tSử dụng kỹ năng, kiến thức đã học được từ chương trình và kinh nghiệm của bản thân trước đó trong công việc và học tập để tìm ra hoặc đề xuất những solutions có tính thực tế cao, nhằm áp dụng vào những dự án lớn nhỏ khác nhau của SMEs. \n",
        "3.\tLàm sao để định hướng những solutions của người học có thể hỗ trợ SMEs và chính doanh nghiệp của bản thân trong việc triển khai, sử dụng, và giải quyết những data sẵn có một cách hiệu quả nhất.\n",
        "4.\tMở rộng và phát triển chương trình để tiếp cận thêm nhiều học viên và nhận được nhiều sự ủng hộ về tinh thần và vật chất. \n",
        "5.\tĐược các SMEs tin tưởng là nơi giúp họ tìm ra giải pháp sử dụng data và phát triển doanh nghiệp của họ\n",
        "\n",
        "Mục đích cụ thể:\n",
        "-\tSau quá trình học, chương trình chọn ra được những người học có đủ kiến thức và kỹ năng về data để đưa ra được những solutions thích hợp với SMEs \n",
        "=> Từ đó đề xuất và trình bày solutions của mình cũng như làm sao giúp SMEs sử dụng được nguồn data sẵn có mà vẫn mang lại hiệu quả cho họ. "
      ]
    },
    {
      "cell_type": "markdown",
      "metadata": {
        "id": "Ko2uRnJse_S7"
      },
      "source": [
        "**2.\tBTC sẽ quan tâm đến những chủ đề/quy trình gì để đạt được Mục Đích trong (1)?**\n",
        "\n",
        "BTC nên quan tâm đến 3 quy trình, từng quy trình sẽ có những điểm cụ thể sau"
      ]
    },
    {
      "cell_type": "code",
      "metadata": {
        "id": "sT3TvfKMbqDf",
        "colab": {
          "base_uri": "https://localhost:8080/",
          "height": 687
        },
        "outputId": "353833ff-574b-4bed-e0c6-5b3017b552dd"
      },
      "source": [
        "#2.\tBTC sẽ quan tâm đến những chủ đề/quy trình gì để đạt được Mục Đích trong (1)?\n",
        "from IPython.display import Image\n",
        "Image(filename='atom-2.png')"
      ],
      "execution_count": 39,
      "outputs": [
        {
          "output_type": "execute_result",
          "data": {
            "image/png": "[encoded data removed]",
            "text/plain": [
              "<IPython.core.display.Image object>"
            ]
          },
          "metadata": {
            "tags": []
          },
          "execution_count": 39
        }
      ]
    },
    {
      "cell_type": "markdown",
      "metadata": {
        "id": "ue_DOHxKpHgO"
      },
      "source": [
        "**3. Làm sao để đo lường các điểm trong (2)? => Metrics?**"
      ]
    },
    {
      "cell_type": "code",
      "metadata": {
        "colab": {
          "base_uri": "https://localhost:8080/",
          "height": 621
        },
        "id": "jhNX8ay2ks9A",
        "outputId": "27090551-a847-4d41-dace-89a2f248d948"
      },
      "source": [
        "from IPython.display import Image\n",
        "Image(filename='atom-3.1.png')"
      ],
      "execution_count": 40,
      "outputs": [
        {
          "output_type": "execute_result",
          "data": {
            "image/png": "[encoded data removed]",
            "text/plain": [
              "<IPython.core.display.Image object>"
            ]
          },
          "metadata": {
            "tags": []
          },
          "execution_count": 40
        }
      ]
    },
    {
      "cell_type": "code",
      "metadata": {
        "colab": {
          "base_uri": "https://localhost:8080/",
          "height": 680
        },
        "id": "vo0eoTUTkye3",
        "outputId": "3ec868d4-623b-4756-ab50-bb55be8255e1"
      },
      "source": [
        "from IPython.display import Image\n",
        "Image(filename='atom-3.2.png')"
      ],
      "execution_count": 42,
      "outputs": [
        {
          "output_type": "execute_result",
          "data": {
            "image/png": "[encoded data removed]",
            "text/plain": [
              "<IPython.core.display.Image object>"
            ]
          },
          "metadata": {
            "tags": []
          },
          "execution_count": 42
        }
      ]
    },
    {
      "cell_type": "code",
      "metadata": {
        "colab": {
          "base_uri": "https://localhost:8080/",
          "height": 449
        },
        "id": "7qWQu9O8n2WQ",
        "outputId": "6877597a-30cc-45f4-ed32-64d3f4e8fd25"
      },
      "source": [
        "from IPython.display import Image\n",
        "Image(filename='atom-3.3.png')"
      ],
      "execution_count": 43,
      "outputs": [
        {
          "output_type": "execute_result",
          "data": {
            "image/png": "[encoded data removed]",
            "text/plain": [
              "<IPython.core.display.Image object>"
            ]
          },
          "metadata": {
            "tags": []
          },
          "execution_count": 43
        }
      ]
    },
    {
      "cell_type": "markdown",
      "metadata": {
        "id": "2Iz9gpjMpOca"
      },
      "source": [
        "**4. Dựa vào các data đã có như liệt kê trong STEP 0:**\n",
        "\n",
        "Chỉ dùng những data sẵn có, ta có thể đo lường và thiết kế những metrics nào bạn đã liệt kê trong (3)?\n",
        "\n",
        "\n",
        "\n",
        "*   Nếu dùng những data sẵn có và nhanh chóng nhất, chúng ta có thể sử dụng metric 1 đầu tiên, theo quá trình lâu dài của chương trình có thể sử dụng metric 2 và sau khi kết thúc chương trình nên sử dụng thêm metric 3 để dánh giá hiệu quả toàn bộ dự án và chương trình\n",
        "\n"
      ]
    },
    {
      "cell_type": "markdown",
      "metadata": {
        "id": "49aywRMEeygL"
      },
      "source": [
        "**4. Dựa vào các data đã có như liệt kê trong STEP 0:**\n",
        "\n",
        "Tham khảo Slack API và hình dung về các thông tin DataCracy có khả năng thu thập, bạn sẽ đề xuất DataCracy thu thập thêm những thông tin gì?\n",
        "-\tSố lượng learners tương tác trên Slack (đặt câu hỏi, trả lời câu hỏi của các bạn học viên khác, trao đổi, thảo luận với group với learners và mentors)\n",
        "-\tSố lượng bài nộp đúng hạn\n",
        "-\tSố lượng learners đặt câu hỏi trên Slack hay, có tính đóng góp\n",
        "-\tSố lượng review bài của các bài tập và trao đổi về bài tập thông qua số lượng messages\n"
      ]
    },
    {
      "cell_type": "markdown",
      "metadata": {
        "id": "1UaQZrMjpfYv"
      },
      "source": [
        "# STEP 2: TỔ CHỨC THÔNG TIN\n",
        "\n",
        "\n",
        "> Thu thập và hệ thống lại các thông tin\n",
        "\n"
      ]
    },
    {
      "cell_type": "code",
      "metadata": {
        "colab": {
          "base_uri": "https://localhost:8080/"
        },
        "id": "nWyn1cwcowX4",
        "outputId": "96860834-3adb-4d68-f895-156525b94b21"
      },
      "source": [
        "## Hints: info() để check các thông tin (Column), số dòng (Count), và Data Type của mỗi cột\n",
        "user_df.info()"
      ],
      "execution_count": 44,
      "outputs": [
        {
          "output_type": "stream",
          "text": [
            "<class 'pandas.core.frame.DataFrame'>\n",
            "RangeIndex: 75 entries, 0 to 74\n",
            "Data columns (total 6 columns):\n",
            " #   Column        Non-Null Count  Dtype \n",
            "---  ------        --------------  ----- \n",
            " 0   user_id       75 non-null     object\n",
            " 1   name          75 non-null     object\n",
            " 2   display_name  50 non-null     object\n",
            " 3   real_name     75 non-null     object\n",
            " 4   title         6 non-null      object\n",
            " 5   is_bot        75 non-null     bool  \n",
            "dtypes: bool(1), object(5)\n",
            "memory usage: 3.1+ KB\n"
          ],
          "name": "stdout"
        }
      ]
    },
    {
      "cell_type": "markdown",
      "metadata": {
        "id": "SYT2uuFBpmec"
      },
      "source": [
        "# TODO#2: List Down\n",
        "Trả lời các câu hỏi sau:\n",
        "\n",
        "\n",
        "1.   Có những thông tin gì trong các bảng data ở STEP 0? Ý nghĩa của mỗi trường (Column). Hints: Đọc thêm Slack API để hiểu ý nghĩa data trả về\n",
        "2.   Data Type của mỗi trường\n",
        "3.   Có NULL không? (Non-Null Count <> entries)\n",
        "\n",
        "\n",
        "*   Ta sẽ dùng công cụ: QuickDBD cho Assignment này => Tham khảo Sample lúc mở tool\n",
        "*   Copy điền đoạn text vào tools\n",
        "\n",
        "\n",
        "\n",
        "\n"
      ]
    },
    {
      "cell_type": "code",
      "metadata": {
        "id": "hvjK0J3Qplvc"
      },
      "source": [
        "# Dtype obj: object -> string, bool, int, float\n",
        "# NULL - Nếu có null count < số entries\n",
        "\n",
        "'''\n",
        "# Ví dụ  bảng user_df \n",
        "user_df\n",
        "-\n",
        "user_id string \n",
        "name string\n",
        "display_name NULL string\n",
        "real_name string\n",
        "title NULL string\n",
        "is_bot bool\n",
        "\n",
        "# Điền tiếp các bản còn lại\n",
        "channel_df\n",
        "-\n",
        "channel_id string \n",
        "channel_name string\n",
        "is_channel bool\n",
        "creator string \n",
        "create_at datetime\n",
        "topics NULL string\n",
        "purpose NULL string\n",
        "num_members int\n",
        "\n",
        "msg_df\n",
        "-\n",
        "channel_id string \n",
        "msg_id string \n",
        "msg_ts string\n",
        "user_id string \n",
        "latest_reply datetime\n",
        "reply_user_count int\n",
        "reply_users string\n",
        "github_link NULL string\n",
        "\n",
        "'''"
      ],
      "execution_count": null,
      "outputs": []
    },
    {
      "cell_type": "markdown",
      "metadata": {
        "id": "JhMw_YV2p5hM"
      },
      "source": [
        "# STEP 3: NGUYÊN TẮC CẦN ÁP DỤNG\n"
      ]
    },
    {
      "cell_type": "markdown",
      "metadata": {
        "id": "0om2_5fpp8Or"
      },
      "source": [
        "# TODO#3: Rules & Logics\n",
        "Dựa vào các kiến nghị TODO#1 và Quan sát ở TODO#2, bạn có những đề xuất gì về rules trong vận hành để cải thiện thông tin và quan sát?\n",
        "**Về mặt vận hành**\n",
        "> Rules gì cần áp dụng cho cách thức nhập data?\n",
        "**Một số gợi ý**\n",
        "1.   Rules để cải thiện tỷ lệ NULL trong các bạn? (Ví dụ: Bắt buộc nhập các thông tin trên Slack? Có cần thiết không?)\n",
        "2.   Làm sao để xác định message nào là bài submit assigment? Message nào là review? Message vào là các nội dung không liên quan? (Ví dụ: Users để tag #submit, #review?)\n",
        "3.   ...\n",
        "**Về mặt data**\n",
        "> Logics gì cần áp dụng để kiểm tra sự hợp lý của Data?\n",
        "**Một số gợi ý**\n",
        "1.   Hai users trùng tên?\n",
        "2.   Ngày latest reply > ngày post?\n",
        "3.   Ngày post trong năm 2021 (sau khi dự án DataCracy thành lập)\n",
        "4.   Mentor Group nào sẽ chỉ post trong channel discussion của group đó?\n",
        "5.   ...\n",
        "Bạn có thể đưa các đề xuất để đưa vào vận hành nhằm cải thiện data và giúp bạn đo lường theo dõi các metrics đã được liệt kể trong TODO#1\n",
        "\n",
        "\n",
        "\n",
        "\n",
        "\n",
        "\n",
        "\n"
      ]
    },
    {
      "cell_type": "markdown",
      "metadata": {
        "id": "QuNw9_qbsgmf"
      },
      "source": [
        "**RULES khi giao tiếp trên Slack**\n",
        "\n",
        "1. Cách thức tạo User mới:\n",
        "- User nên ghi rõ thông tin như Họ tên đầy đủ và nghề nghiệp hiện tại\n",
        "\n",
        "2. Cách thức tạo messages:\n",
        "\n",
        "- Nếu messages là đóng góp, xây dựng bài cần thêm hashtag #raisehand \n",
        "- Nếu messages là câu hỏi thì cần thêm hashtag #question\n",
        "- Nếu messages là nộp bài tập thì cần thêm hashtag #submit #assignmentX\n",
        "- Nếu messages là review bài tập thì cần thêm hashtag #review\n",
        "    \n",
        "3. Cách thức nộp bài\n",
        "- Nộp đúng bài tập cần nộp vào channel đã đăng bài tập \n",
        "- Thêm hashtag vào mỗi messages tương ứng"
      ]
    },
    {
      "cell_type": "markdown",
      "metadata": {
        "id": "SHnv6GvBuOXN"
      },
      "source": [
        "**Về mặt data Logics gì cần áp dụng để kiểm tra sự hợp lý của Data? Một số gợi ý**\n",
        "\n",
        "1. Nếu có hai user trùng tên -> hệ thống check trùng -> tiếp tục check đến nghề nghiệp \n",
        "\n",
        "=> Nếu trùng họ tên và nghề nghiệp, auto 2 người này là 1\n",
        "\n",
        "=> Nếu trùng họ tên và khác nghề nghiệp, có thể 2 người này khác nhau\n",
        "\n",
        "2. Validate ngày tháng\n",
        "* Ngày submit bài tập phải lớn hơn ngày tạo channel tương ứng với bài tập đó\n",
        "* Ngày submit bài tập phải nhỏ hơn ngày tạo channel cho bài tập kế tiếp \n",
        "\n",
        "Ví dụ \n",
        "\n",
        "    - Ngày submit bài assignment 3 > ngày tạo channel #atom-assignment 3 không lớn hơn 5 ngày\n",
        "    (Giả thiết channel được tạo vào ngày chủ nhật => Tránh assignment 3 nộp vào #atom-assignment 2)\n",
        "    - Ngày submit bài assignment 3 < ngày tạo channel #atom-assignment 4\n",
        "* Ngày review bài tập phải lớn hơn ngày submit bài tập \n",
        "* Các mốc thời gian trong Slack đều phải nhỏ hơn ngày DataCracy được tạo"
      ]
    },
    {
      "cell_type": "markdown",
      "metadata": {
        "id": "4xLsF4_qrkuh"
      },
      "source": [
        "# STEP 4: TỔ CHỨC BẢNG - PRIMARY KEYS"
      ]
    },
    {
      "cell_type": "code",
      "metadata": {
        "colab": {
          "base_uri": "https://localhost:8080/"
        },
        "id": "5K6HRPS6rna1",
        "outputId": "68f9a7b7-f8be-4ccd-d079-1eebc8349740"
      },
      "source": [
        "## Hints: nunique() để check số giá trị unique của từng trường\n",
        "user_df.nunique()"
      ],
      "execution_count": 46,
      "outputs": [
        {
          "output_type": "execute_result",
          "data": {
            "text/plain": [
              "user_id         75\n",
              "name            75\n",
              "display_name    49\n",
              "real_name       73\n",
              "title            5\n",
              "is_bot           2\n",
              "dtype: int64"
            ]
          },
          "metadata": {
            "tags": []
          },
          "execution_count": 46
        }
      ]
    },
    {
      "cell_type": "markdown",
      "metadata": {
        "id": "qn6lKx-lrsVc"
      },
      "source": [
        "# TODO#4: Tables & PK\n",
        "\n",
        "\n",
        "1.   Nhìn lại diagram của TODO#2 trong Quick DBD Diagram: Có bảng nào bạn nghĩ nên gộp lại, hay tách ra không? Vì sao?\n",
        "2.   Tìm Primary Key (PK): Unique cho từng dòng và Không NULL\n",
        "\n",
        "> Primary Key (PK) là trường giá trị/ID unique cho mỗi dòng của bảng. Hay nói cách khác, không có hai dòng trùng lặp (duplicate ID).\n",
        "\n",
        "*   Fun fact để nhớ: Thử tưởng tượng nếu 2 người không quen biết, có cùng Số TK Ngân hàng :(((\n",
        "\n",
        "\n"
      ]
    },
    {
      "cell_type": "code",
      "metadata": {
        "id": "gIva_32Sr9MQ"
      },
      "source": [
        "## Copy lại phần text của TODO#2\n",
        "## Đặt PK bên cạnh col bạn chọn làm PK\n",
        "# Dtype obj: object -> string, bool, int, float\n",
        "# NULL - Nếu có null count < số entries\n",
        "\n",
        "'''\n",
        "# Ví dụ  bảng user_df \n",
        "user_df\n",
        "-\n",
        "user_id string PK\n",
        "name string\n",
        "display_name NULL string\n",
        "real_name string\n",
        "title NULL string\n",
        "is_bot bool\n",
        "\n",
        "# Điền tiếp các bản còn lại\n",
        "channel_df\n",
        "-\n",
        "channel_id string PK\n",
        "channel_name string\n",
        "is_channel bool\n",
        "creator string FK >- user_df.user_id\n",
        "create_at datetime\n",
        "topics NULL string\n",
        "purpose NULL string\n",
        "num_members int\n",
        "\n",
        "msg_df\n",
        "-\n",
        "channel_id string FK >- channel_df.channel_id\n",
        "msg_id string PK\n",
        "msg_ts string\n",
        "user_id string FK >- user_df.user_id\n",
        "latest_reply datetime\n",
        "reply_user_count int\n",
        "reply_users string\n",
        "github_link NULL string\n",
        "'''"
      ],
      "execution_count": null,
      "outputs": []
    },
    {
      "cell_type": "markdown",
      "metadata": {
        "id": "qeE9GIGSs4N3"
      },
      "source": [
        "# STEP 5: MỐI QUAN HỆ GIỮA CÁC BẢNG"
      ]
    },
    {
      "cell_type": "markdown",
      "metadata": {
        "id": "Sy7aby1As7WQ"
      },
      "source": [
        "# TODO#5: FK & Mapping¶\n",
        "Như đã giới thiệu ở phần Concept, keys quan trọng trong Relational DB vì nó thể hiện mối quan hệ giữa các bạn, thông qua key, cho phép ta nối các bảng với nhau. Bây giờ ta sẽ đi tìm FK (Foreign Key):\n",
        "\n",
        "\n",
        "> Foreign Key: Là các keys nằm trong một bảng để liên kết với PK trong bảng khác\n",
        "\n",
        "\n",
        "1.   Đâu là các ID trong bảng, nhưng không phải là PK (do thoả điều kiện unique)?\n",
        "2.   Các ID này dẫn đến PK nào trong các bảng còn lại?\n",
        "3.   Trong các key được nối với nhau, xác định kiểu quan hệ:\n",
        "\n",
        "\n",
        "*   n:1 - PK ở bảng gốc lặp lại nhiều lần (nhiều dòng) ở bản chứa FK\n",
        "*   1:1 - PK ở bảng gốc chỉ nối với 1 dòng\n",
        "\n",
        "**Ví dụ**: channel_id string FK >- channel_df.channel_id\n",
        "\n",
        "\n",
        "\n",
        "\n"
      ]
    },
    {
      "cell_type": "code",
      "metadata": {
        "id": "Dc6w1yJNs3TX"
      },
      "source": [
        "## Copy lại phần text của TODO#2\n",
        "## Đặt FK bên cạnh col bạn chọn làm FK\n",
        "## Và thể hiện mối quan hệ bằng: id >- bảng_gốc.id (FK là PK trong bảng gốc)\n",
        "'''\n",
        "# Ví dụ  bảng user_df \n",
        "user_df\n",
        "-\n",
        "user_id string\n",
        "name string\n",
        "display_name NULL string\n",
        "real_name string\n",
        "title NULL string\n",
        "is_bot bool\n",
        "\n",
        "# Điền tiếp các bản còn lại\n",
        "channel_df\n",
        "-\n",
        "channel_id string\n",
        "channel_name string\n",
        "is_channel bool\n",
        "creator string FK >- user_df.user_id\n",
        "create_at \n",
        "topics NULL string\n",
        "purpose NULL string\n",
        "num_members number\n",
        "\n",
        "msg_df\n",
        "-\n",
        "channel_id string FK >- channel_df.channel_id\n",
        "msg_id string\n",
        "msg_ts string\n",
        "user_id string\n",
        "latest_reply \n",
        "reply_user_count number\n",
        "reply_users string\n",
        "github_link NULL string\n",
        "\n",
        "'''"
      ],
      "execution_count": null,
      "outputs": []
    },
    {
      "cell_type": "markdown",
      "metadata": {
        "id": "o_cIewUBtWnn"
      },
      "source": [
        "# STEP 6: DIAGRAM & TEST\n",
        "Sau khi làm hết TODO#5 bạn sẽ được 1 DB Diagram như trong sample mẫu bên dưới (Sample này không phải của DataCracy)"
      ]
    },
    {
      "cell_type": "code",
      "metadata": {
        "colab": {
          "base_uri": "https://localhost:8080/",
          "height": 635
        },
        "id": "IzeC5kQYyepA",
        "outputId": "145e5fef-a104-4ab0-b8cb-57feb4a0de0f"
      },
      "source": [
        "from IPython.display import Image\n",
        "Image(filename='dbdiagram.png')"
      ],
      "execution_count": 47,
      "outputs": [
        {
          "output_type": "execute_result",
          "data": {
            "image/png": "[encoded data removed]",
            "text/plain": [
              "<IPython.core.display.Image object>"
            ]
          },
          "metadata": {
            "tags": []
          },
          "execution_count": 47
        }
      ]
    },
    {
      "cell_type": "code",
      "metadata": {
        "id": "u2kAZyIFtVOw"
      },
      "source": [
        "## Đoạn code dưới join 2 bảng user_df vằ dtc_groups bằng key name => Tạo thành bảng members_df\n",
        "#Để comment trong SQL dùng -- tương đường với ## trong Python\n",
        "SQL_dim_members = '''\n",
        "-- Để comment trong SQL dùng -- tương đường với ## trong Python\n",
        "CREATE TABLE members_df AS\n",
        "SELECT \n",
        "  t1.*,\n",
        "  t2.DataCracy_role\n",
        "FROM user_df AS t1\n",
        "JOIN dtc_groups AS t2\n",
        "ON t1.name = t2.name\n",
        "'''"
      ],
      "execution_count": 48,
      "outputs": []
    },
    {
      "cell_type": "code",
      "metadata": {
        "id": "No8mbAB2tbWK",
        "colab": {
          "base_uri": "https://localhost:8080/",
          "height": 347
        },
        "outputId": "cfe31e1e-1633-4084-fa7a-b6c98e4b5ad2"
      },
      "source": [
        "con = duckdb.connect(database=':memory:', read_only=False) # -> Tạo DB connection\n",
        "# create a table\n",
        "con.execute(SQL_dim_members) # -> Chạy đoạn lệch SQL\n",
        "con.execute(\"SELECT * FROM members_df LIMIT 10\").fetch_df() # -> In 10 dòng đầu tiên của bảng members_df ra Dataframe"
      ],
      "execution_count": 49,
      "outputs": [
        {
          "output_type": "execute_result",
          "data": {
            "text/html": [
              "<div>\n",
              "<style scoped>\n",
              "    .dataframe tbody tr th:only-of-type {\n",
              "        vertical-align: middle;\n",
              "    }\n",
              "\n",
              "    .dataframe tbody tr th {\n",
              "        vertical-align: top;\n",
              "    }\n",
              "\n",
              "    .dataframe thead th {\n",
              "        text-align: right;\n",
              "    }\n",
              "</style>\n",
              "<table border=\"1\" class=\"dataframe\">\n",
              "  <thead>\n",
              "    <tr style=\"text-align: right;\">\n",
              "      <th></th>\n",
              "      <th>user_id</th>\n",
              "      <th>name</th>\n",
              "      <th>display_name</th>\n",
              "      <th>real_name</th>\n",
              "      <th>title</th>\n",
              "      <th>is_bot</th>\n",
              "      <th>DataCracy_role</th>\n",
              "    </tr>\n",
              "  </thead>\n",
              "  <tbody>\n",
              "    <tr>\n",
              "      <th>0</th>\n",
              "      <td>USLACKBOT</td>\n",
              "      <td>slackbot</td>\n",
              "      <td>Slackbot</td>\n",
              "      <td>Slackbot</td>\n",
              "      <td>NaN</td>\n",
              "      <td>False</td>\n",
              "      <td>BTC</td>\n",
              "    </tr>\n",
              "    <tr>\n",
              "      <th>1</th>\n",
              "      <td>U01AT4T75JB</td>\n",
              "      <td>loclexuan26392</td>\n",
              "      <td>Loc Le Xuan</td>\n",
              "      <td>Loc Le Xuan</td>\n",
              "      <td>NaN</td>\n",
              "      <td>False</td>\n",
              "      <td>BTC</td>\n",
              "    </tr>\n",
              "    <tr>\n",
              "      <th>2</th>\n",
              "      <td>U01AVDY7JET</td>\n",
              "      <td>locle.ds</td>\n",
              "      <td>Loc Le Xuan</td>\n",
              "      <td>Loc Le Xuan</td>\n",
              "      <td>NaN</td>\n",
              "      <td>False</td>\n",
              "      <td>BTC</td>\n",
              "    </tr>\n",
              "    <tr>\n",
              "      <th>3</th>\n",
              "      <td>U01BE2PR6LU</td>\n",
              "      <td>maianhdang.ftu</td>\n",
              "      <td>MAD</td>\n",
              "      <td>Dặng Huỳnh Mai Anh</td>\n",
              "      <td>Technical Contents</td>\n",
              "      <td>False</td>\n",
              "      <td>BTC</td>\n",
              "    </tr>\n",
              "    <tr>\n",
              "      <th>4</th>\n",
              "      <td>U01C48T7S1J</td>\n",
              "      <td>huyenhoang.design</td>\n",
              "      <td>Thanh Huyen Hoang</td>\n",
              "      <td>Thanh Huyen Hoang</td>\n",
              "      <td>NaN</td>\n",
              "      <td>False</td>\n",
              "      <td>BTC</td>\n",
              "    </tr>\n",
              "    <tr>\n",
              "      <th>5</th>\n",
              "      <td>U01CMTYB7EU</td>\n",
              "      <td>dr.tringuyenzmc</td>\n",
              "      <td>NaN</td>\n",
              "      <td>Dr Tringuyenzmc</td>\n",
              "      <td>NaN</td>\n",
              "      <td>False</td>\n",
              "      <td>BTC</td>\n",
              "    </tr>\n",
              "    <tr>\n",
              "      <th>6</th>\n",
              "      <td>U01GQR2FE93</td>\n",
              "      <td>khanguyenwk</td>\n",
              "      <td>NaN</td>\n",
              "      <td>Kha Nguyen</td>\n",
              "      <td>NaN</td>\n",
              "      <td>False</td>\n",
              "      <td>Volunteer</td>\n",
              "    </tr>\n",
              "    <tr>\n",
              "      <th>7</th>\n",
              "      <td>U01HARCHNKU</td>\n",
              "      <td>linhphan</td>\n",
              "      <td>NaN</td>\n",
              "      <td>Phan Linh</td>\n",
              "      <td>NaN</td>\n",
              "      <td>False</td>\n",
              "      <td>BTC</td>\n",
              "    </tr>\n",
              "    <tr>\n",
              "      <th>8</th>\n",
              "      <td>U01JQ5TUP0B</td>\n",
              "      <td>tt.thuchuyen</td>\n",
              "      <td>NaN</td>\n",
              "      <td>Tt Thuchuyen</td>\n",
              "      <td>NaN</td>\n",
              "      <td>False</td>\n",
              "      <td>BTC</td>\n",
              "    </tr>\n",
              "    <tr>\n",
              "      <th>9</th>\n",
              "      <td>U01JQ5U1RPV</td>\n",
              "      <td>thuongthuong.dv</td>\n",
              "      <td>NaN</td>\n",
              "      <td>Thuong Do</td>\n",
              "      <td>NaN</td>\n",
              "      <td>False</td>\n",
              "      <td>BTC</td>\n",
              "    </tr>\n",
              "  </tbody>\n",
              "</table>\n",
              "</div>"
            ],
            "text/plain": [
              "       user_id               name  ... is_bot DataCracy_role\n",
              "0    USLACKBOT           slackbot  ...  False            BTC\n",
              "1  U01AT4T75JB     loclexuan26392  ...  False            BTC\n",
              "2  U01AVDY7JET           locle.ds  ...  False            BTC\n",
              "3  U01BE2PR6LU     maianhdang.ftu  ...  False            BTC\n",
              "4  U01C48T7S1J  huyenhoang.design  ...  False            BTC\n",
              "5  U01CMTYB7EU    dr.tringuyenzmc  ...  False            BTC\n",
              "6  U01GQR2FE93        khanguyenwk  ...  False      Volunteer\n",
              "7  U01HARCHNKU           linhphan  ...  False            BTC\n",
              "8  U01JQ5TUP0B       tt.thuchuyen  ...  False            BTC\n",
              "9  U01JQ5U1RPV    thuongthuong.dv  ...  False            BTC\n",
              "\n",
              "[10 rows x 7 columns]"
            ]
          },
          "metadata": {
            "tags": []
          },
          "execution_count": 49
        }
      ]
    },
    {
      "cell_type": "code",
      "metadata": {
        "colab": {
          "base_uri": "https://localhost:8080/",
          "height": 281
        },
        "id": "IWXg1SBbqSUp",
        "outputId": "56aab5e7-f9c5-4324-f305-739f7c49601b"
      },
      "source": [
        "con.execute(\"SELECT * FROM channel_df LIMIT 5\").fetch_df() # -> In 5 dòng đầu tiên của bảng channel_df ra Dataframe"
      ],
      "execution_count": 50,
      "outputs": [
        {
          "output_type": "execute_result",
          "data": {
            "text/html": [
              "<div>\n",
              "<style scoped>\n",
              "    .dataframe tbody tr th:only-of-type {\n",
              "        vertical-align: middle;\n",
              "    }\n",
              "\n",
              "    .dataframe tbody tr th {\n",
              "        vertical-align: top;\n",
              "    }\n",
              "\n",
              "    .dataframe thead th {\n",
              "        text-align: right;\n",
              "    }\n",
              "</style>\n",
              "<table border=\"1\" class=\"dataframe\">\n",
              "  <thead>\n",
              "    <tr style=\"text-align: right;\">\n",
              "      <th></th>\n",
              "      <th>channel_id</th>\n",
              "      <th>channel_name</th>\n",
              "      <th>is_channel</th>\n",
              "      <th>creator</th>\n",
              "      <th>created_at</th>\n",
              "      <th>topics</th>\n",
              "      <th>purpose</th>\n",
              "      <th>num_members</th>\n",
              "    </tr>\n",
              "  </thead>\n",
              "  <tbody>\n",
              "    <tr>\n",
              "      <th>0</th>\n",
              "      <td>C01B4PVGLVB</td>\n",
              "      <td>general</td>\n",
              "      <td>True</td>\n",
              "      <td>U01BE2PR6LU</td>\n",
              "      <td>2020-09-23 10:25:03</td>\n",
              "      <td>NaN</td>\n",
              "      <td>This is the one channel that will always inclu...</td>\n",
              "      <td>65</td>\n",
              "    </tr>\n",
              "    <tr>\n",
              "      <th>1</th>\n",
              "      <td>C01BYH7JHB5</td>\n",
              "      <td>contents</td>\n",
              "      <td>True</td>\n",
              "      <td>U01BE2PR6LU</td>\n",
              "      <td>2020-10-05 07:28:09</td>\n",
              "      <td>NaN</td>\n",
              "      <td>NaN</td>\n",
              "      <td>12</td>\n",
              "    </tr>\n",
              "    <tr>\n",
              "      <th>2</th>\n",
              "      <td>C01CAMNCJJV</td>\n",
              "      <td>branding-design</td>\n",
              "      <td>True</td>\n",
              "      <td>U01AVDY7JET</td>\n",
              "      <td>2020-10-05 03:16:30</td>\n",
              "      <td>NaN</td>\n",
              "      <td>NaN</td>\n",
              "      <td>9</td>\n",
              "    </tr>\n",
              "    <tr>\n",
              "      <th>3</th>\n",
              "      <td>C01U6P7LZ8F</td>\n",
              "      <td>atom-assignment1</td>\n",
              "      <td>True</td>\n",
              "      <td>U01BE2PR6LU</td>\n",
              "      <td>2021-04-17 07:00:04</td>\n",
              "      <td>Assigment#1 - Python Basics &amp;amp; Spreadsheet ...</td>\n",
              "      <td>Where learners submit assignments and give rev...</td>\n",
              "      <td>44</td>\n",
              "    </tr>\n",
              "    <tr>\n",
              "      <th>4</th>\n",
              "      <td>C01UL6K1C7L</td>\n",
              "      <td>atom-week1</td>\n",
              "      <td>True</td>\n",
              "      <td>U01BE2PR6LU</td>\n",
              "      <td>2021-04-16 17:44:32</td>\n",
              "      <td>TOPIC: Data Strategy. Metrics Design. Spreadsh...</td>\n",
              "      <td>TOPIC: Data Strategy. Metrics Design. Spreadsh...</td>\n",
              "      <td>43</td>\n",
              "    </tr>\n",
              "  </tbody>\n",
              "</table>\n",
              "</div>"
            ],
            "text/plain": [
              "    channel_id  ... num_members\n",
              "0  C01B4PVGLVB  ...          65\n",
              "1  C01BYH7JHB5  ...          12\n",
              "2  C01CAMNCJJV  ...           9\n",
              "3  C01U6P7LZ8F  ...          44\n",
              "4  C01UL6K1C7L  ...          43\n",
              "\n",
              "[5 rows x 8 columns]"
            ]
          },
          "metadata": {
            "tags": []
          },
          "execution_count": 50
        }
      ]
    },
    {
      "cell_type": "code",
      "metadata": {
        "colab": {
          "base_uri": "https://localhost:8080/",
          "height": 281
        },
        "id": "bnSs-5mHJooK",
        "outputId": "14f7e46c-c7cd-4bf7-b1b7-f356d82fe107"
      },
      "source": [
        "con.execute(\"SELECT * FROM msg_df LIMIT 5\").fetch_df() # -> In 5 dòng đầu tiên của bảng msg_df ra Dataframe"
      ],
      "execution_count": 51,
      "outputs": [
        {
          "output_type": "execute_result",
          "data": {
            "text/html": [
              "<div>\n",
              "<style scoped>\n",
              "    .dataframe tbody tr th:only-of-type {\n",
              "        vertical-align: middle;\n",
              "    }\n",
              "\n",
              "    .dataframe tbody tr th {\n",
              "        vertical-align: top;\n",
              "    }\n",
              "\n",
              "    .dataframe thead th {\n",
              "        text-align: right;\n",
              "    }\n",
              "</style>\n",
              "<table border=\"1\" class=\"dataframe\">\n",
              "  <thead>\n",
              "    <tr style=\"text-align: right;\">\n",
              "      <th></th>\n",
              "      <th>channel_id</th>\n",
              "      <th>msg_id</th>\n",
              "      <th>msg_ts</th>\n",
              "      <th>user_id</th>\n",
              "      <th>latest_reply</th>\n",
              "      <th>reply_user_count</th>\n",
              "      <th>reply_users</th>\n",
              "      <th>github_link</th>\n",
              "    </tr>\n",
              "  </thead>\n",
              "  <tbody>\n",
              "    <tr>\n",
              "      <th>0</th>\n",
              "      <td>C01B4PVGLVB</td>\n",
              "      <td>48ba219d-fda8-40f2-be65-00735c058071</td>\n",
              "      <td>2021-05-25 04:59:27.000600</td>\n",
              "      <td>U01BE2PR6LU</td>\n",
              "      <td>2021-05-25 06:04:44.006500</td>\n",
              "      <td>4</td>\n",
              "      <td>NaN</td>\n",
              "      <td>NaN</td>\n",
              "    </tr>\n",
              "    <tr>\n",
              "      <th>1</th>\n",
              "      <td>C01B4PVGLVB</td>\n",
              "      <td>89919b55-bfe9-4c15-bf45-3021048c7c28</td>\n",
              "      <td>2021-05-24 11:49:08.061100</td>\n",
              "      <td>U01BE2PR6LU</td>\n",
              "      <td>1970-01-01 00:00:00.000000</td>\n",
              "      <td>0</td>\n",
              "      <td>NaN</td>\n",
              "      <td>NaN</td>\n",
              "    </tr>\n",
              "    <tr>\n",
              "      <th>2</th>\n",
              "      <td>C01B4PVGLVB</td>\n",
              "      <td>18467584-5810-4bb9-80fe-4b92af9b28d0</td>\n",
              "      <td>2021-05-23 16:26:04.057000</td>\n",
              "      <td>U01UTGT8CVA</td>\n",
              "      <td>2021-05-24 08:36:52.058100</td>\n",
              "      <td>2</td>\n",
              "      <td>NaN</td>\n",
              "      <td>NaN</td>\n",
              "    </tr>\n",
              "    <tr>\n",
              "      <th>3</th>\n",
              "      <td>C01B4PVGLVB</td>\n",
              "      <td>dfd2bf1a-69a1-4ac3-aacb-e2daaae8cc04</td>\n",
              "      <td>2021-05-23 07:57:36.055300</td>\n",
              "      <td>U01BE2PR6LU</td>\n",
              "      <td>1970-01-01 00:00:00.000000</td>\n",
              "      <td>0</td>\n",
              "      <td>NaN</td>\n",
              "      <td>NaN</td>\n",
              "    </tr>\n",
              "    <tr>\n",
              "      <th>4</th>\n",
              "      <td>C01B4PVGLVB</td>\n",
              "      <td>fd5d6cf7-415c-459a-818c-72835fd2479a</td>\n",
              "      <td>2021-05-22 23:28:27.053900</td>\n",
              "      <td>U01BE2PR6LU</td>\n",
              "      <td>1970-01-01 00:00:00.000000</td>\n",
              "      <td>0</td>\n",
              "      <td>NaN</td>\n",
              "      <td>NaN</td>\n",
              "    </tr>\n",
              "  </tbody>\n",
              "</table>\n",
              "</div>"
            ],
            "text/plain": [
              "    channel_id                                msg_id  ... reply_users github_link\n",
              "0  C01B4PVGLVB  48ba219d-fda8-40f2-be65-00735c058071  ...         NaN         NaN\n",
              "1  C01B4PVGLVB  89919b55-bfe9-4c15-bf45-3021048c7c28  ...         NaN         NaN\n",
              "2  C01B4PVGLVB  18467584-5810-4bb9-80fe-4b92af9b28d0  ...         NaN         NaN\n",
              "3  C01B4PVGLVB  dfd2bf1a-69a1-4ac3-aacb-e2daaae8cc04  ...         NaN         NaN\n",
              "4  C01B4PVGLVB  fd5d6cf7-415c-459a-818c-72835fd2479a  ...         NaN         NaN\n",
              "\n",
              "[5 rows x 8 columns]"
            ]
          },
          "metadata": {
            "tags": []
          },
          "execution_count": 51
        }
      ]
    },
    {
      "cell_type": "code",
      "metadata": {
        "colab": {
          "base_uri": "https://localhost:8080/",
          "height": 467
        },
        "id": "sARvrhbqJ9dx",
        "outputId": "f896c3c6-2b4d-42a8-c74d-6922577e36bc"
      },
      "source": [
        "## Đoạn code dưới: Theo từng channel, count số message (phải join với bảng channel_df để lấy tên channel)\n",
        "SQL = '''\n",
        "SELECT \n",
        "  ch.channel_name,\n",
        "  COUNT(DISTINCT ms.msg_id) AS msg_cnt\n",
        "FROM msg_df AS ms\n",
        "JOIN channel_df AS ch\n",
        "ON ms.channel_id = ch.channel_id\n",
        "GROUP BY ch.channel_name \n",
        "ORDER BY COUNT(DISTINCT ms.msg_id) DESC\n",
        "'''\n",
        "con.execute(SQL).fetch_df()"
      ],
      "execution_count": 55,
      "outputs": [
        {
          "output_type": "execute_result",
          "data": {
            "text/html": [
              "<div>\n",
              "<style scoped>\n",
              "    .dataframe tbody tr th:only-of-type {\n",
              "        vertical-align: middle;\n",
              "    }\n",
              "\n",
              "    .dataframe tbody tr th {\n",
              "        vertical-align: top;\n",
              "    }\n",
              "\n",
              "    .dataframe thead th {\n",
              "        text-align: right;\n",
              "    }\n",
              "</style>\n",
              "<table border=\"1\" class=\"dataframe\">\n",
              "  <thead>\n",
              "    <tr style=\"text-align: right;\">\n",
              "      <th></th>\n",
              "      <th>channel_name</th>\n",
              "      <th>msg_cnt</th>\n",
              "    </tr>\n",
              "  </thead>\n",
              "  <tbody>\n",
              "    <tr>\n",
              "      <th>0</th>\n",
              "      <td>general</td>\n",
              "      <td>42</td>\n",
              "    </tr>\n",
              "    <tr>\n",
              "      <th>1</th>\n",
              "      <td>atom-assignment1</td>\n",
              "      <td>42</td>\n",
              "    </tr>\n",
              "    <tr>\n",
              "      <th>2</th>\n",
              "      <td>atom-assignment2</td>\n",
              "      <td>42</td>\n",
              "    </tr>\n",
              "    <tr>\n",
              "      <th>3</th>\n",
              "      <td>atom-assignment3</td>\n",
              "      <td>38</td>\n",
              "    </tr>\n",
              "    <tr>\n",
              "      <th>4</th>\n",
              "      <td>discuss-group1</td>\n",
              "      <td>32</td>\n",
              "    </tr>\n",
              "    <tr>\n",
              "      <th>5</th>\n",
              "      <td>discuss-group3</td>\n",
              "      <td>16</td>\n",
              "    </tr>\n",
              "    <tr>\n",
              "      <th>6</th>\n",
              "      <td>topics-python</td>\n",
              "      <td>13</td>\n",
              "    </tr>\n",
              "    <tr>\n",
              "      <th>7</th>\n",
              "      <td>discuss-group4</td>\n",
              "      <td>11</td>\n",
              "    </tr>\n",
              "    <tr>\n",
              "      <th>8</th>\n",
              "      <td>atom-assignment4</td>\n",
              "      <td>9</td>\n",
              "    </tr>\n",
              "    <tr>\n",
              "      <th>9</th>\n",
              "      <td>atom-week1</td>\n",
              "      <td>6</td>\n",
              "    </tr>\n",
              "    <tr>\n",
              "      <th>10</th>\n",
              "      <td>discuss-group2</td>\n",
              "      <td>6</td>\n",
              "    </tr>\n",
              "    <tr>\n",
              "      <th>11</th>\n",
              "      <td>topics-materials</td>\n",
              "      <td>3</td>\n",
              "    </tr>\n",
              "    <tr>\n",
              "      <th>12</th>\n",
              "      <td>atom-week3</td>\n",
              "      <td>2</td>\n",
              "    </tr>\n",
              "    <tr>\n",
              "      <th>13</th>\n",
              "      <td>atom-week4</td>\n",
              "      <td>2</td>\n",
              "    </tr>\n",
              "  </tbody>\n",
              "</table>\n",
              "</div>"
            ],
            "text/plain": [
              "        channel_name  msg_cnt\n",
              "0            general       42\n",
              "1   atom-assignment1       42\n",
              "2   atom-assignment2       42\n",
              "3   atom-assignment3       38\n",
              "4     discuss-group1       32\n",
              "5     discuss-group3       16\n",
              "6      topics-python       13\n",
              "7     discuss-group4       11\n",
              "8   atom-assignment4        9\n",
              "9         atom-week1        6\n",
              "10    discuss-group2        6\n",
              "11  topics-materials        3\n",
              "12        atom-week3        2\n",
              "13        atom-week4        2"
            ]
          },
          "metadata": {
            "tags": []
          },
          "execution_count": 55
        }
      ]
    },
    {
      "cell_type": "code",
      "metadata": {
        "colab": {
          "base_uri": "https://localhost:8080/",
          "height": 137
        },
        "id": "ZMFjzmN1KCKk",
        "outputId": "b7bf1ba9-b676-4aff-af46-19bf3f23fdc1"
      },
      "source": [
        "## Đoạn code dưới: Lấy top 3 mentors post nhiều message nhất trong discuss-group của các nhóm\n",
        "SQL = '''\n",
        "WITH msg_cnt AS (\n",
        "  SELECT \n",
        "    user_id,\n",
        "    channel_id,\n",
        "    COUNT(msg_id) AS msg_cnt\n",
        "  FROM msg_df \n",
        "  GROUP BY 1, 2\n",
        ")\n",
        "SELECT\n",
        "  mb.real_name,\n",
        "  ch.channel_name,\n",
        "  ms.msg_cnt,\n",
        "  mb.DataCracy_role\n",
        "FROM msg_cnt AS ms\n",
        "JOIN members_df AS mb \n",
        "ON ms.user_id = mb.user_id\n",
        "JOIN channel_df AS ch \n",
        "ON ms.channel_id = ch.channel_id\n",
        "WHERE mb.DataCracy_role LIKE 'Mentor%'\n",
        "AND ch.channel_name LIKE 'discuss-group%' \n",
        "ORDER BY ms.msg_cnt DESC \n",
        "LIMIT 3 \n",
        "'''\n",
        "con.execute(SQL).fetch_df()"
      ],
      "execution_count": 57,
      "outputs": [
        {
          "output_type": "execute_result",
          "data": {
            "text/html": [
              "<div>\n",
              "<style scoped>\n",
              "    .dataframe tbody tr th:only-of-type {\n",
              "        vertical-align: middle;\n",
              "    }\n",
              "\n",
              "    .dataframe tbody tr th {\n",
              "        vertical-align: top;\n",
              "    }\n",
              "\n",
              "    .dataframe thead th {\n",
              "        text-align: right;\n",
              "    }\n",
              "</style>\n",
              "<table border=\"1\" class=\"dataframe\">\n",
              "  <thead>\n",
              "    <tr style=\"text-align: right;\">\n",
              "      <th></th>\n",
              "      <th>real_name</th>\n",
              "      <th>channel_name</th>\n",
              "      <th>msg_cnt</th>\n",
              "      <th>DataCracy_role</th>\n",
              "    </tr>\n",
              "  </thead>\n",
              "  <tbody>\n",
              "    <tr>\n",
              "      <th>0</th>\n",
              "      <td>Phu NDT</td>\n",
              "      <td>discuss-group1</td>\n",
              "      <td>11</td>\n",
              "      <td>Mentor_Gr1</td>\n",
              "    </tr>\n",
              "    <tr>\n",
              "      <th>1</th>\n",
              "      <td>Nguyễn Quang Long</td>\n",
              "      <td>discuss-group3</td>\n",
              "      <td>9</td>\n",
              "      <td>Mentor_Gr3</td>\n",
              "    </tr>\n",
              "    <tr>\n",
              "      <th>2</th>\n",
              "      <td>Thuy Nguyen</td>\n",
              "      <td>discuss-group4</td>\n",
              "      <td>4</td>\n",
              "      <td>Mentor_Gr4</td>\n",
              "    </tr>\n",
              "  </tbody>\n",
              "</table>\n",
              "</div>"
            ],
            "text/plain": [
              "           real_name    channel_name  msg_cnt DataCracy_role\n",
              "0            Phu NDT  discuss-group1       11     Mentor_Gr1\n",
              "1  Nguyễn Quang Long  discuss-group3        9     Mentor_Gr3\n",
              "2        Thuy Nguyen  discuss-group4        4     Mentor_Gr4"
            ]
          },
          "metadata": {
            "tags": []
          },
          "execution_count": 57
        }
      ]
    },
    {
      "cell_type": "markdown",
      "metadata": {
        "id": "mfHK4xtMKxlm"
      },
      "source": [
        "# TODO#6: SQL"
      ]
    },
    {
      "cell_type": "code",
      "metadata": {
        "colab": {
          "base_uri": "https://localhost:8080/",
          "height": 347
        },
        "id": "zuO66NAwmYXD",
        "outputId": "dbf3a20c-cea7-43b4-e45a-5465efaecd30"
      },
      "source": [
        "assignment = '''\n",
        "SELECT * \n",
        "  FROM msg_df \n",
        "  WHERE channel_id IN (\n",
        "    SELECT channel_id\n",
        "    FROM channel_df\n",
        "    WHERE channel_name like 'atom_assignment%'\n",
        "    GROUP BY channel_id\n",
        "  )\n",
        "  AND user_id IN (\n",
        "    SELECT user_id \n",
        "    FROM members_df \n",
        "    WHERE DataCracy_role like 'Learner%'\n",
        "    GROUP BY user_id\n",
        "  )\n",
        "'''\n",
        "con.register('assignment', con.execute(assignment).fetch_df())\n",
        "\n",
        "SQL_1 = '''\n",
        "WITH best_msg AS (\n",
        "  SELECT\n",
        "    channel_id,\n",
        "    user_id,\n",
        "    COUNT(msg_id) AS msg_cnt\n",
        "  FROM msg_df\n",
        "  GROUP BY 1, 2\n",
        ")\n",
        "SELECT \n",
        "  ch.channel_name, \n",
        "  mb.name,\n",
        "  bs.msg_cnt,\n",
        "  mb.DataCracy_role\n",
        "FROM best_msg AS bs\n",
        "JOIN channel_df AS ch\n",
        "ON ch.channel_id = bs.channel_id\n",
        "JOIN members_df AS mb\n",
        "ON bs.user_id = mb.user_id\n",
        "WHERE mb.DataCracy_role LIKE 'Learner%'\n",
        "ORDER BY bs.msg_cnt DESC\n",
        "LIMIT 10\n",
        "'''\n",
        "\n",
        "con.execute(SQL_1).fetch_df()"
      ],
      "execution_count": 63,
      "outputs": [
        {
          "output_type": "execute_result",
          "data": {
            "text/html": [
              "<div>\n",
              "<style scoped>\n",
              "    .dataframe tbody tr th:only-of-type {\n",
              "        vertical-align: middle;\n",
              "    }\n",
              "\n",
              "    .dataframe tbody tr th {\n",
              "        vertical-align: top;\n",
              "    }\n",
              "\n",
              "    .dataframe thead th {\n",
              "        text-align: right;\n",
              "    }\n",
              "</style>\n",
              "<table border=\"1\" class=\"dataframe\">\n",
              "  <thead>\n",
              "    <tr style=\"text-align: right;\">\n",
              "      <th></th>\n",
              "      <th>channel_name</th>\n",
              "      <th>name</th>\n",
              "      <th>msg_cnt</th>\n",
              "      <th>DataCracy_role</th>\n",
              "    </tr>\n",
              "  </thead>\n",
              "  <tbody>\n",
              "    <tr>\n",
              "      <th>0</th>\n",
              "      <td>discuss-group1</td>\n",
              "      <td>chuviethong.vn</td>\n",
              "      <td>11</td>\n",
              "      <td>Learner_Gr1</td>\n",
              "    </tr>\n",
              "    <tr>\n",
              "      <th>1</th>\n",
              "      <td>atom-assignment3</td>\n",
              "      <td>hanh.nguyenhong2511</td>\n",
              "      <td>4</td>\n",
              "      <td>Learner_Gr4</td>\n",
              "    </tr>\n",
              "    <tr>\n",
              "      <th>2</th>\n",
              "      <td>topics-python</td>\n",
              "      <td>levy6543</td>\n",
              "      <td>3</td>\n",
              "      <td>Learner_Gr4</td>\n",
              "    </tr>\n",
              "    <tr>\n",
              "      <th>3</th>\n",
              "      <td>atom-assignment1</td>\n",
              "      <td>hanh.nguyenhong2511</td>\n",
              "      <td>2</td>\n",
              "      <td>Learner_Gr4</td>\n",
              "    </tr>\n",
              "    <tr>\n",
              "      <th>4</th>\n",
              "      <td>atom-assignment1</td>\n",
              "      <td>danhpcv</td>\n",
              "      <td>2</td>\n",
              "      <td>Learner_Gr3</td>\n",
              "    </tr>\n",
              "    <tr>\n",
              "      <th>5</th>\n",
              "      <td>discuss-group2</td>\n",
              "      <td>ngocha.nt1476</td>\n",
              "      <td>2</td>\n",
              "      <td>Learner_Gr2</td>\n",
              "    </tr>\n",
              "    <tr>\n",
              "      <th>6</th>\n",
              "      <td>atom-assignment2</td>\n",
              "      <td>hanh.nguyenhong2511</td>\n",
              "      <td>2</td>\n",
              "      <td>Learner_Gr4</td>\n",
              "    </tr>\n",
              "    <tr>\n",
              "      <th>7</th>\n",
              "      <td>atom-assignment1</td>\n",
              "      <td>chuviethong.vn</td>\n",
              "      <td>2</td>\n",
              "      <td>Learner_Gr1</td>\n",
              "    </tr>\n",
              "    <tr>\n",
              "      <th>8</th>\n",
              "      <td>atom-assignment1</td>\n",
              "      <td>tranquan030894</td>\n",
              "      <td>2</td>\n",
              "      <td>Learner_Gr4</td>\n",
              "    </tr>\n",
              "    <tr>\n",
              "      <th>9</th>\n",
              "      <td>atom-week1</td>\n",
              "      <td>nvlinh.dth</td>\n",
              "      <td>2</td>\n",
              "      <td>Learner_Gr1</td>\n",
              "    </tr>\n",
              "  </tbody>\n",
              "</table>\n",
              "</div>"
            ],
            "text/plain": [
              "       channel_name                 name  msg_cnt DataCracy_role\n",
              "0    discuss-group1       chuviethong.vn       11    Learner_Gr1\n",
              "1  atom-assignment3  hanh.nguyenhong2511        4    Learner_Gr4\n",
              "2     topics-python             levy6543        3    Learner_Gr4\n",
              "3  atom-assignment1  hanh.nguyenhong2511        2    Learner_Gr4\n",
              "4  atom-assignment1              danhpcv        2    Learner_Gr3\n",
              "5    discuss-group2        ngocha.nt1476        2    Learner_Gr2\n",
              "6  atom-assignment2  hanh.nguyenhong2511        2    Learner_Gr4\n",
              "7  atom-assignment1       chuviethong.vn        2    Learner_Gr1\n",
              "8  atom-assignment1       tranquan030894        2    Learner_Gr4\n",
              "9        atom-week1           nvlinh.dth        2    Learner_Gr1"
            ]
          },
          "metadata": {
            "tags": []
          },
          "execution_count": 63
        }
      ]
    },
    {
      "cell_type": "code",
      "metadata": {
        "colab": {
          "base_uri": "https://localhost:8080/",
          "height": 77
        },
        "id": "gOlnZCinyk0F",
        "outputId": "1f14fafe-61a6-4c75-9281-df0e7b98e9cd"
      },
      "source": [
        "#Learners groups nào hoạt động tích cực trên Slack nhất? (tính theo message count)?\n",
        "SQL_1 = '''\n",
        "SELECT DataCracy_role, COUNT(msg_id) AS 'msg_cnt'\n",
        "FROM members_df mb JOIN msg_df ms ON mb.user_id = ms.user_id\n",
        "\n",
        "WHERE DataCracy_role like 'Learner%' AND 'msg_cnt'= (SELECT MAX('msg_cnt')\n",
        "                                                        FROM members_df mb JOIN msg_df ms ON mb.user_id = ms.user_id\n",
        "                                                        WHERE DataCracy_role LIKE 'Learner%'\n",
        "                                                        GROUP BY DataCracy_role)\n",
        "GROUP BY DataCracy_role        \n",
        "ORDER BY msg_cnt DESC LIMIT 1        \n",
        "'''\n",
        "con.execute(SQL_1).fetch_df()"
      ],
      "execution_count": 64,
      "outputs": [
        {
          "output_type": "execute_result",
          "data": {
            "text/html": [
              "<div>\n",
              "<style scoped>\n",
              "    .dataframe tbody tr th:only-of-type {\n",
              "        vertical-align: middle;\n",
              "    }\n",
              "\n",
              "    .dataframe tbody tr th {\n",
              "        vertical-align: top;\n",
              "    }\n",
              "\n",
              "    .dataframe thead th {\n",
              "        text-align: right;\n",
              "    }\n",
              "</style>\n",
              "<table border=\"1\" class=\"dataframe\">\n",
              "  <thead>\n",
              "    <tr style=\"text-align: right;\">\n",
              "      <th></th>\n",
              "      <th>DataCracy_role</th>\n",
              "      <th>msg_cnt</th>\n",
              "    </tr>\n",
              "  </thead>\n",
              "  <tbody>\n",
              "    <tr>\n",
              "      <th>0</th>\n",
              "      <td>Learner_Gr4</td>\n",
              "      <td>45</td>\n",
              "    </tr>\n",
              "  </tbody>\n",
              "</table>\n",
              "</div>"
            ],
            "text/plain": [
              "  DataCracy_role  msg_cnt\n",
              "0    Learner_Gr4       45"
            ]
          },
          "metadata": {
            "tags": []
          },
          "execution_count": 64
        }
      ]
    },
    {
      "cell_type": "code",
      "metadata": {
        "id": "WoRUB3ToRr-m",
        "colab": {
          "base_uri": "https://localhost:8080/",
          "height": 77
        },
        "outputId": "cc989ebb-80b5-4e69-ea0d-5a6a50f03606"
      },
      "source": [
        "SQL_2_1 = '''\n",
        "SELECT ms.user_id, mb.real_name, DataCracy_role, channel_name\n",
        "\n",
        "FROM members_df mb JOIN msg_df ms on mb.user_id = ms.user_id\n",
        "JOIN channel_df ch ON ch.channel_id=ms.channel_id\n",
        "\n",
        "WHERE ms.msg_ts = (SELECT Min(ms.msg_ts) \n",
        "                    FROM msg_df ms join channel_df ch ON ms.channel_id = ch.channel_id \n",
        "                        JOIN members_df mb ON mb.user_id = ms.user_id\n",
        "                    WHERE ch.channel_name = 'atom-assignment1' AND ms.github_link != 'NaN' \n",
        "                        AND mb.DataCracy_role like 'Learner%' )\n",
        "'''\n",
        "con.execute(SQL_2_1).fetch_df()"
      ],
      "execution_count": 67,
      "outputs": [
        {
          "output_type": "execute_result",
          "data": {
            "text/html": [
              "<div>\n",
              "<style scoped>\n",
              "    .dataframe tbody tr th:only-of-type {\n",
              "        vertical-align: middle;\n",
              "    }\n",
              "\n",
              "    .dataframe tbody tr th {\n",
              "        vertical-align: top;\n",
              "    }\n",
              "\n",
              "    .dataframe thead th {\n",
              "        text-align: right;\n",
              "    }\n",
              "</style>\n",
              "<table border=\"1\" class=\"dataframe\">\n",
              "  <thead>\n",
              "    <tr style=\"text-align: right;\">\n",
              "      <th></th>\n",
              "      <th>user_id</th>\n",
              "      <th>real_name</th>\n",
              "      <th>DataCracy_role</th>\n",
              "      <th>channel_name</th>\n",
              "    </tr>\n",
              "  </thead>\n",
              "  <tbody>\n",
              "    <tr>\n",
              "      <th>0</th>\n",
              "      <td>U01UMJ5AQ0K</td>\n",
              "      <td>Hưng Dương Phan Nam</td>\n",
              "      <td>Learner_Gr1</td>\n",
              "      <td>atom-assignment1</td>\n",
              "    </tr>\n",
              "  </tbody>\n",
              "</table>\n",
              "</div>"
            ],
            "text/plain": [
              "       user_id            real_name DataCracy_role      channel_name\n",
              "0  U01UMJ5AQ0K  Hưng Dương Phan Nam    Learner_Gr1  atom-assignment1"
            ]
          },
          "metadata": {
            "tags": []
          },
          "execution_count": 67
        }
      ]
    },
    {
      "cell_type": "code",
      "metadata": {
        "colab": {
          "base_uri": "https://localhost:8080/",
          "height": 77
        },
        "id": "tQiLsBoDDcNd",
        "outputId": "02d590ac-29e9-4b9f-93e6-88a6793ce0b4"
      },
      "source": [
        "SQL_2_2 = '''\n",
        "SELECT ms.user_id, mb.real_name, DataCracy_role, channel_name\n",
        "\n",
        "FROM members_df mb join msg_df ms ON mb.user_id = ms.user_id\n",
        "JOIN channel_df ch ON ch.channel_id=ms.channel_id\n",
        "\n",
        "WHERE ms.msg_ts = (SELECT Min(ms.msg_ts) \n",
        "                    FROM msg_df ms join channel_df ch ON ms.channel_id = ch.channel_id \n",
        "                        join members_df mb ON mb.user_id = ms.user_id\n",
        "                    WHERE ch.channel_name = 'atom-assignment2' AND ms.github_link != 'NaN' \n",
        "                        AND mb.DataCracy_role like 'Learner%' )\n",
        "'''\n",
        "con.execute(SQL_2_2).fetch_df()"
      ],
      "execution_count": 69,
      "outputs": [
        {
          "output_type": "execute_result",
          "data": {
            "text/html": [
              "<div>\n",
              "<style scoped>\n",
              "    .dataframe tbody tr th:only-of-type {\n",
              "        vertical-align: middle;\n",
              "    }\n",
              "\n",
              "    .dataframe tbody tr th {\n",
              "        vertical-align: top;\n",
              "    }\n",
              "\n",
              "    .dataframe thead th {\n",
              "        text-align: right;\n",
              "    }\n",
              "</style>\n",
              "<table border=\"1\" class=\"dataframe\">\n",
              "  <thead>\n",
              "    <tr style=\"text-align: right;\">\n",
              "      <th></th>\n",
              "      <th>user_id</th>\n",
              "      <th>real_name</th>\n",
              "      <th>DataCracy_role</th>\n",
              "      <th>channel_name</th>\n",
              "    </tr>\n",
              "  </thead>\n",
              "  <tbody>\n",
              "    <tr>\n",
              "      <th>0</th>\n",
              "      <td>U01UQGZHSTZ</td>\n",
              "      <td>Toan Tran</td>\n",
              "      <td>Learner_Gr2</td>\n",
              "      <td>atom-assignment2</td>\n",
              "    </tr>\n",
              "  </tbody>\n",
              "</table>\n",
              "</div>"
            ],
            "text/plain": [
              "       user_id  real_name DataCracy_role      channel_name\n",
              "0  U01UQGZHSTZ  Toan Tran    Learner_Gr2  atom-assignment2"
            ]
          },
          "metadata": {
            "tags": []
          },
          "execution_count": 69
        }
      ]
    },
    {
      "cell_type": "code",
      "metadata": {
        "colab": {
          "base_uri": "https://localhost:8080/",
          "height": 77
        },
        "id": "AONZpVeNDvL-",
        "outputId": "540a363f-c41e-49a9-86c2-5bcec4c8da16"
      },
      "source": [
        "SQL_2_3 = '''\n",
        "SELECT ms.user_id, mb.real_name, DataCracy_role, channel_name\n",
        "\n",
        "FROM members_df mb JOIN msg_df ms ON mb.user_id = ms.user_id\n",
        "JOIN channel_df ch ON ch.channel_id=ms.channel_id\n",
        "\n",
        "WHERE ms.msg_ts = (SELECT MIN(ms.msg_ts) \n",
        "                    FROM msg_df ms join channel_df ch ON ms.channel_id = ch.channel_id \n",
        "                        join members_df mb ON mb.user_id = ms.user_id\n",
        "                    WHERE ch.channel_name = 'atom-assignment3' AND ms.github_link != 'NaN' \n",
        "                        AND mb.DataCracy_role like 'Learner%' )\n",
        "'''\n",
        "con.execute(SQL_2_3).fetch_df()"
      ],
      "execution_count": 70,
      "outputs": [
        {
          "output_type": "execute_result",
          "data": {
            "text/html": [
              "<div>\n",
              "<style scoped>\n",
              "    .dataframe tbody tr th:only-of-type {\n",
              "        vertical-align: middle;\n",
              "    }\n",
              "\n",
              "    .dataframe tbody tr th {\n",
              "        vertical-align: top;\n",
              "    }\n",
              "\n",
              "    .dataframe thead th {\n",
              "        text-align: right;\n",
              "    }\n",
              "</style>\n",
              "<table border=\"1\" class=\"dataframe\">\n",
              "  <thead>\n",
              "    <tr style=\"text-align: right;\">\n",
              "      <th></th>\n",
              "      <th>user_id</th>\n",
              "      <th>real_name</th>\n",
              "      <th>DataCracy_role</th>\n",
              "      <th>channel_name</th>\n",
              "    </tr>\n",
              "  </thead>\n",
              "  <tbody>\n",
              "    <tr>\n",
              "      <th>0</th>\n",
              "      <td>U01UTGRMGEQ</td>\n",
              "      <td>Hanh Nguyen</td>\n",
              "      <td>Learner_Gr4</td>\n",
              "      <td>atom-assignment3</td>\n",
              "    </tr>\n",
              "  </tbody>\n",
              "</table>\n",
              "</div>"
            ],
            "text/plain": [
              "       user_id    real_name DataCracy_role      channel_name\n",
              "0  U01UTGRMGEQ  Hanh Nguyen    Learner_Gr4  atom-assignment3"
            ]
          },
          "metadata": {
            "tags": []
          },
          "execution_count": 70
        }
      ]
    },
    {
      "cell_type": "code",
      "metadata": {
        "colab": {
          "base_uri": "https://localhost:8080/",
          "height": 77
        },
        "id": "AUL6nSBfD0rh",
        "outputId": "7f6d746e-82ac-4753-9de0-2e0083077048"
      },
      "source": [
        "SQL_2_4 = '''\n",
        "SELECT ms.user_id, mb.real_name, DataCracy_role, channel_name\n",
        "\n",
        "FROM members_df mb join msg_df ms ON mb.user_id = ms.user_id\n",
        "JOIN channel_df ch ON ch.channel_id=ms.channel_id\n",
        "\n",
        "WHERE ms.msg_ts = (SELECT MIN(ms.msg_ts) \n",
        "                    FROM msg_df ms join channel_df ch ON ms.channel_id = ch.channel_id \n",
        "                        JOIN members_df mb ON mb.user_id = ms.user_id\n",
        "                    WHERE ch.channel_name = 'atom-assignment4' AND ms.github_link != 'NaN' \n",
        "                        AND mb.DataCracy_role like 'Learner%' )\n",
        "'''\n",
        "con.execute(SQL_2_4).fetch_df()"
      ],
      "execution_count": 71,
      "outputs": [
        {
          "output_type": "execute_result",
          "data": {
            "text/html": [
              "<div>\n",
              "<style scoped>\n",
              "    .dataframe tbody tr th:only-of-type {\n",
              "        vertical-align: middle;\n",
              "    }\n",
              "\n",
              "    .dataframe tbody tr th {\n",
              "        vertical-align: top;\n",
              "    }\n",
              "\n",
              "    .dataframe thead th {\n",
              "        text-align: right;\n",
              "    }\n",
              "</style>\n",
              "<table border=\"1\" class=\"dataframe\">\n",
              "  <thead>\n",
              "    <tr style=\"text-align: right;\">\n",
              "      <th></th>\n",
              "      <th>user_id</th>\n",
              "      <th>real_name</th>\n",
              "      <th>DataCracy_role</th>\n",
              "      <th>channel_name</th>\n",
              "    </tr>\n",
              "  </thead>\n",
              "  <tbody>\n",
              "    <tr>\n",
              "      <th>0</th>\n",
              "      <td>U01UJ9M3P1T</td>\n",
              "      <td>Cao Nguyen Huy Hoang</td>\n",
              "      <td>Learner_Gr2</td>\n",
              "      <td>atom-assignment4</td>\n",
              "    </tr>\n",
              "  </tbody>\n",
              "</table>\n",
              "</div>"
            ],
            "text/plain": [
              "       user_id             real_name DataCracy_role      channel_name\n",
              "0  U01UJ9M3P1T  Cao Nguyen Huy Hoang    Learner_Gr2  atom-assignment4"
            ]
          },
          "metadata": {
            "tags": []
          },
          "execution_count": 71
        }
      ]
    },
    {
      "cell_type": "code",
      "metadata": {
        "colab": {
          "base_uri": "https://localhost:8080/",
          "height": 77
        },
        "id": "hdgCcY3ND5yO",
        "outputId": "35c23ff9-2267-473b-9fc9-6aa0f1eaeeab"
      },
      "source": [
        "#learner nộp bài atom-assignment1 trễ nhất\n",
        "SQL_3_1 = '''\n",
        "SELECT ms.user_id, mb.real_name, DataCracy_role, ms.msg_ts\n",
        "\n",
        "FROM members_df mb JOIN msg_df ms ON mb.user_id = ms.user_id\n",
        "\n",
        "WHERE ms.msg_ts = (SELECT MAX(ms.msg_ts) \n",
        "                    FROM msg_df ms JOIN channel_df ch ON ms.channel_id = ch.channel_id \n",
        "                        JOIN members_df mb ON mb.user_id = ms.user_id\n",
        "                    WHERE ch.channel_name = 'atom-assignment1' AND ms.github_link != 'NaN' \n",
        "                        AND mb.DataCracy_role like 'Learner%' )\n",
        "'''\n",
        "con.execute(SQL_3_1).fetch_df()"
      ],
      "execution_count": 72,
      "outputs": [
        {
          "output_type": "execute_result",
          "data": {
            "text/html": [
              "<div>\n",
              "<style scoped>\n",
              "    .dataframe tbody tr th:only-of-type {\n",
              "        vertical-align: middle;\n",
              "    }\n",
              "\n",
              "    .dataframe tbody tr th {\n",
              "        vertical-align: top;\n",
              "    }\n",
              "\n",
              "    .dataframe thead th {\n",
              "        text-align: right;\n",
              "    }\n",
              "</style>\n",
              "<table border=\"1\" class=\"dataframe\">\n",
              "  <thead>\n",
              "    <tr style=\"text-align: right;\">\n",
              "      <th></th>\n",
              "      <th>user_id</th>\n",
              "      <th>real_name</th>\n",
              "      <th>DataCracy_role</th>\n",
              "      <th>msg_ts</th>\n",
              "    </tr>\n",
              "  </thead>\n",
              "  <tbody>\n",
              "    <tr>\n",
              "      <th>0</th>\n",
              "      <td>U01UJ9LG5U5</td>\n",
              "      <td>Danh Phan</td>\n",
              "      <td>Learner_Gr3</td>\n",
              "      <td>2021-05-10 04:51:46.004700</td>\n",
              "    </tr>\n",
              "  </tbody>\n",
              "</table>\n",
              "</div>"
            ],
            "text/plain": [
              "       user_id  real_name DataCracy_role                     msg_ts\n",
              "0  U01UJ9LG5U5  Danh Phan    Learner_Gr3 2021-05-10 04:51:46.004700"
            ]
          },
          "metadata": {
            "tags": []
          },
          "execution_count": 72
        }
      ]
    },
    {
      "cell_type": "code",
      "metadata": {
        "colab": {
          "base_uri": "https://localhost:8080/",
          "height": 77
        },
        "id": "N3z5cD1mEGnO",
        "outputId": "d2960f00-687d-4f28-dbd9-4d545280fea7"
      },
      "source": [
        "#learner nộp bài atom-assignment2 trễ nhất\n",
        "SQL_3_2 = '''\n",
        "SELECT ms.user_id, mb.real_name, DataCracy_role, ms.msg_ts\n",
        "\n",
        "FROM members_df mb JOIN msg_df ms ON mb.user_id = ms.user_id\n",
        "\n",
        "WHERE ms.msg_ts = (SELECT MAX(ms.msg_ts) \n",
        "                    FROM msg_df ms JOIN channel_df ch ON ms.channel_id = ch.channel_id \n",
        "                        JOIN members_df mb ON mb.user_id = ms.user_id\n",
        "                    WHERE ch.channel_name = 'atom-assignment2' AND ms.github_link != 'NaN' \n",
        "                        AND mb.DataCracy_role like 'Learner%' )\n",
        "'''\n",
        "con.execute(SQL_3_2).fetch_df()"
      ],
      "execution_count": 73,
      "outputs": [
        {
          "output_type": "execute_result",
          "data": {
            "text/html": [
              "<div>\n",
              "<style scoped>\n",
              "    .dataframe tbody tr th:only-of-type {\n",
              "        vertical-align: middle;\n",
              "    }\n",
              "\n",
              "    .dataframe tbody tr th {\n",
              "        vertical-align: top;\n",
              "    }\n",
              "\n",
              "    .dataframe thead th {\n",
              "        text-align: right;\n",
              "    }\n",
              "</style>\n",
              "<table border=\"1\" class=\"dataframe\">\n",
              "  <thead>\n",
              "    <tr style=\"text-align: right;\">\n",
              "      <th></th>\n",
              "      <th>user_id</th>\n",
              "      <th>real_name</th>\n",
              "      <th>DataCracy_role</th>\n",
              "      <th>msg_ts</th>\n",
              "    </tr>\n",
              "  </thead>\n",
              "  <tbody>\n",
              "    <tr>\n",
              "      <th>0</th>\n",
              "      <td>U01UTGRMGEQ</td>\n",
              "      <td>Hanh Nguyen</td>\n",
              "      <td>Learner_Gr4</td>\n",
              "      <td>2021-05-22 05:39:34.015500</td>\n",
              "    </tr>\n",
              "  </tbody>\n",
              "</table>\n",
              "</div>"
            ],
            "text/plain": [
              "       user_id    real_name DataCracy_role                     msg_ts\n",
              "0  U01UTGRMGEQ  Hanh Nguyen    Learner_Gr4 2021-05-22 05:39:34.015500"
            ]
          },
          "metadata": {
            "tags": []
          },
          "execution_count": 73
        }
      ]
    },
    {
      "cell_type": "code",
      "metadata": {
        "colab": {
          "base_uri": "https://localhost:8080/",
          "height": 77
        },
        "id": "o10tJ09Q26Cc",
        "outputId": "e8ecacb5-6e81-4d28-8187-1a7bf45c3e17"
      },
      "source": [
        "#learner nộp bài atom-assignment3 trễ nhất\n",
        "SQL_3_3 = '''\n",
        "SELECT ms.user_id, mb.real_name, DataCracy_role, ms.msg_ts\n",
        "\n",
        "FROM members_df mb JOIN msg_df ms ON mb.user_id = ms.user_id\n",
        "\n",
        "WHERE ms.msg_ts = (SELECT MAX(ms.msg_ts) \n",
        "                    FROM msg_df ms JOIN channel_df ch ON ms.channel_id = ch.channel_id \n",
        "                        JOIN members_df mb ON mb.user_id = ms.user_id\n",
        "                    WHERE ch.channel_name = 'atom-assignment3' AND ms.github_link != 'NaN' \n",
        "                        AND mb.DataCracy_role LIKE 'Learner%' )\n",
        "'''\n",
        "con.execute(SQL_3_3).fetch_df()"
      ],
      "execution_count": 76,
      "outputs": [
        {
          "output_type": "execute_result",
          "data": {
            "text/html": [
              "<div>\n",
              "<style scoped>\n",
              "    .dataframe tbody tr th:only-of-type {\n",
              "        vertical-align: middle;\n",
              "    }\n",
              "\n",
              "    .dataframe tbody tr th {\n",
              "        vertical-align: top;\n",
              "    }\n",
              "\n",
              "    .dataframe thead th {\n",
              "        text-align: right;\n",
              "    }\n",
              "</style>\n",
              "<table border=\"1\" class=\"dataframe\">\n",
              "  <thead>\n",
              "    <tr style=\"text-align: right;\">\n",
              "      <th></th>\n",
              "      <th>user_id</th>\n",
              "      <th>real_name</th>\n",
              "      <th>DataCracy_role</th>\n",
              "      <th>msg_ts</th>\n",
              "    </tr>\n",
              "  </thead>\n",
              "  <tbody>\n",
              "    <tr>\n",
              "      <th>0</th>\n",
              "      <td>U01USGKQ771</td>\n",
              "      <td>Ngo Thi Minh Trang</td>\n",
              "      <td>Learner_Gr1</td>\n",
              "      <td>2021-05-27 15:30:16.003200</td>\n",
              "    </tr>\n",
              "  </tbody>\n",
              "</table>\n",
              "</div>"
            ],
            "text/plain": [
              "       user_id           real_name DataCracy_role                     msg_ts\n",
              "0  U01USGKQ771  Ngo Thi Minh Trang    Learner_Gr1 2021-05-27 15:30:16.003200"
            ]
          },
          "metadata": {
            "tags": []
          },
          "execution_count": 76
        }
      ]
    },
    {
      "cell_type": "code",
      "metadata": {
        "colab": {
          "base_uri": "https://localhost:8080/",
          "height": 437
        },
        "id": "Gw9iRDZN28mK",
        "outputId": "d98b426f-972c-46b2-a686-93ec7c934d08"
      },
      "source": [
        "#Learner nào chưa nộp bài Assignment 3?\n",
        "SQL_4 = '''\n",
        "SELECT mb.user_id, mb.real_name, DataCracy_role\n",
        "FROM members_df mb\n",
        "WHERE mb.DataCracy_role like'Learner%' and \n",
        "mb.user_id not in (SELECT ms.user_id FROM msg_df ms JOIN channel_df ch ON ms.channel_id = ch.channel_id \n",
        "                        JOIN members_df mb ON mb.user_id = ms.user_id\n",
        "                        WHERE ch.channel_name = 'atom-assignment3' AND ms.github_link != 'NaN'\n",
        "                                            AND mb.DataCracy_role LIKE'Learner%'\n",
        "\n",
        ")\n",
        "\n",
        "'''\n",
        "con.execute(SQL_4).fetch_df()\n",
        "#Tại sao em đã nộp bài trước deadline lại có tên trong danh sách này???"
      ],
      "execution_count": 77,
      "outputs": [
        {
          "output_type": "execute_result",
          "data": {
            "text/html": [
              "<div>\n",
              "<style scoped>\n",
              "    .dataframe tbody tr th:only-of-type {\n",
              "        vertical-align: middle;\n",
              "    }\n",
              "\n",
              "    .dataframe tbody tr th {\n",
              "        vertical-align: top;\n",
              "    }\n",
              "\n",
              "    .dataframe thead th {\n",
              "        text-align: right;\n",
              "    }\n",
              "</style>\n",
              "<table border=\"1\" class=\"dataframe\">\n",
              "  <thead>\n",
              "    <tr style=\"text-align: right;\">\n",
              "      <th></th>\n",
              "      <th>user_id</th>\n",
              "      <th>real_name</th>\n",
              "      <th>DataCracy_role</th>\n",
              "    </tr>\n",
              "  </thead>\n",
              "  <tbody>\n",
              "    <tr>\n",
              "      <th>0</th>\n",
              "      <td>U01U6JM6LEB</td>\n",
              "      <td>Viet Hoang</td>\n",
              "      <td>Learner_Gr4</td>\n",
              "    </tr>\n",
              "    <tr>\n",
              "      <th>1</th>\n",
              "      <td>U01U8CAMGB1</td>\n",
              "      <td>Ngoc Huyen</td>\n",
              "      <td>Learner_Gr1</td>\n",
              "    </tr>\n",
              "    <tr>\n",
              "      <th>2</th>\n",
              "      <td>U01UEJG8KHU</td>\n",
              "      <td>Trang Nguyễn</td>\n",
              "      <td>Learner_Gr3</td>\n",
              "    </tr>\n",
              "    <tr>\n",
              "      <th>3</th>\n",
              "      <td>U01UJ9M5TU5</td>\n",
              "      <td>Nguyen Thi Kim Minh</td>\n",
              "      <td>Learner_Gr2</td>\n",
              "    </tr>\n",
              "    <tr>\n",
              "      <th>4</th>\n",
              "      <td>U01UMBXJLHG</td>\n",
              "      <td>Nguyen Linh</td>\n",
              "      <td>Learner_Gr1</td>\n",
              "    </tr>\n",
              "    <tr>\n",
              "      <th>5</th>\n",
              "      <td>U01UMC08KL2</td>\n",
              "      <td>Minh-Thu Nguyen Hoang</td>\n",
              "      <td>Learner_Gr4</td>\n",
              "    </tr>\n",
              "    <tr>\n",
              "      <th>6</th>\n",
              "      <td>U01UMC0N5U2</td>\n",
              "      <td>Việt Hồng Chu</td>\n",
              "      <td>Learner_Gr1</td>\n",
              "    </tr>\n",
              "    <tr>\n",
              "      <th>7</th>\n",
              "      <td>U01UTGRP0HJ</td>\n",
              "      <td>Tran Pham</td>\n",
              "      <td>Learner_Gr3</td>\n",
              "    </tr>\n",
              "    <tr>\n",
              "      <th>8</th>\n",
              "      <td>U01UTGRQS9J</td>\n",
              "      <td>Linh Vu</td>\n",
              "      <td>Learner_Gr4</td>\n",
              "    </tr>\n",
              "    <tr>\n",
              "      <th>9</th>\n",
              "      <td>U01VB63LRNC</td>\n",
              "      <td>anh thu nguyen huynh</td>\n",
              "      <td>Learner_Gr4</td>\n",
              "    </tr>\n",
              "    <tr>\n",
              "      <th>10</th>\n",
              "      <td>U01VB6AT4G0</td>\n",
              "      <td>Le Thi Tam</td>\n",
              "      <td>Learner_Gr1</td>\n",
              "    </tr>\n",
              "    <tr>\n",
              "      <th>11</th>\n",
              "      <td>U01VBFY2E59</td>\n",
              "      <td>Gia Hoang Tran</td>\n",
              "      <td>Learner_Gr1</td>\n",
              "    </tr>\n",
              "    <tr>\n",
              "      <th>12</th>\n",
              "      <td>U0233KHLM2M</td>\n",
              "      <td>Vuthanhdat Contact</td>\n",
              "      <td>Learner_Gr4</td>\n",
              "    </tr>\n",
              "  </tbody>\n",
              "</table>\n",
              "</div>"
            ],
            "text/plain": [
              "        user_id              real_name DataCracy_role\n",
              "0   U01U6JM6LEB             Viet Hoang    Learner_Gr4\n",
              "1   U01U8CAMGB1             Ngoc Huyen    Learner_Gr1\n",
              "2   U01UEJG8KHU           Trang Nguyễn    Learner_Gr3\n",
              "3   U01UJ9M5TU5    Nguyen Thi Kim Minh    Learner_Gr2\n",
              "4   U01UMBXJLHG            Nguyen Linh    Learner_Gr1\n",
              "5   U01UMC08KL2  Minh-Thu Nguyen Hoang    Learner_Gr4\n",
              "6   U01UMC0N5U2          Việt Hồng Chu    Learner_Gr1\n",
              "7   U01UTGRP0HJ              Tran Pham    Learner_Gr3\n",
              "8   U01UTGRQS9J                Linh Vu    Learner_Gr4\n",
              "9   U01VB63LRNC   anh thu nguyen huynh    Learner_Gr4\n",
              "10  U01VB6AT4G0             Le Thi Tam    Learner_Gr1\n",
              "11  U01VBFY2E59         Gia Hoang Tran    Learner_Gr1\n",
              "12  U0233KHLM2M     Vuthanhdat Contact    Learner_Gr4"
            ]
          },
          "metadata": {
            "tags": []
          },
          "execution_count": 77
        }
      ]
    },
    {
      "cell_type": "code",
      "metadata": {
        "colab": {
          "base_uri": "https://localhost:8080/",
          "height": 167
        },
        "id": "NBJoU3yl4ZAd",
        "outputId": "a2cc49c5-87ec-4f1d-f7b3-8b76a4ddd050"
      },
      "source": [
        "#Learner nào chưa nộp bất kỳ 1 assignment nào?\n",
        "SQL_5 = '''\n",
        "SELECT mb.user_id, mb.real_name, DataCracy_role\n",
        "FROM members_df mb\n",
        "WHERE mb.DataCracy_role LIKE'Learner%' AND\n",
        "mb.user_id not in (SELECT ms.user_id FROM msg_df ms JOIN channel_df ch ON ms.channel_id = ch.channel_id \n",
        "                        JOIN members_df mb ON mb.user_id = ms.user_id\n",
        "                    WHERE ch.channel_name LIKE 'atom-assignment_' AND ms.github_link != 'NaN'\n",
        "                                            AND mb.DataCracy_role like'Learner%'\n",
        ")\n",
        "\n",
        "'''\n",
        "con.execute(SQL_5).fetch_df()"
      ],
      "execution_count": 78,
      "outputs": [
        {
          "output_type": "execute_result",
          "data": {
            "text/html": [
              "<div>\n",
              "<style scoped>\n",
              "    .dataframe tbody tr th:only-of-type {\n",
              "        vertical-align: middle;\n",
              "    }\n",
              "\n",
              "    .dataframe tbody tr th {\n",
              "        vertical-align: top;\n",
              "    }\n",
              "\n",
              "    .dataframe thead th {\n",
              "        text-align: right;\n",
              "    }\n",
              "</style>\n",
              "<table border=\"1\" class=\"dataframe\">\n",
              "  <thead>\n",
              "    <tr style=\"text-align: right;\">\n",
              "      <th></th>\n",
              "      <th>user_id</th>\n",
              "      <th>real_name</th>\n",
              "      <th>DataCracy_role</th>\n",
              "    </tr>\n",
              "  </thead>\n",
              "  <tbody>\n",
              "    <tr>\n",
              "      <th>0</th>\n",
              "      <td>U01U8CAMGB1</td>\n",
              "      <td>Ngoc Huyen</td>\n",
              "      <td>Learner_Gr1</td>\n",
              "    </tr>\n",
              "    <tr>\n",
              "      <th>1</th>\n",
              "      <td>U01UMBXJLHG</td>\n",
              "      <td>Nguyen Linh</td>\n",
              "      <td>Learner_Gr1</td>\n",
              "    </tr>\n",
              "    <tr>\n",
              "      <th>2</th>\n",
              "      <td>U01VBFY2E59</td>\n",
              "      <td>Gia Hoang Tran</td>\n",
              "      <td>Learner_Gr1</td>\n",
              "    </tr>\n",
              "    <tr>\n",
              "      <th>3</th>\n",
              "      <td>U0233KHLM2M</td>\n",
              "      <td>Vuthanhdat Contact</td>\n",
              "      <td>Learner_Gr4</td>\n",
              "    </tr>\n",
              "  </tbody>\n",
              "</table>\n",
              "</div>"
            ],
            "text/plain": [
              "       user_id           real_name DataCracy_role\n",
              "0  U01U8CAMGB1          Ngoc Huyen    Learner_Gr1\n",
              "1  U01UMBXJLHG         Nguyen Linh    Learner_Gr1\n",
              "2  U01VBFY2E59      Gia Hoang Tran    Learner_Gr1\n",
              "3  U0233KHLM2M  Vuthanhdat Contact    Learner_Gr4"
            ]
          },
          "metadata": {
            "tags": []
          },
          "execution_count": 78
        }
      ]
    },
    {
      "cell_type": "code",
      "metadata": {
        "colab": {
          "base_uri": "https://localhost:8080/",
          "height": 167
        },
        "id": "9BvzrKm54gOp",
        "outputId": "6458a6fa-0325-4fc1-b0fb-0aa5dc71d8d8"
      },
      "source": [
        "#Tỷ lệ % Learner đã nộp assignment 1, 2, 3? (*giả sử có message trong channel atom-assignment, được tính là đã submit*)\n",
        "SQL_6 = '''\n",
        "SELECT t1.channel_name, FORMAT(t1.submited_cnt * 100/ t.learner_cnt,'P') AS 'Tỉ lệ nộp bài (%)'\n",
        "FROM (SELECT COUNT(user_id) AS 'learner_cnt'\n",
        "        FROM members_df\n",
        "        WHERE DataCracy_role LIKE 'Learner%' ) t, \n",
        "    (SELECT COUNT(DISTINCT ms.user_id) AS 'submited_cnt', ch.channel_name\n",
        "        FROM msg_df ms JOIN channel_df ch ON ms.channel_id = ch.channel_id\n",
        "            JOIN members_df mb ON mb.user_id = ms.user_id\n",
        "        WHERE channel_name LIKE'atom-assignment_' AND mb.DataCracy_role LIKE 'Learner%' and ms.github_link != 'NaN'\n",
        "        GROUP BY ch.channel_name) t1\n",
        "'''\n",
        "con.execute(SQL_6).fetch_df()"
      ],
      "execution_count": 79,
      "outputs": [
        {
          "output_type": "execute_result",
          "data": {
            "text/html": [
              "<div>\n",
              "<style scoped>\n",
              "    .dataframe tbody tr th:only-of-type {\n",
              "        vertical-align: middle;\n",
              "    }\n",
              "\n",
              "    .dataframe tbody tr th {\n",
              "        vertical-align: top;\n",
              "    }\n",
              "\n",
              "    .dataframe thead th {\n",
              "        text-align: right;\n",
              "    }\n",
              "</style>\n",
              "<table border=\"1\" class=\"dataframe\">\n",
              "  <thead>\n",
              "    <tr style=\"text-align: right;\">\n",
              "      <th></th>\n",
              "      <th>channel_name</th>\n",
              "      <th>Tỉ lệ nộp bài (%)</th>\n",
              "    </tr>\n",
              "  </thead>\n",
              "  <tbody>\n",
              "    <tr>\n",
              "      <th>0</th>\n",
              "      <td>atom-assignment1</td>\n",
              "      <td>71</td>\n",
              "    </tr>\n",
              "    <tr>\n",
              "      <th>1</th>\n",
              "      <td>atom-assignment2</td>\n",
              "      <td>79</td>\n",
              "    </tr>\n",
              "    <tr>\n",
              "      <th>2</th>\n",
              "      <td>atom-assignment3</td>\n",
              "      <td>66</td>\n",
              "    </tr>\n",
              "    <tr>\n",
              "      <th>3</th>\n",
              "      <td>atom-assignment4</td>\n",
              "      <td>10</td>\n",
              "    </tr>\n",
              "  </tbody>\n",
              "</table>\n",
              "</div>"
            ],
            "text/plain": [
              "       channel_name Tỉ lệ nộp bài (%)\n",
              "0  atom-assignment1                71\n",
              "1  atom-assignment2                79\n",
              "2  atom-assignment3                66\n",
              "3  atom-assignment4                10"
            ]
          },
          "metadata": {
            "tags": []
          },
          "execution_count": 79
        }
      ]
    },
    {
      "cell_type": "code",
      "metadata": {
        "colab": {
          "base_uri": "https://localhost:8080/",
          "height": 167
        },
        "id": "lEBWPOIG4rJp",
        "outputId": "27d28117-be85-4b45-d0b3-cfd573046663"
      },
      "source": [
        "#Tỷ lệ % Learner đã submit bài và dc review trong assignment 1, 2, 3?\n",
        "SQL_7 = '''\n",
        "SELECT t1.channel_name, FORMAT(t1.submited_cnt * 100/ t.learner_cnt, 'P') AS 'Phần trăm bài được review (%)'\n",
        "FROM (SELECT COUNT(user_id) AS 'learner_cnt'\n",
        "        FROM members_df\n",
        "        WHERE DataCracy_role like 'Learner%' ) t, \n",
        "    (SELECT COUNT(DISTINCT ms.user_id) AS 'submited_cnt', ch.channel_name\n",
        "        FROM msg_df ms JOIN channel_df ch ON ms.channel_id = ch.channel_id\n",
        "            JOIN members_df mb ON mb.user_id = ms.user_id\n",
        "        WHERE channel_name LIKE'atom-assignment_' AND mb.DataCracy_role LIKE 'Learner%' AND ms.github_link != 'NaN'\n",
        "        AND ms.reply_user_count > 0\n",
        "        GROUP BY ch.channel_name) t1\n",
        "'''\n",
        "con.execute(SQL_7).fetch_df()"
      ],
      "execution_count": 80,
      "outputs": [
        {
          "output_type": "execute_result",
          "data": {
            "text/html": [
              "<div>\n",
              "<style scoped>\n",
              "    .dataframe tbody tr th:only-of-type {\n",
              "        vertical-align: middle;\n",
              "    }\n",
              "\n",
              "    .dataframe tbody tr th {\n",
              "        vertical-align: top;\n",
              "    }\n",
              "\n",
              "    .dataframe thead th {\n",
              "        text-align: right;\n",
              "    }\n",
              "</style>\n",
              "<table border=\"1\" class=\"dataframe\">\n",
              "  <thead>\n",
              "    <tr style=\"text-align: right;\">\n",
              "      <th></th>\n",
              "      <th>channel_name</th>\n",
              "      <th>Phần trăm bài được review (%)</th>\n",
              "    </tr>\n",
              "  </thead>\n",
              "  <tbody>\n",
              "    <tr>\n",
              "      <th>0</th>\n",
              "      <td>atom-assignment1</td>\n",
              "      <td>61</td>\n",
              "    </tr>\n",
              "    <tr>\n",
              "      <th>1</th>\n",
              "      <td>atom-assignment2</td>\n",
              "      <td>74</td>\n",
              "    </tr>\n",
              "    <tr>\n",
              "      <th>2</th>\n",
              "      <td>atom-assignment3</td>\n",
              "      <td>33</td>\n",
              "    </tr>\n",
              "    <tr>\n",
              "      <th>3</th>\n",
              "      <td>atom-assignment4</td>\n",
              "      <td>2</td>\n",
              "    </tr>\n",
              "  </tbody>\n",
              "</table>\n",
              "</div>"
            ],
            "text/plain": [
              "       channel_name Phần trăm bài được review (%)\n",
              "0  atom-assignment1                            61\n",
              "1  atom-assignment2                            74\n",
              "2  atom-assignment3                            33\n",
              "3  atom-assignment4                             2"
            ]
          },
          "metadata": {
            "tags": []
          },
          "execution_count": 80
        }
      ]
    },
    {
      "cell_type": "code",
      "metadata": {
        "colab": {
          "base_uri": "https://localhost:8080/",
          "height": 77
        },
        "id": "8BOV1JYv464k",
        "outputId": "1893ccc1-33dc-46ab-f031-41d0f5d4ebb2"
      },
      "source": [
        "#Learners theo Group nào có tỷ lệ % hoàn thành bài tập cao nhất?\n",
        "SQL_8 = '''\n",
        "WITH report_byGroup AS(\n",
        "SELECT t1.channel_name,t1.DataCracy_role, (t1.submited_cnt * 100/ t.learner_cnt) AS 'Ti_le_nop'\n",
        "FROM (SELECT COUNT(user_id) AS 'learner_cnt', DataCracy_role\n",
        "        FROM members_df\n",
        "        WHERE DataCracy_role LIKE 'Learner%'\n",
        "        GROUP BY DataCracy_role ) t JOIN\n",
        "    (SELECT COUNT(DISTINCT ms.user_id) AS 'submited_cnt', ch.channel_name,mb.DataCracy_role \n",
        "        FROM msg_df ms JOIN channel_df ch ON ms.channel_id = ch.channel_id\n",
        "            JOIN members_df mb ON mb.user_id = ms.user_id\n",
        "        WHERE channel_name like'atom-assignment_' AND mb.DataCracy_role LIKE 'Learner%' AND ms.github_link != 'NaN'\n",
        "        GROUP BY ch.channel_name,mb.DataCracy_role  ) t1 \n",
        "    ON t.DataCracy_role = t1.DataCracy_role\n",
        ")\n",
        "SELECT re.DataCracy_role, ROUND(AVG(re.Ti_le_nop),2) AS 'Phần trăm hoàn thành cao nhất (%)'\n",
        "FROM report_byGroup re\n",
        "GROUP BY re.DataCracy_role\n",
        "HAVING  AVG(re.Ti_le_nop) >= all(select avg(Ti_le_nop)\n",
        "FROM report_byGroup\n",
        "GROUP BY DataCracy_role)\n",
        "\n",
        "'''\n",
        "con.execute(SQL_8).fetch_df()"
      ],
      "execution_count": 81,
      "outputs": [
        {
          "output_type": "execute_result",
          "data": {
            "text/html": [
              "<div>\n",
              "<style scoped>\n",
              "    .dataframe tbody tr th:only-of-type {\n",
              "        vertical-align: middle;\n",
              "    }\n",
              "\n",
              "    .dataframe tbody tr th {\n",
              "        vertical-align: top;\n",
              "    }\n",
              "\n",
              "    .dataframe thead th {\n",
              "        text-align: right;\n",
              "    }\n",
              "</style>\n",
              "<table border=\"1\" class=\"dataframe\">\n",
              "  <thead>\n",
              "    <tr style=\"text-align: right;\">\n",
              "      <th></th>\n",
              "      <th>DataCracy_role</th>\n",
              "      <th>Phần trăm hoàn thành cao nhất (%)</th>\n",
              "    </tr>\n",
              "  </thead>\n",
              "  <tbody>\n",
              "    <tr>\n",
              "      <th>0</th>\n",
              "      <td>Learner_Gr2</td>\n",
              "      <td>66.25</td>\n",
              "    </tr>\n",
              "  </tbody>\n",
              "</table>\n",
              "</div>"
            ],
            "text/plain": [
              "  DataCracy_role  Phần trăm hoàn thành cao nhất (%)\n",
              "0    Learner_Gr2                              66.25"
            ]
          },
          "metadata": {
            "tags": []
          },
          "execution_count": 81
        }
      ]
    },
    {
      "cell_type": "code",
      "metadata": {
        "colab": {
          "base_uri": "https://localhost:8080/"
        },
        "id": "jU_jBnfi5Lly",
        "outputId": "3aecc939-a766-425b-895c-492bacd1e6e9"
      },
      "source": [
        "## Ví dụ: Đoạn code (Pandas) sau làm\n",
        "## 1. Group by channel_id\n",
        "## 2. Count các message\n",
        "## 3. Sắp xếp theo thứ tự số message từ cao xuống thấp (ascending=False)\n",
        "## 4. Filter lấy Top 5\n",
        "msg_df.groupby('channel_id')['msg_id'].count().sort_values(ascending=False).head(5)"
      ],
      "execution_count": null,
      "outputs": [
        {
          "output_type": "execute_result",
          "data": {
            "text/plain": [
              "channel_id\n",
              "C021FSDN7LJ    42\n",
              "C01U6P7LZ8F    42\n",
              "C01B4PVGLVB    42\n",
              "C0227A51SAY    37\n",
              "C0220KU9399    32\n",
              "Name: msg_id, dtype: int64"
            ]
          },
          "metadata": {
            "tags": []
          },
          "execution_count": 45
        }
      ]
    },
    {
      "cell_type": "code",
      "metadata": {
        "colab": {
          "base_uri": "https://localhost:8080/",
          "height": 197
        },
        "id": "B8GZEcyg5QCi",
        "outputId": "0839a17e-48d8-48ab-e9fa-303ef4d0f4e8"
      },
      "source": [
        "## Kết quả tương ứng bằng SQL\n",
        "SQL = '''\n",
        "  SELECT \n",
        "    channel_id,\n",
        "    COUNT(msg_id) AS msg_cnt\n",
        "  FROM msg_df \n",
        "  GROUP BY 1\n",
        "  ORDER BY COUNT(msg_id) DESC\n",
        "  LIMIT 5\n",
        "'''\n",
        "con.execute(SQL).fetch_df()"
      ],
      "execution_count": null,
      "outputs": [
        {
          "output_type": "execute_result",
          "data": {
            "text/html": [
              "<div>\n",
              "<style scoped>\n",
              "    .dataframe tbody tr th:only-of-type {\n",
              "        vertical-align: middle;\n",
              "    }\n",
              "\n",
              "    .dataframe tbody tr th {\n",
              "        vertical-align: top;\n",
              "    }\n",
              "\n",
              "    .dataframe thead th {\n",
              "        text-align: right;\n",
              "    }\n",
              "</style>\n",
              "<table border=\"1\" class=\"dataframe\">\n",
              "  <thead>\n",
              "    <tr style=\"text-align: right;\">\n",
              "      <th></th>\n",
              "      <th>channel_id</th>\n",
              "      <th>msg_cnt</th>\n",
              "    </tr>\n",
              "  </thead>\n",
              "  <tbody>\n",
              "    <tr>\n",
              "      <th>0</th>\n",
              "      <td>C01U6P7LZ8F</td>\n",
              "      <td>42</td>\n",
              "    </tr>\n",
              "    <tr>\n",
              "      <th>1</th>\n",
              "      <td>C01B4PVGLVB</td>\n",
              "      <td>42</td>\n",
              "    </tr>\n",
              "    <tr>\n",
              "      <th>2</th>\n",
              "      <td>C021FSDN7LJ</td>\n",
              "      <td>42</td>\n",
              "    </tr>\n",
              "    <tr>\n",
              "      <th>3</th>\n",
              "      <td>C0227A51SAY</td>\n",
              "      <td>37</td>\n",
              "    </tr>\n",
              "    <tr>\n",
              "      <th>4</th>\n",
              "      <td>C0220KU9399</td>\n",
              "      <td>32</td>\n",
              "    </tr>\n",
              "  </tbody>\n",
              "</table>\n",
              "</div>"
            ],
            "text/plain": [
              "    channel_id  msg_cnt\n",
              "0  C01U6P7LZ8F       42\n",
              "1  C01B4PVGLVB       42\n",
              "2  C021FSDN7LJ       42\n",
              "3  C0227A51SAY       37\n",
              "4  C0220KU9399       32"
            ]
          },
          "metadata": {
            "tags": []
          },
          "execution_count": 46
        }
      ]
    }
  ]
}