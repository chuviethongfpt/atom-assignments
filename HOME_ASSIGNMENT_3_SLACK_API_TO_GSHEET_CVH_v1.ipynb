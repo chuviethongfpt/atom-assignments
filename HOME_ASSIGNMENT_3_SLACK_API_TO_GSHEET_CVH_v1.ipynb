{
  "nbformat": 4,
  "nbformat_minor": 0,
  "metadata": {
    "colab": {
      "name": "HOME ASSIGNMENT #3: SLACK API - TO GSHEET.ipynb",
      "provenance": [],
      "include_colab_link": true
    },
    "kernelspec": {
      "name": "python3",
      "display_name": "Python 3"
    },
    "language_info": {
      "name": "python"
    }
  },
  "cells": [
    {
      "cell_type": "markdown",
      "metadata": {
        "id": "view-in-github",
        "colab_type": "text"
      },
      "source": [
        "<a href=\"https://colab.research.google.com/github/chuviethongfpt/atom-assignments/blob/main/HOME_ASSIGNMENT_3_SLACK_API_TO_GSHEET_CVH_v1.ipynb\" target=\"_parent\"><img src=\"https://colab.research.google.com/assets/colab-badge.svg\" alt=\"Open In Colab\"/></a>"
      ]
    },
    {
      "cell_type": "markdown",
      "metadata": {
        "id": "hwJFePq_LG1O"
      },
      "source": [
        "**Mục đích của bài Assignment**\n",
        "\n",
        "\n",
        "*   Lấy thông tin các Users từ Slack của DataCracy (BTC, Mentors và Learners)\n",
        "*   **[Optional 1]** Đưa danh sách Users lên Google Spreadsheet, để theo dõi\n",
        "*   **[Optional 2]** Lấy thông tin Assignment Submission và số Reviews trên #atom-assignmentnt2 và cập nhật lên Spreadsheet, để theo dõi các học viên đã nộp bài và được review\n",
        "\n",
        "**Các kiến thức sẽ áp dụng** \n",
        "\n",
        "*   Ôn lại và luyện tập thêm về concept API (cụ thể sử dụng API Slack)\n",
        "*   Trích xuất thông tin từ JSON\n",
        "*   Dùng module gspread để đưa thông tin lên Google Spreadsheet"
      ]
    },
    {
      "cell_type": "markdown",
      "metadata": {
        "id": "2ppO4IBQLswC"
      },
      "source": [
        "# 0.Load Modules"
      ]
    },
    {
      "cell_type": "code",
      "metadata": {
        "id": "Wscmy5u9LA9t"
      },
      "source": [
        "import requests #-> Để gọi API\n",
        "import re #-> Để xử lý data dạng string\n",
        "from datetime import datetime as dt #-> Để xử lý data dạng datetime\n",
        "import gspread #-> Để update data lên Google Spreadsheet\n",
        "from gspread_dataframe import set_with_dataframe #-> Để update data lên Google Spreadsheet\n",
        "import pandas as pd #-> Để update data dạng bản\n",
        "import json \n",
        "from oauth2client.service_account import ServiceAccountCredentials #-> Để nhập Google Spreadsheet Credentials\n",
        "import os"
      ],
      "execution_count": 15,
      "outputs": []
    },
    {
      "cell_type": "markdown",
      "metadata": {
        "id": "EjdtB_8NL5Mc"
      },
      "source": [
        "# 1.Slack API: User List¶\n",
        "\n",
        "\n"
      ]
    },
    {
      "cell_type": "code",
      "metadata": {
        "colab": {
          "base_uri": "https://localhost:8080/"
        },
        "id": "s-cd-IPXL4cV",
        "outputId": "f30a9ba8-6ce8-4333-85e0-1ccb7064cd9e"
      },
      "source": [
        "!ls"
      ],
      "execution_count": 16,
      "outputs": [
        {
          "output_type": "stream",
          "text": [
            " cobalt-catalyst-314307-6b793777d71b.json   sample_data\n",
            " env_variable.json\t\t\t   'Token generate.json'\n"
          ],
          "name": "stdout"
        }
      ]
    },
    {
      "cell_type": "code",
      "metadata": {
        "id": "k3KSoMMBMSI6"
      },
      "source": [
        "with open('env_variable.json', 'r') as j:\n",
        "    json_data = json.load(j)\n",
        "    # print(json_data)"
      ],
      "execution_count": 17,
      "outputs": []
    },
    {
      "cell_type": "code",
      "metadata": {
        "id": "TTjbEFzBMVNY"
      },
      "source": [
        "## Load SLACK_BEARER_TOKEN\n",
        "os.environ['SLACK_BEARER_TOKEN'] = json_data['SLACK_BEARER_TOKEN']"
      ],
      "execution_count": 18,
      "outputs": []
    },
    {
      "cell_type": "code",
      "metadata": {
        "id": "5ByDBvu1MWtc"
      },
      "source": [
        "## Gọi API từ Endpoints (Input - Token được đưa vào Headers)\n",
        "## Challenge: Thử gọi API này bằng Postman\n",
        "endpoint = \"https://slack.com/api/users.list\"\n",
        "headers = {\"Authorization\": \"Bearer {}\".format(os.environ['SLACK_BEARER_TOKEN'])}\n",
        "response_json = requests.post(endpoint, headers=headers).json() \n",
        "user_dat = response_json['members']"
      ],
      "execution_count": 19,
      "outputs": []
    },
    {
      "cell_type": "markdown",
      "metadata": {
        "id": "F6D5xWr9OFp9"
      },
      "source": [
        "# TODO #1"
      ]
    },
    {
      "cell_type": "code",
      "metadata": {
        "id": "Qj4Xzs6POEQe"
      },
      "source": [
        "## Loop qua JSON file và extract các thông tin quan trọng (id, name, display_name, real_name_normalized, title, phone, is_bot)\n",
        "## Hint: Bạn có thể dùng Postman hoặc in user_dat JSON để xem cấu trúc (schema), dùng Ctrl+F để tìm các keys (id, name, display_name, real_name_normalized, title, phone, is_bot)\n",
        "user_dict = {'user_id':[], 'name':[], 'display_name':[],'real_name':[],'title':[],'phone':[],'is_bot':[]}\n",
        "for i in range(len(user_dat)):\n",
        "  user_dict['user_id'].append(user_dat[i]['id'])\n",
        "  user_dict['name'].append(user_dat[i]['name'])\n",
        "  user_dict['display_name'].append(user_dat[i]['profile']['display_name'])\n",
        "  user_dict['real_name'].append(user_dat[i]['profile']['real_name_normalized'])\n",
        "  user_dict['title'].append(user_dat[i]['profile']['title'])\n",
        "  user_dict['phone'].append(user_dat[i]['profile']['phone'])\n",
        "  user_dict['is_bot'].append(user_dat[i]['is_bot'])"
      ],
      "execution_count": 20,
      "outputs": []
    },
    {
      "cell_type": "code",
      "metadata": {
        "id": "c6A--pmpOLPS",
        "colab": {
          "base_uri": "https://localhost:8080/",
          "height": 197
        },
        "outputId": "e99bcbdc-de77-4cd8-cb6a-f7ff45bed85e"
      },
      "source": [
        "user_df = pd.DataFrame(user_dict) ## Dùng pandas để convert dictionaries thành bảng\n",
        "user_df.head(5) ## Chỉ in 5 dòng đầu (chủ yếu để xem cấu trúc)"
      ],
      "execution_count": 21,
      "outputs": [
        {
          "output_type": "execute_result",
          "data": {
            "text/html": [
              "<div>\n",
              "<style scoped>\n",
              "    .dataframe tbody tr th:only-of-type {\n",
              "        vertical-align: middle;\n",
              "    }\n",
              "\n",
              "    .dataframe tbody tr th {\n",
              "        vertical-align: top;\n",
              "    }\n",
              "\n",
              "    .dataframe thead th {\n",
              "        text-align: right;\n",
              "    }\n",
              "</style>\n",
              "<table border=\"1\" class=\"dataframe\">\n",
              "  <thead>\n",
              "    <tr style=\"text-align: right;\">\n",
              "      <th></th>\n",
              "      <th>user_id</th>\n",
              "      <th>name</th>\n",
              "      <th>display_name</th>\n",
              "      <th>real_name</th>\n",
              "      <th>title</th>\n",
              "      <th>phone</th>\n",
              "      <th>is_bot</th>\n",
              "    </tr>\n",
              "  </thead>\n",
              "  <tbody>\n",
              "    <tr>\n",
              "      <th>0</th>\n",
              "      <td>USLACKBOT</td>\n",
              "      <td>slackbot</td>\n",
              "      <td>Slackbot</td>\n",
              "      <td>Slackbot</td>\n",
              "      <td></td>\n",
              "      <td></td>\n",
              "      <td>False</td>\n",
              "    </tr>\n",
              "    <tr>\n",
              "      <th>1</th>\n",
              "      <td>U01AT4T75JB</td>\n",
              "      <td>loclexuan26392</td>\n",
              "      <td>Loc Le Xuan</td>\n",
              "      <td>Loc Le Xuan</td>\n",
              "      <td></td>\n",
              "      <td></td>\n",
              "      <td>False</td>\n",
              "    </tr>\n",
              "    <tr>\n",
              "      <th>2</th>\n",
              "      <td>U01AVDY7JET</td>\n",
              "      <td>locle.ds</td>\n",
              "      <td>Loc Le Xuan</td>\n",
              "      <td>Loc Le Xuan</td>\n",
              "      <td></td>\n",
              "      <td></td>\n",
              "      <td>False</td>\n",
              "    </tr>\n",
              "    <tr>\n",
              "      <th>3</th>\n",
              "      <td>U01BE2PR6LU</td>\n",
              "      <td>maianhdang.ftu</td>\n",
              "      <td>MAD</td>\n",
              "      <td>Dặng Huỳnh Mai Anh</td>\n",
              "      <td>Technical Contents</td>\n",
              "      <td></td>\n",
              "      <td>False</td>\n",
              "    </tr>\n",
              "    <tr>\n",
              "      <th>4</th>\n",
              "      <td>U01C48T7S1J</td>\n",
              "      <td>huyenhoang.design</td>\n",
              "      <td>Thanh Huyen Hoang</td>\n",
              "      <td>Thanh Huyen Hoang</td>\n",
              "      <td></td>\n",
              "      <td></td>\n",
              "      <td>False</td>\n",
              "    </tr>\n",
              "  </tbody>\n",
              "</table>\n",
              "</div>"
            ],
            "text/plain": [
              "       user_id               name  ... phone is_bot\n",
              "0    USLACKBOT           slackbot  ...        False\n",
              "1  U01AT4T75JB     loclexuan26392  ...        False\n",
              "2  U01AVDY7JET           locle.ds  ...        False\n",
              "3  U01BE2PR6LU     maianhdang.ftu  ...        False\n",
              "4  U01C48T7S1J  huyenhoang.design  ...        False\n",
              "\n",
              "[5 rows x 7 columns]"
            ]
          },
          "metadata": {
            "tags": []
          },
          "execution_count": 21
        }
      ]
    },
    {
      "cell_type": "code",
      "metadata": {
        "colab": {
          "base_uri": "https://localhost:8080/",
          "height": 77
        },
        "id": "DKKWiXDxbMcf",
        "outputId": "2ece36be-a9e3-47e6-f436-2a9ff367e209"
      },
      "source": [
        "user_df[user_df.display_name == 'Việt Hồng Chu'] ## Lọc thông tin của MAD, trên DataFrame (bạn có thể Google thêm)"
      ],
      "execution_count": 22,
      "outputs": [
        {
          "output_type": "execute_result",
          "data": {
            "text/html": [
              "<div>\n",
              "<style scoped>\n",
              "    .dataframe tbody tr th:only-of-type {\n",
              "        vertical-align: middle;\n",
              "    }\n",
              "\n",
              "    .dataframe tbody tr th {\n",
              "        vertical-align: top;\n",
              "    }\n",
              "\n",
              "    .dataframe thead th {\n",
              "        text-align: right;\n",
              "    }\n",
              "</style>\n",
              "<table border=\"1\" class=\"dataframe\">\n",
              "  <thead>\n",
              "    <tr style=\"text-align: right;\">\n",
              "      <th></th>\n",
              "      <th>user_id</th>\n",
              "      <th>name</th>\n",
              "      <th>display_name</th>\n",
              "      <th>real_name</th>\n",
              "      <th>title</th>\n",
              "      <th>phone</th>\n",
              "      <th>is_bot</th>\n",
              "    </tr>\n",
              "  </thead>\n",
              "  <tbody>\n",
              "    <tr>\n",
              "      <th>34</th>\n",
              "      <td>U01UMC0N5U2</td>\n",
              "      <td>chuviethong.vn</td>\n",
              "      <td>Việt Hồng Chu</td>\n",
              "      <td>Việt Hồng Chu</td>\n",
              "      <td>Business Analyst</td>\n",
              "      <td>0899306779</td>\n",
              "      <td>False</td>\n",
              "    </tr>\n",
              "  </tbody>\n",
              "</table>\n",
              "</div>"
            ],
            "text/plain": [
              "        user_id            name  ...       phone is_bot\n",
              "34  U01UMC0N5U2  chuviethong.vn  ...  0899306779  False\n",
              "\n",
              "[1 rows x 7 columns]"
            ]
          },
          "metadata": {
            "tags": []
          },
          "execution_count": 22
        }
      ]
    },
    {
      "cell_type": "markdown",
      "metadata": {
        "id": "WRed3m6kblu1"
      },
      "source": [
        "# Optional 1: Update data => Google Spreadsheet"
      ]
    },
    {
      "cell_type": "markdown",
      "metadata": {
        "id": "ny8AlJp5br9J"
      },
      "source": [
        "# TODO#2"
      ]
    },
    {
      "cell_type": "code",
      "metadata": {
        "colab": {
          "base_uri": "https://localhost:8080/"
        },
        "id": "lAmbK6Njbv1V",
        "outputId": "e091bc17-1880-4f3e-e27c-ec0137a13c5b"
      },
      "source": [
        "!ls"
      ],
      "execution_count": 23,
      "outputs": [
        {
          "output_type": "stream",
          "text": [
            " cobalt-catalyst-314307-6b793777d71b.json   sample_data\n",
            " env_variable.json\t\t\t   'Token generate.json'\n"
          ],
          "name": "stdout"
        }
      ]
    },
    {
      "cell_type": "code",
      "metadata": {
        "colab": {
          "base_uri": "https://localhost:8080/"
        },
        "id": "jmamQLWojcYo",
        "outputId": "9b1b5430-c917-44a7-c885-b400248d3ad7"
      },
      "source": [
        "## Authorize bằng JSON\n",
        "scope = ['https://spreadsheets.google.com/feeds',\n",
        "         'https://www.googleapis.com/auth/drive']\n",
        "credentials = ServiceAccountCredentials.from_json_keyfile_name(\n",
        "    'cobalt-catalyst-314307-6b793777d71b.json', scope)\n",
        "gc = gspread.authorize(credentials)\n",
        "print(\"DONE!\")"
      ],
      "execution_count": 25,
      "outputs": [
        {
          "output_type": "stream",
          "text": [
            "DONE!\n"
          ],
          "name": "stdout"
        }
      ]
    },
    {
      "cell_type": "code",
      "metadata": {
        "id": "jQ9bzkuAlDFl"
      },
      "source": [
        "# ACCES GOOGLE SHEET\n",
        "sheet_index_no = 0\n",
        "spreadsheet_key = '1XFv2QcX0u8VpxdR-0OeMeWHQmxwF3vzgrOem67AgASE' # input SPREADSHEET_KEY HERE\n",
        "sh = gc.open_by_key(spreadsheet_key)\n",
        "worksheet = sh.get_worksheet(sheet_index_no) #-> 0 - first sheet, 1 - second sheet etc. \n",
        "\n",
        "# APPEND DATA TO SHEET\n",
        "set_with_dataframe(worksheet, user_df) #-> Upload user_df vào Sheet đầu tiên trong Spreadsheet\n",
        "\n",
        "# DONE: Bây giờ bạn có thể mở spreadsheet và kiểm tra nội dung đã update chứ"
      ],
      "execution_count": 26,
      "outputs": []
    },
    {
      "cell_type": "markdown",
      "metadata": {
        "id": "XLqht2X3bi-C"
      },
      "source": [
        "# Option 2: Ai đã nộp bài?\n",
        "Slack API: Channel List"
      ]
    },
    {
      "cell_type": "code",
      "metadata": {
        "id": "HSm9qyGUbmjZ"
      },
      "source": [
        "## Gọi SLACK API để list tất cả các channel\n",
        "endpoint = \"https://slack.com/api/conversations.list\"\n",
        "headers = {\"Authorization\": \"Bearer {}\".format(os.environ['SLACK_BEARER_TOKEN'])}\n",
        "response = requests.post(endpoint, headers=headers).json() \n",
        "channel_ls = response['channels']"
      ],
      "execution_count": 27,
      "outputs": []
    },
    {
      "cell_type": "code",
      "metadata": {
        "id": "aZ-Kf4pHbt0w",
        "outputId": "59ebbb2c-954a-4761-f747-f5bbe88b0d03",
        "colab": {
          "base_uri": "https://localhost:8080/"
        }
      },
      "source": [
        "channel_ls[0] ## Thử extract record đầu tiên để xem schema  => name: general, id: C01B4PVGLVB"
      ],
      "execution_count": 28,
      "outputs": [
        {
          "output_type": "execute_result",
          "data": {
            "text/plain": [
              "{'created': 1600856703,\n",
              " 'creator': 'U01BE2PR6LU',\n",
              " 'id': 'C01B4PVGLVB',\n",
              " 'is_archived': False,\n",
              " 'is_channel': True,\n",
              " 'is_ext_shared': False,\n",
              " 'is_general': True,\n",
              " 'is_group': False,\n",
              " 'is_im': False,\n",
              " 'is_member': False,\n",
              " 'is_mpim': False,\n",
              " 'is_org_shared': False,\n",
              " 'is_pending_ext_shared': False,\n",
              " 'is_private': False,\n",
              " 'is_shared': False,\n",
              " 'name': 'general',\n",
              " 'name_normalized': 'general',\n",
              " 'num_members': 63,\n",
              " 'parent_conversation': None,\n",
              " 'pending_connected_team_ids': [],\n",
              " 'pending_shared': [],\n",
              " 'previous_names': [],\n",
              " 'purpose': {'creator': 'U01BE2PR6LU',\n",
              "  'last_set': 1600856703,\n",
              "  'value': 'This is the one channel that will always include everyone. It’s a great spot for announcements and team-wide conversations.'},\n",
              " 'shared_team_ids': ['T01B7SGGMLJ'],\n",
              " 'topic': {'creator': '', 'last_set': 0, 'value': ''},\n",
              " 'unlinked': 0}"
            ]
          },
          "metadata": {
            "tags": []
          },
          "execution_count": 28
        }
      ]
    },
    {
      "cell_type": "markdown",
      "metadata": {
        "id": "mnLALxv9byX-"
      },
      "source": [
        "# TODO#3\n",
        "Tìm id của channel #atom-assignment2"
      ]
    },
    {
      "cell_type": "code",
      "metadata": {
        "id": "qWMXMndebwcm",
        "outputId": "2bd42524-12cd-456a-9b95-ff587cda32d5",
        "colab": {
          "base_uri": "https://localhost:8080/"
        }
      },
      "source": [
        "for i in range(len(channel_ls)): #Tìm trong các phần tử của channel_ls\n",
        "    if channel_ls[i]['name'] == 'atom-assignment2': #phần tử nào có name là atom-assignment2\n",
        "        print(channel_ls[i]['id'])"
      ],
      "execution_count": 29,
      "outputs": [
        {
          "output_type": "stream",
          "text": [
            "C021FSDN7LJ\n"
          ],
          "name": "stdout"
        }
      ]
    },
    {
      "cell_type": "code",
      "metadata": {
        "id": "uCgrnL18b4fi"
      },
      "source": [
        "endpoint = \"https://slack.com/api/conversations.history\"\n",
        "data = {\"channel\": \"C01U6P7LZ8F\"} ## This is ID of assignment#1 channel\n",
        "headers = {\"Authorization\": \"Bearer {}\".format(os.environ['SLACK_BEARER_TOKEN'])}"
      ],
      "execution_count": 30,
      "outputs": []
    },
    {
      "cell_type": "code",
      "metadata": {
        "id": "imjKszMZb9Sy"
      },
      "source": [
        "response_json = requests.post(endpoint, data=data, headers=headers).json()\n",
        "msg_ls = response_json['messages']"
      ],
      "execution_count": 31,
      "outputs": []
    },
    {
      "cell_type": "code",
      "metadata": {
        "id": "HJVnb4YQcLsB",
        "outputId": "15bf2ced-b902-4e51-fda4-9d46c03c2213",
        "colab": {
          "base_uri": "https://localhost:8080/"
        }
      },
      "source": [
        "msg_ls[21]"
      ],
      "execution_count": 32,
      "outputs": [
        {
          "output_type": "execute_result",
          "data": {
            "text/plain": [
              "{'attachments': [{'app_unfurl_url': 'https://github.com/saturn1101/datacracy-atom-phuong-tran',\n",
              "   'bot_id': 'B01UQU8E2A3',\n",
              "   'color': '24292f',\n",
              "   'fallback': 'saturn1101/datacracy-atom-phuong-tran',\n",
              "   'fields': [{'short': True,\n",
              "     'title': 'Language',\n",
              "     'value': 'Jupyter Notebook'},\n",
              "    {'short': True, 'title': 'Last updated', 'value': '6 minutes ago'}],\n",
              "   'id': 1,\n",
              "   'is_app_unfurl': True,\n",
              "   'title': 'saturn1101/datacracy-atom-phuong-tran'},\n",
              "  {'fallback': 'Google Colaboratory',\n",
              "   'from_url': 'https://colab.research.google.com/drive/1ilny8bAtOMOT57mVxJDoEZyQWJ_9-UvX?usp=sharing',\n",
              "   'id': 1,\n",
              "   'image_bytes': 4534,\n",
              "   'image_height': 250,\n",
              "   'image_url': 'https://colab.research.google.com/img/colab_favicon_256px.png',\n",
              "   'image_width': 250,\n",
              "   'original_url': 'https://colab.research.google.com/drive/1ilny8bAtOMOT57mVxJDoEZyQWJ_9-UvX?usp=sharing',\n",
              "   'service_icon': 'https://colab.research.google.com/img/favicon.ico?vrz=colab-20210429-060047-RC00_371090719',\n",
              "   'service_name': 'colab.research.google.com',\n",
              "   'title': 'Google Colaboratory',\n",
              "   'title_link': 'https://colab.research.google.com/drive/1ilny8bAtOMOT57mVxJDoEZyQWJ_9-UvX?usp=sharing'}],\n",
              " 'blocks': [{'block_id': 'rsRb',\n",
              "   'elements': [{'elements': [{'text': 'Em gửi Assignment 1 ạ:\\n',\n",
              "       'type': 'text'}],\n",
              "     'type': 'rich_text_section'},\n",
              "    {'elements': [{'elements': [{'text': 'Link ', 'type': 'text'},\n",
              "        {'style': {'bold': True},\n",
              "         'text': 'Google Spreadsheet',\n",
              "         'type': 'text'},\n",
              "        {'text': ' Task 1: ', 'type': 'text'},\n",
              "        {'type': 'link',\n",
              "         'url': 'https://docs.google.com/spreadsheets/d/1HaV9sUI6UQzgcRqpzkGy18XYlzcon2hWiFGuKhnz5IU/edit?usp=sharing'}],\n",
              "       'type': 'rich_text_section'},\n",
              "      {'elements': [{'text': 'Link ', 'type': 'text'},\n",
              "        {'style': {'bold': True}, 'text': 'Google Colab', 'type': 'text'},\n",
              "        {'text': ' Task 2: ', 'type': 'text'},\n",
              "        {'type': 'link',\n",
              "         'url': 'https://colab.research.google.com/drive/1ilny8bAtOMOT57mVxJDoEZyQWJ_9-UvX?usp=sharing'}],\n",
              "       'type': 'rich_text_section'},\n",
              "      {'elements': [{'text': 'Github: ', 'type': 'text'},\n",
              "        {'type': 'link',\n",
              "         'url': 'https://github.com/saturn1101/datacracy-atom-phuong-tran'}],\n",
              "       'type': 'rich_text_section'}],\n",
              "     'indent': 0,\n",
              "     'style': 'ordered',\n",
              "     'type': 'rich_text_list'}],\n",
              "   'type': 'rich_text'}],\n",
              " 'client_msg_id': '8a6f0a0c-f0dc-4666-b667-0f659766908f',\n",
              " 'is_locked': False,\n",
              " 'latest_reply': '1621014686.024600',\n",
              " 'reactions': [{'count': 1, 'name': '+1', 'users': ['U01VB632FPS']},\n",
              "  {'count': 1, 'name': 'white_check_mark', 'users': ['U01UMBZHU2W']}],\n",
              " 'reply_count': 1,\n",
              " 'reply_users': ['U01UMBZHU2W'],\n",
              " 'reply_users_count': 1,\n",
              " 'subscribed': False,\n",
              " 'team': 'T01B7SGGMLJ',\n",
              " 'text': 'Em gửi Assignment 1 ạ:\\n1. Link *Google Spreadsheet* Task 1: <https://docs.google.com/spreadsheets/d/1HaV9sUI6UQzgcRqpzkGy18XYlzcon2hWiFGuKhnz5IU/edit?usp=sharing>\\n2. Link *Google Colab* Task 2: <https://colab.research.google.com/drive/1ilny8bAtOMOT57mVxJDoEZyQWJ_9-UvX?usp=sharing>\\n3. Github: <https://github.com/saturn1101/datacracy-atom-phuong-tran>',\n",
              " 'thread_ts': '1620031879.001200',\n",
              " 'ts': '1620031879.001200',\n",
              " 'type': 'message',\n",
              " 'user': 'U01V00KHHHP'}"
            ]
          },
          "metadata": {
            "tags": []
          },
          "execution_count": 32
        }
      ]
    },
    {
      "cell_type": "code",
      "metadata": {
        "id": "Y4HcDftwciUh"
      },
      "source": [
        "not_learners_id = ['U01BE2PR6LU']"
      ],
      "execution_count": 33,
      "outputs": []
    },
    {
      "cell_type": "code",
      "metadata": {
        "id": "miH4csu5clR0",
        "outputId": "eae91cf9-23e1-48d7-8126-9060218fb49f",
        "colab": {
          "base_uri": "https://localhost:8080/"
        }
      },
      "source": [
        "## Summarize all submitted assignments + reviews cnt\n",
        "not_learners_id = ['U01BE2PR6LU'] # -> Remove MA from the user_id\n",
        "github, reply_count, reply_users_count, reply_users, latest_reply = '','','','',''\n",
        "for i in range(20):\n",
        "  ts = dt.fromtimestamp(float(msg_ls[i]['ts'])) # -> Convert timestamp Epoch thành dàng dễ đọc\n",
        "  user = msg_ls[i]['user'] # -> Lấy thông tin người post messages\n",
        "  if msg_ls[i]['user'] not in not_learners_id:\n",
        "    if 'attachments' in msg_ls[i].keys():\n",
        "      #print(msg_ls[i].keys())\n",
        "      text = msg_ls[i]['text']\n",
        "      github_link = re.findall('(?:https?://)?(?:www[.])?github[.]com/[\\w-]+/?', text) #-> Submission là các message có link github\n",
        "      #print(msg_ls[i])\n",
        "      if len(github_link) > 0: github = github_link[0]\n",
        "      if 'reply_count' in msg_ls[i].keys(): reply_count = msg_ls[i]['reply_count'] #-> Extract số review\n",
        "      if 'reply_users_count' in msg_ls[i].keys(): reply_users_count = msg_ls[i]['reply_users_count']\n",
        "      if 'reply_users' in msg_ls[i].keys(): reply_users = msg_ls[i]['reply_users']\n",
        "      if 'latest_reply' in msg_ls[i].keys(): latest_reply = dt.fromtimestamp(float(msg_ls[i]['latest_reply']))\n",
        "      print(ts, user, reply_users_count, reply_users, latest_reply, github)"
      ],
      "execution_count": 34,
      "outputs": [
        {
          "output_type": "stream",
          "text": [
            "2021-05-10 04:51:46.004700 U01UJ9LG5U5 2 ['U01USGKQ771', 'U01V00KHHHP'] 2021-05-15 09:14:31.003600 https://github.com/danhpcv/\n",
            "2021-05-10 04:35:39.003800 U01UMC08KL2 2 ['U01UTGS5ZNY', 'U01UMC08KL2'] 2021-05-18 08:09:59.000800 https://github.com/auslynnguyen/\n",
            "2021-05-08 06:31:59.005200 U01UMJ36QD9 1 ['U01UMBX2X18'] 2021-05-08 06:36:43.006000 https://github.com/auslynnguyen/\n",
            "2021-05-04 13:55:46.001800 U01UTGVPE7N 1 ['U01UMBX2X18'] 2021-05-08 06:36:43.006000 https://github.com/hoaintp/\n"
          ],
          "name": "stdout"
        }
      ]
    },
    {
      "cell_type": "markdown",
      "metadata": {
        "id": "r2ViT_0RcqkT"
      },
      "source": [
        "# TODO#4\n",
        "Tạo thành 1 bảng chứa các thông tin trên và update lên Spreadsheet (Sheet: Assignment#2 Submission)"
      ]
    },
    {
      "cell_type": "code",
      "metadata": {
        "id": "t5XxC4xjcsO8",
        "outputId": "e1965ca4-9ba5-418d-c3f2-88d6b9eb55fe",
        "colab": {
          "base_uri": "https://localhost:8080/"
        }
      },
      "source": [
        "assignment_dict = {'time': [], 'user': [], 'reply_count': [], 'reply_users_count': [], 'reply_user': [], 'latest_reply': [], 'github': []}\n",
        "not_learners_id = ['U01BE2PR6LU']\n",
        "for i in range(40):\n",
        "  ts = dt.fromtimestamp(float(msg_ls[i]['ts'])) # -> Convert timestamp Epoch thành dàng dễ đọc\n",
        "  assignment_dict['time'].append(ts)\n",
        "  assignment_dict['user'].append(msg_ls[i]['user']) # -> Lấy thông tin người post messages\n",
        "  if msg_ls[i]['user'] not in not_learners_id:\n",
        "    if 'attachments' in msg_ls[i].keys():\n",
        "      #print(msg_ls[i].keys())\n",
        "      text = msg_ls[i]['text']\n",
        "      github_link = re.findall('(?:https?://)?(?:www[.])?github[.]com/[\\w-]+/?', text) #-> Submission là các message có link github\n",
        "      #print(msg_ls[i])\n",
        "      if len(github_link) > 0: assignment_dict['github'].append(github_link[0])\n",
        "      if 'reply_count' in msg_ls[i].keys(): assignment_dict['reply_count'].append(msg_ls[i]['reply_count']) #-> Extract số review\n",
        "      if 'reply_users_count' in msg_ls[i].keys(): assignment_dict['reply_users_count'].append(msg_ls[i]['reply_users_count'])\n",
        "      if 'reply_users' in msg_ls[i].keys(): assignment_dict['reply_user'].append(msg_ls[i]['reply_users'])\n",
        "      if 'latest_reply' in msg_ls[i].keys(): assignment_dict['latest_reply'].append(dt.fromtimestamp(float(msg_ls[i]['latest_reply'])))\n",
        "assignment_dict\n"
      ],
      "execution_count": 35,
      "outputs": [
        {
          "output_type": "execute_result",
          "data": {
            "text/plain": [
              "{'github': ['https://github.com/danhpcv/',\n",
              "  'https://github.com/auslynnguyen/',\n",
              "  'https://github.com/hoaintp/',\n",
              "  'https://github.com/Tenderriver/',\n",
              "  'https://github.com/saturn1101/',\n",
              "  'https://github.com/AnhThuNguyenHuynh/',\n",
              "  'https://github.com/vietqh/',\n",
              "  'https://github.com/vuthanhdatt/',\n",
              "  'https://github.com/TranPham-96/',\n",
              "  'https://github.com/annaho124/',\n",
              "  'https://github.com/minhnguyentk95/',\n",
              "  'https://github.com/lienanh264/',\n",
              "  'https://github.com/Lulichlam/',\n",
              "  'https://github.com/tamle1012/'],\n",
              " 'latest_reply': [datetime.datetime(2021, 5, 15, 9, 14, 31, 3600),\n",
              "  datetime.datetime(2021, 5, 18, 8, 9, 59, 800),\n",
              "  datetime.datetime(2021, 5, 8, 6, 36, 43, 6000),\n",
              "  datetime.datetime(2021, 5, 11, 3, 10, 6, 1300),\n",
              "  datetime.datetime(2021, 5, 14, 17, 51, 26, 24600),\n",
              "  datetime.datetime(2021, 5, 14, 17, 52, 35, 25100),\n",
              "  datetime.datetime(2021, 5, 11, 12, 37, 14, 3100),\n",
              "  datetime.datetime(2021, 5, 14, 11, 22, 6, 23600),\n",
              "  datetime.datetime(2021, 5, 11, 12, 39, 13, 3700),\n",
              "  datetime.datetime(2021, 5, 10, 12, 45, 15, 5800),\n",
              "  datetime.datetime(2021, 5, 15, 1, 58, 19, 1900),\n",
              "  datetime.datetime(2021, 5, 11, 14, 46, 48, 5500),\n",
              "  datetime.datetime(2021, 5, 11, 15, 58, 18, 6600)],\n",
              " 'reply_count': [2, 2, 1, 2, 1, 2, 1, 1, 2, 1, 1, 1, 1],\n",
              " 'reply_user': [['U01USGKQ771', 'U01V00KHHHP'],\n",
              "  ['U01UTGS5ZNY', 'U01UMC08KL2'],\n",
              "  ['U01UMBX2X18'],\n",
              "  ['U01UMC0N5U2', 'U01U6JQB695'],\n",
              "  ['U01UMBZHU2W'],\n",
              "  ['U01UMJ451V1', 'U01UMBZHU2W'],\n",
              "  ['U01UMJ451V1'],\n",
              "  ['U01V00P4S2V'],\n",
              "  ['U01UMBW8G8J', 'U01UMJ451V1'],\n",
              "  ['U01UJ9MUADT'],\n",
              "  ['U01UTGVPE7N'],\n",
              "  ['U01UTGRMGEQ'],\n",
              "  ['U01UJ9PA0MB']],\n",
              " 'reply_users_count': [2, 2, 1, 2, 1, 2, 1, 1, 2, 1, 1, 1, 1],\n",
              " 'time': [datetime.datetime(2021, 5, 21, 4, 57, 44, 900),\n",
              "  datetime.datetime(2021, 5, 20, 16, 43, 26, 600),\n",
              "  datetime.datetime(2021, 5, 20, 1, 58, 2, 300),\n",
              "  datetime.datetime(2021, 5, 18, 16, 45, 9, 1300),\n",
              "  datetime.datetime(2021, 5, 17, 17, 11, 11, 2600),\n",
              "  datetime.datetime(2021, 5, 15, 10, 28, 4, 5600),\n",
              "  datetime.datetime(2021, 5, 15, 10, 27, 40, 5500),\n",
              "  datetime.datetime(2021, 5, 15, 10, 27, 20, 5400),\n",
              "  datetime.datetime(2021, 5, 15, 10, 26, 41, 5300),\n",
              "  datetime.datetime(2021, 5, 15, 9, 58, 42, 5000),\n",
              "  datetime.datetime(2021, 5, 13, 14, 9, 48, 11000),\n",
              "  datetime.datetime(2021, 5, 10, 4, 51, 46, 4700),\n",
              "  datetime.datetime(2021, 5, 10, 4, 35, 39, 3800),\n",
              "  datetime.datetime(2021, 5, 10, 3, 7, 35, 1200),\n",
              "  datetime.datetime(2021, 5, 8, 6, 43, 25, 6900),\n",
              "  datetime.datetime(2021, 5, 8, 6, 36, 43, 6000),\n",
              "  datetime.datetime(2021, 5, 8, 6, 31, 59, 5200),\n",
              "  datetime.datetime(2021, 5, 8, 2, 56, 13, 1700),\n",
              "  datetime.datetime(2021, 5, 7, 16, 29, 48, 700),\n",
              "  datetime.datetime(2021, 5, 4, 13, 55, 46, 1800),\n",
              "  datetime.datetime(2021, 5, 3, 17, 41, 18, 2400),\n",
              "  datetime.datetime(2021, 5, 3, 8, 51, 19, 1200),\n",
              "  datetime.datetime(2021, 4, 26, 6, 53, 56, 800),\n",
              "  datetime.datetime(2021, 4, 24, 2, 1, 27, 43200),\n",
              "  datetime.datetime(2021, 4, 24, 1, 44, 32, 42500),\n",
              "  datetime.datetime(2021, 4, 24, 1, 8, 57, 41400),\n",
              "  datetime.datetime(2021, 4, 23, 22, 16, 41, 38200),\n",
              "  datetime.datetime(2021, 4, 23, 19, 47, 27, 36100),\n",
              "  datetime.datetime(2021, 4, 23, 18, 56, 58, 34700),\n",
              "  datetime.datetime(2021, 4, 23, 18, 55, 40, 33300),\n",
              "  datetime.datetime(2021, 4, 23, 16, 49, 42, 30500),\n",
              "  datetime.datetime(2021, 4, 23, 16, 45, 14, 29300),\n",
              "  datetime.datetime(2021, 4, 23, 16, 41, 53, 26200),\n",
              "  datetime.datetime(2021, 4, 23, 15, 48, 6, 23900),\n",
              "  datetime.datetime(2021, 4, 23, 15, 3, 37, 23200),\n",
              "  datetime.datetime(2021, 4, 23, 14, 49, 19, 22500),\n",
              "  datetime.datetime(2021, 4, 23, 14, 18, 48, 21900),\n",
              "  datetime.datetime(2021, 4, 23, 13, 3, 6, 17800),\n",
              "  datetime.datetime(2021, 4, 23, 12, 59, 45, 16300),\n",
              "  datetime.datetime(2021, 4, 23, 12, 55, 27, 14000)],\n",
              " 'user': ['U0226MQ73MJ',\n",
              "  'U0226MQ73MJ',\n",
              "  'U0226MQ73MJ',\n",
              "  'U0226MQ73MJ',\n",
              "  'U0226MQ73MJ',\n",
              "  'U01BE2PR6LU',\n",
              "  'U01BE2PR6LU',\n",
              "  'U01BE2PR6LU',\n",
              "  'U01BE2PR6LU',\n",
              "  'U0226MQ73MJ',\n",
              "  'U01UTGRMGEQ',\n",
              "  'U01UJ9LG5U5',\n",
              "  'U01UMC08KL2',\n",
              "  'U01UTGRQS9J',\n",
              "  'U01BE2PR6LU',\n",
              "  'U01UMBX2X18',\n",
              "  'U01UMJ36QD9',\n",
              "  'U01UMC0N5U2',\n",
              "  'U01USGKQ771',\n",
              "  'U01UTGVPE7N',\n",
              "  'U01U6JQB695',\n",
              "  'U01V00KHHHP',\n",
              "  'U01UMBZHU2W',\n",
              "  'U01VB63LRNC',\n",
              "  'U01UTGS5ZNY',\n",
              "  'U01U6JM6LEB',\n",
              "  'U01V00P4S2V',\n",
              "  'U01UMBX2X18',\n",
              "  'U01UTGRP0HJ',\n",
              "  'U01UEJFMUSJ',\n",
              "  'U01UJ9P1S3X',\n",
              "  'U01UMJ451V1',\n",
              "  'U01UJ9M5TU5',\n",
              "  'U01UJ9NKX8D',\n",
              "  'U01UJ9MUADT',\n",
              "  'U01VB6AT4G0',\n",
              "  'U01UJ9PRT5K',\n",
              "  'U01VB632FPS',\n",
              "  'U01UTGRMGEQ',\n",
              "  'U01VB632FPS']}"
            ]
          },
          "metadata": {
            "tags": []
          },
          "execution_count": 35
        }
      ]
    },
    {
      "cell_type": "code",
      "metadata": {
        "id": "qvNzg6ZScyMB",
        "outputId": "950a161e-9157-4544-a366-039fff97f657",
        "colab": {
          "base_uri": "https://localhost:8080/",
          "height": 281
        }
      },
      "source": [
        "assignment_df = pd.DataFrame(dict([ (k,pd.Series(v)) for k,v in assignment_dict.items() ]))\n",
        "assignment_df.head()"
      ],
      "execution_count": 36,
      "outputs": [
        {
          "output_type": "execute_result",
          "data": {
            "text/html": [
              "<div>\n",
              "<style scoped>\n",
              "    .dataframe tbody tr th:only-of-type {\n",
              "        vertical-align: middle;\n",
              "    }\n",
              "\n",
              "    .dataframe tbody tr th {\n",
              "        vertical-align: top;\n",
              "    }\n",
              "\n",
              "    .dataframe thead th {\n",
              "        text-align: right;\n",
              "    }\n",
              "</style>\n",
              "<table border=\"1\" class=\"dataframe\">\n",
              "  <thead>\n",
              "    <tr style=\"text-align: right;\">\n",
              "      <th></th>\n",
              "      <th>time</th>\n",
              "      <th>user</th>\n",
              "      <th>reply_count</th>\n",
              "      <th>reply_users_count</th>\n",
              "      <th>reply_user</th>\n",
              "      <th>latest_reply</th>\n",
              "      <th>github</th>\n",
              "    </tr>\n",
              "  </thead>\n",
              "  <tbody>\n",
              "    <tr>\n",
              "      <th>0</th>\n",
              "      <td>2021-05-21 04:57:44.000900</td>\n",
              "      <td>U0226MQ73MJ</td>\n",
              "      <td>2.0</td>\n",
              "      <td>2.0</td>\n",
              "      <td>[U01USGKQ771, U01V00KHHHP]</td>\n",
              "      <td>2021-05-15 09:14:31.003600</td>\n",
              "      <td>https://github.com/danhpcv/</td>\n",
              "    </tr>\n",
              "    <tr>\n",
              "      <th>1</th>\n",
              "      <td>2021-05-20 16:43:26.000600</td>\n",
              "      <td>U0226MQ73MJ</td>\n",
              "      <td>2.0</td>\n",
              "      <td>2.0</td>\n",
              "      <td>[U01UTGS5ZNY, U01UMC08KL2]</td>\n",
              "      <td>2021-05-18 08:09:59.000800</td>\n",
              "      <td>https://github.com/auslynnguyen/</td>\n",
              "    </tr>\n",
              "    <tr>\n",
              "      <th>2</th>\n",
              "      <td>2021-05-20 01:58:02.000300</td>\n",
              "      <td>U0226MQ73MJ</td>\n",
              "      <td>1.0</td>\n",
              "      <td>1.0</td>\n",
              "      <td>[U01UMBX2X18]</td>\n",
              "      <td>2021-05-08 06:36:43.006000</td>\n",
              "      <td>https://github.com/hoaintp/</td>\n",
              "    </tr>\n",
              "    <tr>\n",
              "      <th>3</th>\n",
              "      <td>2021-05-18 16:45:09.001300</td>\n",
              "      <td>U0226MQ73MJ</td>\n",
              "      <td>2.0</td>\n",
              "      <td>2.0</td>\n",
              "      <td>[U01UMC0N5U2, U01U6JQB695]</td>\n",
              "      <td>2021-05-11 03:10:06.001300</td>\n",
              "      <td>https://github.com/Tenderriver/</td>\n",
              "    </tr>\n",
              "    <tr>\n",
              "      <th>4</th>\n",
              "      <td>2021-05-17 17:11:11.002600</td>\n",
              "      <td>U0226MQ73MJ</td>\n",
              "      <td>1.0</td>\n",
              "      <td>1.0</td>\n",
              "      <td>[U01UMBZHU2W]</td>\n",
              "      <td>2021-05-14 17:51:26.024600</td>\n",
              "      <td>https://github.com/saturn1101/</td>\n",
              "    </tr>\n",
              "  </tbody>\n",
              "</table>\n",
              "</div>"
            ],
            "text/plain": [
              "                        time  ...                            github\n",
              "0 2021-05-21 04:57:44.000900  ...       https://github.com/danhpcv/\n",
              "1 2021-05-20 16:43:26.000600  ...  https://github.com/auslynnguyen/\n",
              "2 2021-05-20 01:58:02.000300  ...       https://github.com/hoaintp/\n",
              "3 2021-05-18 16:45:09.001300  ...   https://github.com/Tenderriver/\n",
              "4 2021-05-17 17:11:11.002600  ...    https://github.com/saturn1101/\n",
              "\n",
              "[5 rows x 7 columns]"
            ]
          },
          "metadata": {
            "tags": []
          },
          "execution_count": 36
        }
      ]
    },
    {
      "cell_type": "code",
      "metadata": {
        "id": "pc7TWv8rc8Vt",
        "outputId": "e22d5f57-5488-434b-918a-4733e641a7b6",
        "colab": {
          "base_uri": "https://localhost:8080/"
        }
      },
      "source": [
        "## Authorize bằng JSON\n",
        "scope = ['https://spreadsheets.google.com/feeds',\n",
        "         'https://www.googleapis.com/auth/drive']\n",
        "credentials = ServiceAccountCredentials.from_json_keyfile_name(\n",
        "    'cobalt-catalyst-314307-6b793777d71b.json', scope)\n",
        "gc = gspread.authorize(credentials)\n",
        "print(\"DONE!\")"
      ],
      "execution_count": 37,
      "outputs": [
        {
          "output_type": "stream",
          "text": [
            "DONE!\n"
          ],
          "name": "stdout"
        }
      ]
    },
    {
      "cell_type": "code",
      "metadata": {
        "id": "VmFbBlmydFQc"
      },
      "source": [
        "sheet_index_no = 0\n",
        "spreadsheet_key = '1XFv2QcX0u8VpxdR-0OeMeWHQmxwF3vzgrOem67AgASE' # input SPREADSHEET_KEY HERE\n",
        "sh = gc.open_by_key(spreadsheet_key)\n",
        "worksheet = sh.get_worksheet(sheet_index_no) #-> 0 - first sheet, 1 - second sheet etc. \n",
        "\n",
        "# APPEND DATA TO SHEET\n",
        "set_with_dataframe(worksheet, user_df) #-> Upload user_df vào Sheet đầu tiên trong Spreadsheet\n",
        "\n",
        "# DONE: Bây giờ bạn có thể mở spreadsheet và kiểm tra nội dung đã update chứ"
      ],
      "execution_count": 38,
      "outputs": []
    },
    {
      "cell_type": "code",
      "metadata": {
        "id": "FKusCZl9dL4-",
        "outputId": "76de7d63-ea0f-4797-8086-4d0751e186e8",
        "colab": {
          "base_uri": "https://localhost:8080/"
        }
      },
      "source": [
        "# ACCESS GOOGLE SHEET\n",
        "sheet_index_no = 1\n",
        "spreadsheet_key = '1XFv2QcX0u8VpxdR-0OeMeWHQmxwF3vzgrOem67AgASE' # input SPREADSHEET_KEY HERE\n",
        "sh = gc.open_by_key(spreadsheet_key)\n",
        "worksheet = sh.add_worksheet(title= 'TODO4', rows= \"100\", cols= \"20\") #-> 0 - first sheet, 1 - second sheet etc. \n",
        "\n",
        "# APPEND DATA TO SHEET\n",
        "set_with_dataframe(worksheet, assignment_df) #-> Upload assignment_df vào Sheet 2 trong Spreadsheet\n",
        "print('Done!')"
      ],
      "execution_count": 39,
      "outputs": [
        {
          "output_type": "stream",
          "text": [
            "Done!\n"
          ],
          "name": "stdout"
        }
      ]
    }
  ]
}