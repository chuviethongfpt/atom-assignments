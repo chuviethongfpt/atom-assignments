{
  "nbformat": 4,
  "nbformat_minor": 0,
  "metadata": {
    "colab": {
      "name": "Home_Assignment_#5_CVH.ipynb",
      "provenance": [],
      "collapsed_sections": [],
      "authorship_tag": "ABX9TyPFp+ODWaUHn2bBwF1q8JJ3",
      "include_colab_link": true
    },
    "kernelspec": {
      "name": "python3",
      "display_name": "Python 3"
    },
    "language_info": {
      "name": "python"
    }
  },
  "cells": [
    {
      "cell_type": "markdown",
      "metadata": {
        "id": "view-in-github",
        "colab_type": "text"
      },
      "source": [
        "<a href=\"https://colab.research.google.com/github/chuviethongfpt/atom-assignments/blob/main/Home_Assignment__5_CVH.ipynb\" target=\"_parent\"><img src=\"https://colab.research.google.com/assets/colab-badge.svg\" alt=\"Open In Colab\"/></a>"
      ]
    },
    {
      "cell_type": "code",
      "metadata": {
        "id": "vJCJDmOfoG2h"
      },
      "source": [
        "import requests #-> Để gọi API\n",
        "import re #-> Để xử lý data dạng string\n",
        "from datetime import datetime as dt #-> Để xử lý data dạng datetime\n",
        "import gspread #-> Để update data lên Google Spreadsheet\n",
        "from gspread_dataframe import set_with_dataframe #-> Để update data lên Google Spreadsheet\n",
        "import pandas as pd #-> Để update data dạng bản\n",
        "import json \n",
        "from oauth2client.service_account import ServiceAccountCredentials #-> Để nhập Google Spreadsheet Credentials\n",
        "import os\n",
        "import numpy as np"
      ],
      "execution_count": 1,
      "outputs": []
    },
    {
      "cell_type": "markdown",
      "metadata": {
        "id": "NP2hoyh7gRDo"
      },
      "source": [
        "# TODO 1: BIGQUERY & SQL"
      ]
    },
    {
      "cell_type": "code",
      "metadata": {
        "colab": {
          "base_uri": "https://localhost:8080/"
        },
        "id": "YncBg0zoXno1",
        "outputId": "3f4ae6e9-5e3c-4c35-c4ac-86fa178be2fe"
      },
      "source": [
        "!ls"
      ],
      "execution_count": 2,
      "outputs": [
        {
          "output_type": "stream",
          "text": [
            "env_variable.json  healthy-cubist-315301-d974eee70c6a.json  sample_data\n"
          ],
          "name": "stdout"
        }
      ]
    },
    {
      "cell_type": "code",
      "metadata": {
        "id": "dMd1Mm4HXzv8"
      },
      "source": [
        "with open('env_variable.json', 'r') as j:\n",
        "    json_data = json.load(j)\n",
        "    # print(json_data)"
      ],
      "execution_count": 3,
      "outputs": []
    },
    {
      "cell_type": "code",
      "metadata": {
        "id": "i4dO6hfbX505"
      },
      "source": [
        "os.environ['SLACK_BEARER_TOKEN'] = json_data['SLACK_BEARER_TOKEN']"
      ],
      "execution_count": 4,
      "outputs": []
    },
    {
      "cell_type": "code",
      "metadata": {
        "id": "aipHGsw9bo46"
      },
      "source": [
        "## Gọi API từ Endpoints (Input - Token được đưa vào Headers)\n",
        "## Challenge: Thử gọi API này bằng Postman\n",
        "endpoint = \"https://slack.com/api/users.list\"\n",
        "headers = {\"Authorization\": \"Bearer {}\".format(os.environ['SLACK_BEARER_TOKEN'])}\n",
        "response_json = requests.post(endpoint, headers=headers).json() \n",
        "user_dat = response_json['members']"
      ],
      "execution_count": 5,
      "outputs": []
    },
    {
      "cell_type": "code",
      "metadata": {
        "colab": {
          "base_uri": "https://localhost:8080/",
          "height": 194
        },
        "id": "CayuhC2bcloO",
        "outputId": "ce199e0e-ab49-4092-8f13-ba561d52be93"
      },
      "source": [
        "user_dict = {'user_id':[],'name':[],'display_name':[],'real_name':[],'title':[],'is_bot':[]}\n",
        "for i in range(len(user_dat)):\n",
        "  user_dict['user_id'].append(user_dat[i]['id'])\n",
        "  user_dict['name'].append(user_dat[i]['name'])\n",
        "  user_dict['display_name'].append(user_dat[i]['profile']['display_name'])\n",
        "  user_dict['real_name'].append(user_dat[i]['profile']['real_name_normalized'])\n",
        "  user_dict['title'].append(user_dat[i]['profile']['title'])\n",
        "  user_dict['is_bot'].append(user_dat[i]['is_bot'])\n",
        "\n",
        "user_df = pd.DataFrame(user_dict) \n",
        "user_df = user_df.replace('', np.nan) # -> replace khoảng trắng bằng giá trị NULL (nan)\n",
        "user_df.head()"
      ],
      "execution_count": 6,
      "outputs": [
        {
          "output_type": "execute_result",
          "data": {
            "text/html": [
              "<div>\n",
              "<style scoped>\n",
              "    .dataframe tbody tr th:only-of-type {\n",
              "        vertical-align: middle;\n",
              "    }\n",
              "\n",
              "    .dataframe tbody tr th {\n",
              "        vertical-align: top;\n",
              "    }\n",
              "\n",
              "    .dataframe thead th {\n",
              "        text-align: right;\n",
              "    }\n",
              "</style>\n",
              "<table border=\"1\" class=\"dataframe\">\n",
              "  <thead>\n",
              "    <tr style=\"text-align: right;\">\n",
              "      <th></th>\n",
              "      <th>user_id</th>\n",
              "      <th>name</th>\n",
              "      <th>display_name</th>\n",
              "      <th>real_name</th>\n",
              "      <th>title</th>\n",
              "      <th>is_bot</th>\n",
              "    </tr>\n",
              "  </thead>\n",
              "  <tbody>\n",
              "    <tr>\n",
              "      <th>0</th>\n",
              "      <td>USLACKBOT</td>\n",
              "      <td>slackbot</td>\n",
              "      <td>Slackbot</td>\n",
              "      <td>Slackbot</td>\n",
              "      <td>NaN</td>\n",
              "      <td>False</td>\n",
              "    </tr>\n",
              "    <tr>\n",
              "      <th>1</th>\n",
              "      <td>U01AT4T75JB</td>\n",
              "      <td>loclexuan26392</td>\n",
              "      <td>Loc Le Xuan</td>\n",
              "      <td>Loc Le Xuan</td>\n",
              "      <td>NaN</td>\n",
              "      <td>False</td>\n",
              "    </tr>\n",
              "    <tr>\n",
              "      <th>2</th>\n",
              "      <td>U01AVDY7JET</td>\n",
              "      <td>locle.ds</td>\n",
              "      <td>Loc Le Xuan</td>\n",
              "      <td>Loc Le Xuan</td>\n",
              "      <td>NaN</td>\n",
              "      <td>False</td>\n",
              "    </tr>\n",
              "    <tr>\n",
              "      <th>3</th>\n",
              "      <td>U01BE2PR6LU</td>\n",
              "      <td>maianhdang.ftu</td>\n",
              "      <td>MAD</td>\n",
              "      <td>Dặng Huỳnh Mai Anh</td>\n",
              "      <td>Technical Contents</td>\n",
              "      <td>False</td>\n",
              "    </tr>\n",
              "    <tr>\n",
              "      <th>4</th>\n",
              "      <td>U01C48T7S1J</td>\n",
              "      <td>huyenhoang.design</td>\n",
              "      <td>Thanh Huyen Hoang</td>\n",
              "      <td>Thanh Huyen Hoang</td>\n",
              "      <td>NaN</td>\n",
              "      <td>False</td>\n",
              "    </tr>\n",
              "  </tbody>\n",
              "</table>\n",
              "</div>"
            ],
            "text/plain": [
              "       user_id               name  ...               title is_bot\n",
              "0    USLACKBOT           slackbot  ...                 NaN  False\n",
              "1  U01AT4T75JB     loclexuan26392  ...                 NaN  False\n",
              "2  U01AVDY7JET           locle.ds  ...                 NaN  False\n",
              "3  U01BE2PR6LU     maianhdang.ftu  ...  Technical Contents  False\n",
              "4  U01C48T7S1J  huyenhoang.design  ...                 NaN  False\n",
              "\n",
              "[5 rows x 6 columns]"
            ]
          },
          "metadata": {
            "tags": []
          },
          "execution_count": 6
        }
      ]
    },
    {
      "cell_type": "code",
      "metadata": {
        "colab": {
          "base_uri": "https://localhost:8080/",
          "height": 278
        },
        "id": "gEJAmyLhc49b",
        "outputId": "24773f9a-9d0e-4dfe-a6bc-382cff671f38"
      },
      "source": [
        "endpoint2 = \"https://slack.com/api/conversations.list\"\n",
        "data = {'types': 'public_channel,private_channel'} # -> CHECK: API Docs https://api.slack.com/methods/conversations.list/test\n",
        "response_json = requests.post(endpoint2, headers=headers, data=data).json() \n",
        "channel_dat = response_json['channels']\n",
        "\n",
        "channel_dict = {'channel_id':[], 'channel_name':[], 'is_channel':[],'creator':[],'created_at':[],'topics':[],'purpose':[],'num_members':[]}\n",
        "for i in range(len(channel_dat)):\n",
        "  channel_dict['channel_id'].append(channel_dat[i]['id'])\n",
        "  channel_dict['channel_name'].append(channel_dat[i]['name'])\n",
        "  channel_dict['is_channel'].append(channel_dat[i]['is_channel'])\n",
        "  channel_dict['creator'].append(channel_dat[i]['creator'])\n",
        "  channel_dict['created_at'].append(dt.fromtimestamp(float(channel_dat[i]['created'])))\n",
        "  channel_dict['topics'].append(channel_dat[i]['topic']['value'])\n",
        "  channel_dict['purpose'].append(channel_dat[i]['purpose']['value'])\n",
        "  channel_dict['num_members'].append(channel_dat[i]['num_members'])\n",
        "\n",
        "channel_df = pd.DataFrame(channel_dict) \n",
        "channel_df = channel_df.replace('', np.nan) # -> replace khoảng trắng bằng giá trị NULL (nan)\n",
        "channel_df.head()"
      ],
      "execution_count": 7,
      "outputs": [
        {
          "output_type": "execute_result",
          "data": {
            "text/html": [
              "<div>\n",
              "<style scoped>\n",
              "    .dataframe tbody tr th:only-of-type {\n",
              "        vertical-align: middle;\n",
              "    }\n",
              "\n",
              "    .dataframe tbody tr th {\n",
              "        vertical-align: top;\n",
              "    }\n",
              "\n",
              "    .dataframe thead th {\n",
              "        text-align: right;\n",
              "    }\n",
              "</style>\n",
              "<table border=\"1\" class=\"dataframe\">\n",
              "  <thead>\n",
              "    <tr style=\"text-align: right;\">\n",
              "      <th></th>\n",
              "      <th>channel_id</th>\n",
              "      <th>channel_name</th>\n",
              "      <th>is_channel</th>\n",
              "      <th>creator</th>\n",
              "      <th>created_at</th>\n",
              "      <th>topics</th>\n",
              "      <th>purpose</th>\n",
              "      <th>num_members</th>\n",
              "    </tr>\n",
              "  </thead>\n",
              "  <tbody>\n",
              "    <tr>\n",
              "      <th>0</th>\n",
              "      <td>C01B4PVGLVB</td>\n",
              "      <td>general</td>\n",
              "      <td>True</td>\n",
              "      <td>U01BE2PR6LU</td>\n",
              "      <td>2020-09-23 10:25:03</td>\n",
              "      <td>NaN</td>\n",
              "      <td>This is the one channel that will always inclu...</td>\n",
              "      <td>64</td>\n",
              "    </tr>\n",
              "    <tr>\n",
              "      <th>1</th>\n",
              "      <td>C01BYH7JHB5</td>\n",
              "      <td>contents</td>\n",
              "      <td>True</td>\n",
              "      <td>U01BE2PR6LU</td>\n",
              "      <td>2020-10-05 07:28:09</td>\n",
              "      <td>NaN</td>\n",
              "      <td>NaN</td>\n",
              "      <td>12</td>\n",
              "    </tr>\n",
              "    <tr>\n",
              "      <th>2</th>\n",
              "      <td>C01CAMNCJJV</td>\n",
              "      <td>branding-design</td>\n",
              "      <td>True</td>\n",
              "      <td>U01AVDY7JET</td>\n",
              "      <td>2020-10-05 03:16:30</td>\n",
              "      <td>NaN</td>\n",
              "      <td>NaN</td>\n",
              "      <td>9</td>\n",
              "    </tr>\n",
              "    <tr>\n",
              "      <th>3</th>\n",
              "      <td>C01U6P7LZ8F</td>\n",
              "      <td>atom-assignment1</td>\n",
              "      <td>True</td>\n",
              "      <td>U01BE2PR6LU</td>\n",
              "      <td>2021-04-17 07:00:04</td>\n",
              "      <td>Assigment#1 - Python Basics &amp;amp; Spreadsheet ...</td>\n",
              "      <td>Where learners submit assignments and give rev...</td>\n",
              "      <td>44</td>\n",
              "    </tr>\n",
              "    <tr>\n",
              "      <th>4</th>\n",
              "      <td>C01UL6K1C7L</td>\n",
              "      <td>atom-week1</td>\n",
              "      <td>True</td>\n",
              "      <td>U01BE2PR6LU</td>\n",
              "      <td>2021-04-16 17:44:32</td>\n",
              "      <td>TOPIC: Data Strategy. Metrics Design. Spreadsh...</td>\n",
              "      <td>TOPIC: Data Strategy. Metrics Design. Spreadsh...</td>\n",
              "      <td>43</td>\n",
              "    </tr>\n",
              "  </tbody>\n",
              "</table>\n",
              "</div>"
            ],
            "text/plain": [
              "    channel_id  ... num_members\n",
              "0  C01B4PVGLVB  ...          64\n",
              "1  C01BYH7JHB5  ...          12\n",
              "2  C01CAMNCJJV  ...           9\n",
              "3  C01U6P7LZ8F  ...          44\n",
              "4  C01UL6K1C7L  ...          43\n",
              "\n",
              "[5 rows x 8 columns]"
            ]
          },
          "metadata": {
            "tags": []
          },
          "execution_count": 7
        }
      ]
    },
    {
      "cell_type": "code",
      "metadata": {
        "id": "JjVsG3auc-ag"
      },
      "source": [
        "endpoint3 = \"https://slack.com/api/conversations.history\""
      ],
      "execution_count": 8,
      "outputs": []
    },
    {
      "cell_type": "code",
      "metadata": {
        "colab": {
          "base_uri": "https://localhost:8080/",
          "height": 801
        },
        "id": "VY7OkrVudCSF",
        "outputId": "5bde61e5-7957-4453-adb8-b5c05dc97bad"
      },
      "source": [
        "msg_dict = {'channel_id':[],'msg_id':[], 'msg_ts':[], 'user_id':[], 'latest_reply':[],'reply_user_count':[],'reply_users':[],'github_link':[]}\n",
        "for channel_id, channel_name in zip(channel_df['channel_id'], channel_df['channel_name']):\n",
        "  print('Channel ID: {} - Channel Name: {}'.format(channel_id, channel_name))\n",
        "  try:\n",
        "    data = {\"channel\": channel_id} \n",
        "    response_json = requests.post(endpoint3, data=data, headers=headers).json()\n",
        "    msg_ls = response_json['messages']\n",
        "    for i in range(len(msg_ls)):\n",
        "      if 'client_msg_id' in msg_ls[i].keys():\n",
        "        msg_dict['channel_id'].append(channel_id)\n",
        "        msg_dict['msg_id'].append(msg_ls[i]['client_msg_id'])\n",
        "        msg_dict['msg_ts'].append(dt.fromtimestamp(float(msg_ls[i]['ts'])))\n",
        "        msg_dict['latest_reply'].append(dt.fromtimestamp(float(msg_ls[i]['latest_reply'] if 'latest_reply' in msg_ls[i].keys() else 0))) ## -> No reply: 1970-01-01\n",
        "        msg_dict['user_id'].append(msg_ls[i]['user'])\n",
        "        msg_dict['reply_user_count'].append(msg_ls[i]['reply_users_count'] if 'reply_users_count' in msg_ls[i].keys() else 0)\n",
        "        msg_dict['reply_users'].append(msg_ls[i]['reply_users'] if 'reply_users' in msg_ls[i].keys() else 0) \n",
        "        ## -> Censor message contains tokens\n",
        "        text = msg_ls[i]['text']\n",
        "        github_link = re.findall('(?:https?://)?(?:www[.])?github[.]com/[\\w-]+/?', text)\n",
        "        msg_dict['github_link'].append(github_link[0] if len(github_link) > 0 else np.nan)\n",
        "  except:\n",
        "    print('====> '+ str(response_json))\n",
        "        \n",
        "\n",
        "msg_df = pd.DataFrame(msg_dict)\n",
        "msg_df = msg_df.replace('', np.nan) # -> replace khoảng trắng bằng giá trị NULL (nan)\n",
        "msg_df.head()"
      ],
      "execution_count": 9,
      "outputs": [
        {
          "output_type": "stream",
          "text": [
            "Channel ID: C01B4PVGLVB - Channel Name: general\n",
            "====> {'ok': False, 'error': 'not_in_channel'}\n",
            "Channel ID: C01BYH7JHB5 - Channel Name: contents\n",
            "====> {'ok': False, 'error': 'not_in_channel'}\n",
            "Channel ID: C01CAMNCJJV - Channel Name: branding-design\n",
            "====> {'ok': False, 'error': 'not_in_channel'}\n",
            "Channel ID: C01U6P7LZ8F - Channel Name: atom-assignment1\n",
            "Channel ID: C01UL6K1C7L - Channel Name: atom-week1\n",
            "Channel ID: C01ULCHGN75 - Channel Name: atom-general\n",
            "====> {'ok': False, 'error': 'not_in_channel'}\n",
            "Channel ID: C020VMT58JK - Channel Name: topics-data-analytics\n",
            "====> {'ok': False, 'error': 'not_in_channel'}\n",
            "Channel ID: C0213MNH9L6 - Channel Name: topics-python\n",
            "====> {'ok': False, 'error': 'not_in_channel'}\n",
            "Channel ID: C0213N56M2A - Channel Name: topics-materials\n",
            "====> {'ok': False, 'error': 'not_in_channel'}\n",
            "Channel ID: C021FSDN7LJ - Channel Name: atom-assignment2\n",
            "Channel ID: C021KLB0DSB - Channel Name: discuss-group3\n",
            "Channel ID: C021KLB90GP - Channel Name: discuss-group4\n",
            "Channel ID: C02204B2CD6 - Channel Name: atom-week2\n",
            "Channel ID: C0220KU9399 - Channel Name: discuss-group1\n",
            "Channel ID: C0226D3LEQ4 - Channel Name: atom-week3\n",
            "Channel ID: C0227A51SAY - Channel Name: atom-assignment3\n",
            "Channel ID: C022Q7TGRLG - Channel Name: discuss-group2\n",
            "Channel ID: C022RRWQ6US - Channel Name: atom-assignment4\n",
            "Channel ID: C022Y1FUETE - Channel Name: atom-week4\n",
            "Channel ID: C023UJGMDND - Channel Name: atom-assignment5\n",
            "Channel ID: C0245PZUFSL - Channel Name: atom-week5\n"
          ],
          "name": "stdout"
        },
        {
          "output_type": "execute_result",
          "data": {
            "text/html": [
              "<div>\n",
              "<style scoped>\n",
              "    .dataframe tbody tr th:only-of-type {\n",
              "        vertical-align: middle;\n",
              "    }\n",
              "\n",
              "    .dataframe tbody tr th {\n",
              "        vertical-align: top;\n",
              "    }\n",
              "\n",
              "    .dataframe thead th {\n",
              "        text-align: right;\n",
              "    }\n",
              "</style>\n",
              "<table border=\"1\" class=\"dataframe\">\n",
              "  <thead>\n",
              "    <tr style=\"text-align: right;\">\n",
              "      <th></th>\n",
              "      <th>channel_id</th>\n",
              "      <th>msg_id</th>\n",
              "      <th>msg_ts</th>\n",
              "      <th>user_id</th>\n",
              "      <th>latest_reply</th>\n",
              "      <th>reply_user_count</th>\n",
              "      <th>reply_users</th>\n",
              "      <th>github_link</th>\n",
              "    </tr>\n",
              "  </thead>\n",
              "  <tbody>\n",
              "    <tr>\n",
              "      <th>0</th>\n",
              "      <td>C01U6P7LZ8F</td>\n",
              "      <td>005AD620-BD06-4123-BC42-6118DAA73BA4</td>\n",
              "      <td>2021-05-13 14:09:48.011000</td>\n",
              "      <td>U01UTGRMGEQ</td>\n",
              "      <td>2021-05-13 18:01:34.021400</td>\n",
              "      <td>4</td>\n",
              "      <td>[U01V00P4S2V, U01UTGRMGEQ, U01UMJ451V1, U01V00...</td>\n",
              "      <td>NaN</td>\n",
              "    </tr>\n",
              "    <tr>\n",
              "      <th>1</th>\n",
              "      <td>C01U6P7LZ8F</td>\n",
              "      <td>D86A48D2-D953-4504-92BF-D9240B2549A8</td>\n",
              "      <td>2021-05-10 04:51:46.004700</td>\n",
              "      <td>U01UJ9LG5U5</td>\n",
              "      <td>2021-05-15 09:14:31.003600</td>\n",
              "      <td>2</td>\n",
              "      <td>[U01USGKQ771, U01V00KHHHP]</td>\n",
              "      <td>https://github.com/danhpcv/</td>\n",
              "    </tr>\n",
              "    <tr>\n",
              "      <th>2</th>\n",
              "      <td>C01U6P7LZ8F</td>\n",
              "      <td>246fb20c-8739-4664-9bcf-14f57aee17f7</td>\n",
              "      <td>2021-05-10 04:35:39.003800</td>\n",
              "      <td>U01UMC08KL2</td>\n",
              "      <td>2021-05-18 08:09:59.000800</td>\n",
              "      <td>2</td>\n",
              "      <td>[U01UTGS5ZNY, U01UMC08KL2]</td>\n",
              "      <td>https://github.com/auslynnguyen/</td>\n",
              "    </tr>\n",
              "    <tr>\n",
              "      <th>3</th>\n",
              "      <td>C01U6P7LZ8F</td>\n",
              "      <td>4214088f-ccdc-4e8e-9c19-677ae3f439a1</td>\n",
              "      <td>2021-05-10 03:07:35.001200</td>\n",
              "      <td>U01UTGRQS9J</td>\n",
              "      <td>2021-05-15 09:28:16.004000</td>\n",
              "      <td>2</td>\n",
              "      <td>[U01VB632FPS, U01V00KHHHP]</td>\n",
              "      <td>NaN</td>\n",
              "    </tr>\n",
              "    <tr>\n",
              "      <th>4</th>\n",
              "      <td>C01U6P7LZ8F</td>\n",
              "      <td>cfad12f7-bf9c-4209-b563-f495f378fb1f</td>\n",
              "      <td>2021-05-08 06:43:25.006900</td>\n",
              "      <td>U01BE2PR6LU</td>\n",
              "      <td>1970-01-01 00:00:00.000000</td>\n",
              "      <td>0</td>\n",
              "      <td>0</td>\n",
              "      <td>NaN</td>\n",
              "    </tr>\n",
              "  </tbody>\n",
              "</table>\n",
              "</div>"
            ],
            "text/plain": [
              "    channel_id  ...                       github_link\n",
              "0  C01U6P7LZ8F  ...                               NaN\n",
              "1  C01U6P7LZ8F  ...       https://github.com/danhpcv/\n",
              "2  C01U6P7LZ8F  ...  https://github.com/auslynnguyen/\n",
              "3  C01U6P7LZ8F  ...                               NaN\n",
              "4  C01U6P7LZ8F  ...                               NaN\n",
              "\n",
              "[5 rows x 8 columns]"
            ]
          },
          "metadata": {
            "tags": []
          },
          "execution_count": 9
        }
      ]
    },
    {
      "cell_type": "code",
      "metadata": {
        "colab": {
          "base_uri": "https://localhost:8080/",
          "height": 194
        },
        "id": "LantPf7Ddhs2",
        "outputId": "282dab41-2409-4fe0-c99e-deada052fbdd"
      },
      "source": [
        "dtc_groups = pd.read_csv('datacracy_groups.csv')\n",
        "dtc_groups.head()"
      ],
      "execution_count": 24,
      "outputs": [
        {
          "output_type": "execute_result",
          "data": {
            "text/html": [
              "<div>\n",
              "<style scoped>\n",
              "    .dataframe tbody tr th:only-of-type {\n",
              "        vertical-align: middle;\n",
              "    }\n",
              "\n",
              "    .dataframe tbody tr th {\n",
              "        vertical-align: top;\n",
              "    }\n",
              "\n",
              "    .dataframe thead th {\n",
              "        text-align: right;\n",
              "    }\n",
              "</style>\n",
              "<table border=\"1\" class=\"dataframe\">\n",
              "  <thead>\n",
              "    <tr style=\"text-align: right;\">\n",
              "      <th></th>\n",
              "      <th>name</th>\n",
              "      <th>DataCracy_role</th>\n",
              "    </tr>\n",
              "  </thead>\n",
              "  <tbody>\n",
              "    <tr>\n",
              "      <th>0</th>\n",
              "      <td>slackbot</td>\n",
              "      <td>BTC</td>\n",
              "    </tr>\n",
              "    <tr>\n",
              "      <th>1</th>\n",
              "      <td>loclexuan26392</td>\n",
              "      <td>BTC</td>\n",
              "    </tr>\n",
              "    <tr>\n",
              "      <th>2</th>\n",
              "      <td>locle.ds</td>\n",
              "      <td>BTC</td>\n",
              "    </tr>\n",
              "    <tr>\n",
              "      <th>3</th>\n",
              "      <td>maianhdang.ftu</td>\n",
              "      <td>BTC</td>\n",
              "    </tr>\n",
              "    <tr>\n",
              "      <th>4</th>\n",
              "      <td>huyenhoang.design</td>\n",
              "      <td>BTC</td>\n",
              "    </tr>\n",
              "  </tbody>\n",
              "</table>\n",
              "</div>"
            ],
            "text/plain": [
              "                name DataCracy_role\n",
              "0           slackbot            BTC\n",
              "1     loclexuan26392            BTC\n",
              "2           locle.ds            BTC\n",
              "3     maianhdang.ftu            BTC\n",
              "4  huyenhoang.design            BTC"
            ]
          },
          "metadata": {
            "tags": []
          },
          "execution_count": 24
        }
      ]
    },
    {
      "cell_type": "code",
      "metadata": {
        "colab": {
          "base_uri": "https://localhost:8080/"
        },
        "id": "_rWNNTzEgHQO",
        "outputId": "f1155811-4e90-46bc-86c9-a892141d9a45"
      },
      "source": [
        "## Authorize bằng JSON\n",
        "scope = ['https://spreadsheets.google.com/feeds',\n",
        "         'https://www.googleapis.com/auth/drive']\n",
        "credentials = ServiceAccountCredentials.from_json_keyfile_name(\n",
        "    'healthy-cubist-315301-d974eee70c6a.json', scope)\n",
        "gc = gspread.authorize(credentials)\n",
        "print(\"DONE!\")"
      ],
      "execution_count": 17,
      "outputs": [
        {
          "output_type": "stream",
          "text": [
            "DONE!\n"
          ],
          "name": "stdout"
        }
      ]
    },
    {
      "cell_type": "code",
      "metadata": {
        "id": "ADfqZ0BaaVU7"
      },
      "source": [
        "sheet_index_no = 0\n",
        "spreadsheet_key = '18sB_gZMyz0hEKCaY1_Arv1-_EFwT675kT3kDBm7PVuw' # input SPREADSHEET_KEY HERE\n",
        "sh = gc.open_by_key(spreadsheet_key)\n",
        "worksheet = sh.get_worksheet(sheet_index_no) #-> 0 - first sheet, 1 - second sheet etc. \n",
        "\n",
        "# APPEND DATA TO SHEET\n",
        "set_with_dataframe(worksheet, user_df) #-> Upload user_df vào Sheet đầu tiên trong Spreadsheet\n",
        "\n",
        "# DONE: Bây giờ bạn có thể mở spreadsheet và kiểm tra nội dung đã update chứ"
      ],
      "execution_count": 18,
      "outputs": []
    },
    {
      "cell_type": "code",
      "metadata": {
        "colab": {
          "base_uri": "https://localhost:8080/"
        },
        "id": "HeAoBpTgiGtv",
        "outputId": "89e1697f-8c1e-40f4-9968-1a12f0115d88"
      },
      "source": [
        "# ACCESS GOOGLE SHEET\n",
        "sheet_index_no = 1\n",
        "spreadsheet_key = '18sB_gZMyz0hEKCaY1_Arv1-_EFwT675kT3kDBm7PVuw' # input SPREADSHEET_KEY HERE\n",
        "sh = gc.open_by_key(spreadsheet_key)\n",
        "worksheet = sh.add_worksheet(title= 'channel_df', rows= \"100\", cols= \"20\") #-> 0 - first sheet, 1 - second sheet etc. \n",
        "\n",
        "# APPEND DATA TO SHEET\n",
        "set_with_dataframe(worksheet,  channel_df) #-> Upload assignment_df vào Sheet 2 trong Spreadsheet\n",
        "print('Done!')"
      ],
      "execution_count": 14,
      "outputs": [
        {
          "output_type": "stream",
          "text": [
            "Done!\n"
          ],
          "name": "stdout"
        }
      ]
    },
    {
      "cell_type": "code",
      "metadata": {
        "colab": {
          "base_uri": "https://localhost:8080/"
        },
        "id": "1pgyeN3uiUgb",
        "outputId": "f9ff75f6-1f79-4e03-8aba-1d7ea7776d63"
      },
      "source": [
        "# ACCESS GOOGLE SHEET\n",
        "sheet_index_no = 2\n",
        "spreadsheet_key = '18sB_gZMyz0hEKCaY1_Arv1-_EFwT675kT3kDBm7PVuw' # input SPREADSHEET_KEY HERE\n",
        "sh = gc.open_by_key(spreadsheet_key)\n",
        "worksheet = sh.add_worksheet(title= 'msg_df', rows= \"100\", cols= \"20\") #-> 0 - first sheet, 1 - second sheet etc. \n",
        "\n",
        "# APPEND DATA TO SHEET\n",
        "set_with_dataframe(worksheet,  msg_df) #-> Upload assignment_df vào Sheet 2 trong Spreadsheet\n",
        "print('Done!')"
      ],
      "execution_count": 15,
      "outputs": [
        {
          "output_type": "stream",
          "text": [
            "Done!\n"
          ],
          "name": "stdout"
        }
      ]
    },
    {
      "cell_type": "code",
      "metadata": {
        "colab": {
          "base_uri": "https://localhost:8080/"
        },
        "id": "Z36gLP8Fdlze",
        "outputId": "9a2e7a18-9d93-4810-820b-ef6699ffd279"
      },
      "source": [
        "sheet_index_no = 3\n",
        "spreadsheet_key = '18sB_gZMyz0hEKCaY1_Arv1-_EFwT675kT3kDBm7PVuw' # input SPREADSHEET_KEY HERE\n",
        "sh = gc.open_by_key(spreadsheet_key)\n",
        "worksheet = sh.add_worksheet(title= 'dtc_groups', rows= \"100\", cols= \"20\") #-> 0 - first sheet, 1 - second sheet etc. \n",
        "\n",
        "# APPEND DATA TO SHEET\n",
        "set_with_dataframe(worksheet, dtc_groups) #-> Upload assignment_df vào Sheet 2 trong Spreadsheet\n",
        "print('Done!')"
      ],
      "execution_count": 26,
      "outputs": [
        {
          "output_type": "stream",
          "text": [
            "Done!\n"
          ],
          "name": "stdout"
        }
      ]
    },
    {
      "cell_type": "markdown",
      "metadata": {
        "id": "Z14rH4MCghCF"
      },
      "source": [
        "#TODO 2: Python Pandas\n",
        "Kaggle là cộng đồng lớn nhất thế giới về Data Science với các cuộc thi/thử thách ML, các công cụ và tài liệu để học và phát triển kỹ năng\n",
        "\n",
        "* Tạo account của bạn trên Kaggle\n",
        "* Coi tutorial và làm 6 sets bài tập trên Kaggle HERE\n",
        "* Bạn có thể làm bài trực tiếp trên Kaggle (cũng là dạng notebook online như Colab). Toàn bộ notebook sẽ lưu trên phần Code trong Profile Account của bạn"
      ]
    },
    {
      "cell_type": "code",
      "metadata": {
        "id": "YtbJJjnhgpBM"
      },
      "source": [
        "# Copy các link Kaggle sau:\n",
        "## 1. Link tới Kaggle Account của bạn -----> \n",
        "## 2. Link tới các bài tập\n",
        "## Pandas 1: ---> https://www.kaggle.com/chuviethong/exercise-creating-reading-and-writing/edit\n",
        "## Pandas 2: ---> https://www.kaggle.com/chuviethong/exercise-indexing-selecting-assigning/edit\n",
        "## Pandas 3: ---> https://www.kaggle.com/chuviethong/exercise-summary-functions-and-maps/edit\n",
        "## Pandas 4: ---> https://www.kaggle.com/chuviethong/exercise-grouping-and-sorting/edit\n",
        "## Pandas 5: ---> https://www.kaggle.com/chuviethong/exercise-data-types-and-missing-values/edit\n",
        "## Pandas 6: ---> https://www.kaggle.com/chuviethong/exercise-renaming-and-combining/edit"
      ],
      "execution_count": null,
      "outputs": []
    },
    {
      "cell_type": "markdown",
      "metadata": {
        "id": "sA-Ouv-ihGNP"
      },
      "source": [
        "# TODO 3: Python Pandas"
      ]
    },
    {
      "cell_type": "code",
      "metadata": {
        "id": "M45e7Y-klN0N"
      },
      "source": [
        "msg_cha = pd.merge(msg_df, channel_df, how='left', on='channel_id')\n",
        "user_dtc = pd.merge(user_df, dtc_groups, how='left', on='name')\n",
        "merge_df = pd.merge(msg_cha, user_dtc, how='left', on='user_id')"
      ],
      "execution_count": 31,
      "outputs": []
    },
    {
      "cell_type": "code",
      "metadata": {
        "colab": {
          "base_uri": "https://localhost:8080/",
          "height": 408
        },
        "id": "OFuc1VKoeBAe",
        "outputId": "ab753cfb-65a1-43cd-9633-a963a8aaf048"
      },
      "source": [
        "df = merge_df.loc[(merge_df.github_link.notnull()) & (merge_df['channel_name'].str.startswith('atom-assignment')) & (merge_df['DataCracy_role'].str.startswith('Learner'))]\n",
        "df.head(3)"
      ],
      "execution_count": 36,
      "outputs": [
        {
          "output_type": "execute_result",
          "data": {
            "text/html": [
              "<div>\n",
              "<style scoped>\n",
              "    .dataframe tbody tr th:only-of-type {\n",
              "        vertical-align: middle;\n",
              "    }\n",
              "\n",
              "    .dataframe tbody tr th {\n",
              "        vertical-align: top;\n",
              "    }\n",
              "\n",
              "    .dataframe thead th {\n",
              "        text-align: right;\n",
              "    }\n",
              "</style>\n",
              "<table border=\"1\" class=\"dataframe\">\n",
              "  <thead>\n",
              "    <tr style=\"text-align: right;\">\n",
              "      <th></th>\n",
              "      <th>channel_id</th>\n",
              "      <th>msg_id</th>\n",
              "      <th>msg_ts</th>\n",
              "      <th>user_id</th>\n",
              "      <th>latest_reply</th>\n",
              "      <th>reply_user_count</th>\n",
              "      <th>reply_users</th>\n",
              "      <th>github_link</th>\n",
              "      <th>channel_name</th>\n",
              "      <th>is_channel</th>\n",
              "      <th>creator</th>\n",
              "      <th>created_at</th>\n",
              "      <th>topics</th>\n",
              "      <th>purpose</th>\n",
              "      <th>num_members</th>\n",
              "      <th>name</th>\n",
              "      <th>display_name</th>\n",
              "      <th>real_name</th>\n",
              "      <th>title</th>\n",
              "      <th>is_bot</th>\n",
              "      <th>DataCracy_role</th>\n",
              "    </tr>\n",
              "  </thead>\n",
              "  <tbody>\n",
              "    <tr>\n",
              "      <th>1</th>\n",
              "      <td>C01U6P7LZ8F</td>\n",
              "      <td>D86A48D2-D953-4504-92BF-D9240B2549A8</td>\n",
              "      <td>2021-05-10 04:51:46.004700</td>\n",
              "      <td>U01UJ9LG5U5</td>\n",
              "      <td>2021-05-15 09:14:31.003600</td>\n",
              "      <td>2</td>\n",
              "      <td>[U01USGKQ771, U01V00KHHHP]</td>\n",
              "      <td>https://github.com/danhpcv/</td>\n",
              "      <td>atom-assignment1</td>\n",
              "      <td>True</td>\n",
              "      <td>U01BE2PR6LU</td>\n",
              "      <td>2021-04-17 07:00:04</td>\n",
              "      <td>Assigment#1 - Python Basics &amp;amp; Spreadsheet ...</td>\n",
              "      <td>Where learners submit assignments and give rev...</td>\n",
              "      <td>44</td>\n",
              "      <td>danhpcv</td>\n",
              "      <td>Danh Phan</td>\n",
              "      <td>Danh Phan</td>\n",
              "      <td>NaN</td>\n",
              "      <td>False</td>\n",
              "      <td>Learner_Gr3</td>\n",
              "    </tr>\n",
              "    <tr>\n",
              "      <th>2</th>\n",
              "      <td>C01U6P7LZ8F</td>\n",
              "      <td>246fb20c-8739-4664-9bcf-14f57aee17f7</td>\n",
              "      <td>2021-05-10 04:35:39.003800</td>\n",
              "      <td>U01UMC08KL2</td>\n",
              "      <td>2021-05-18 08:09:59.000800</td>\n",
              "      <td>2</td>\n",
              "      <td>[U01UTGS5ZNY, U01UMC08KL2]</td>\n",
              "      <td>https://github.com/auslynnguyen/</td>\n",
              "      <td>atom-assignment1</td>\n",
              "      <td>True</td>\n",
              "      <td>U01BE2PR6LU</td>\n",
              "      <td>2021-04-17 07:00:04</td>\n",
              "      <td>Assigment#1 - Python Basics &amp;amp; Spreadsheet ...</td>\n",
              "      <td>Where learners submit assignments and give rev...</td>\n",
              "      <td>44</td>\n",
              "      <td>auslyn.nguyen</td>\n",
              "      <td>NaN</td>\n",
              "      <td>Minh-Thu Nguyen Hoang</td>\n",
              "      <td>NaN</td>\n",
              "      <td>False</td>\n",
              "      <td>Learner_Gr4</td>\n",
              "    </tr>\n",
              "    <tr>\n",
              "      <th>8</th>\n",
              "      <td>C01U6P7LZ8F</td>\n",
              "      <td>4abf215d-ff30-44c0-9384-9da735a374c1</td>\n",
              "      <td>2021-05-07 16:29:48.000700</td>\n",
              "      <td>U01USGKQ771</td>\n",
              "      <td>2021-05-11 02:52:00.000200</td>\n",
              "      <td>1</td>\n",
              "      <td>[U01UMC0N5U2]</td>\n",
              "      <td>https://github.com/TrangNgo1709/</td>\n",
              "      <td>atom-assignment1</td>\n",
              "      <td>True</td>\n",
              "      <td>U01BE2PR6LU</td>\n",
              "      <td>2021-04-17 07:00:04</td>\n",
              "      <td>Assigment#1 - Python Basics &amp;amp; Spreadsheet ...</td>\n",
              "      <td>Where learners submit assignments and give rev...</td>\n",
              "      <td>44</td>\n",
              "      <td>trang.ngo1709</td>\n",
              "      <td>Trang</td>\n",
              "      <td>Ngo Thi Minh Trang</td>\n",
              "      <td>NaN</td>\n",
              "      <td>False</td>\n",
              "      <td>Learner_Gr1</td>\n",
              "    </tr>\n",
              "  </tbody>\n",
              "</table>\n",
              "</div>"
            ],
            "text/plain": [
              "    channel_id                                msg_id  ... is_bot DataCracy_role\n",
              "1  C01U6P7LZ8F  D86A48D2-D953-4504-92BF-D9240B2549A8  ...  False    Learner_Gr3\n",
              "2  C01U6P7LZ8F  246fb20c-8739-4664-9bcf-14f57aee17f7  ...  False    Learner_Gr4\n",
              "8  C01U6P7LZ8F  4abf215d-ff30-44c0-9384-9da735a374c1  ...  False    Learner_Gr1\n",
              "\n",
              "[3 rows x 21 columns]"
            ]
          },
          "metadata": {
            "tags": []
          },
          "execution_count": 36
        }
      ]
    },
    {
      "cell_type": "code",
      "metadata": {
        "colab": {
          "base_uri": "https://localhost:8080/",
          "height": 223
        },
        "id": "ZfAHrDa2eb2W",
        "outputId": "bd2985b5-5d28-44b2-f62d-397e04ec97ef"
      },
      "source": [
        "df1=df.groupby('channel_name').apply(lambda df: df.loc[df.msg_ts.idxmin()])\n",
        "df1[['user_id','display_name','DataCracy_role', 'msg_ts','github_link' ]]"
      ],
      "execution_count": 37,
      "outputs": [
        {
          "output_type": "execute_result",
          "data": {
            "text/html": [
              "<div>\n",
              "<style scoped>\n",
              "    .dataframe tbody tr th:only-of-type {\n",
              "        vertical-align: middle;\n",
              "    }\n",
              "\n",
              "    .dataframe tbody tr th {\n",
              "        vertical-align: top;\n",
              "    }\n",
              "\n",
              "    .dataframe thead th {\n",
              "        text-align: right;\n",
              "    }\n",
              "</style>\n",
              "<table border=\"1\" class=\"dataframe\">\n",
              "  <thead>\n",
              "    <tr style=\"text-align: right;\">\n",
              "      <th></th>\n",
              "      <th>user_id</th>\n",
              "      <th>display_name</th>\n",
              "      <th>DataCracy_role</th>\n",
              "      <th>msg_ts</th>\n",
              "      <th>github_link</th>\n",
              "    </tr>\n",
              "    <tr>\n",
              "      <th>channel_name</th>\n",
              "      <th></th>\n",
              "      <th></th>\n",
              "      <th></th>\n",
              "      <th></th>\n",
              "      <th></th>\n",
              "    </tr>\n",
              "  </thead>\n",
              "  <tbody>\n",
              "    <tr>\n",
              "      <th>atom-assignment1</th>\n",
              "      <td>U01UMJ5AQ0K</td>\n",
              "      <td>Dương Phan Nam Hưng</td>\n",
              "      <td>Learner_Gr1</td>\n",
              "      <td>2021-04-21 06:00:34.000800</td>\n",
              "      <td>https://github.com/duongphannamhung/</td>\n",
              "    </tr>\n",
              "    <tr>\n",
              "      <th>atom-assignment2</th>\n",
              "      <td>U01UQGZHSTZ</td>\n",
              "      <td>Toan Tran</td>\n",
              "      <td>Learner_Gr2</td>\n",
              "      <td>2021-05-12 15:50:48.004000</td>\n",
              "      <td>https://github.com/toantran2206/</td>\n",
              "    </tr>\n",
              "    <tr>\n",
              "      <th>atom-assignment3</th>\n",
              "      <td>U01UTGRMGEQ</td>\n",
              "      <td>Nguyen Hong Hanh</td>\n",
              "      <td>Learner_Gr4</td>\n",
              "      <td>2021-05-16 12:08:08.018900</td>\n",
              "      <td>https://github.com/nguyenhonghanh2511/</td>\n",
              "    </tr>\n",
              "    <tr>\n",
              "      <th>atom-assignment4</th>\n",
              "      <td>U01UJ9M3P1T</td>\n",
              "      <td>Cao Nguyen Huy Hoang</td>\n",
              "      <td>Learner_Gr2</td>\n",
              "      <td>2021-05-25 17:46:52.015200</td>\n",
              "      <td>https://github.com/cnhhoang850/</td>\n",
              "    </tr>\n",
              "    <tr>\n",
              "      <th>atom-assignment5</th>\n",
              "      <td>U01UTGT8CVA</td>\n",
              "      <td>Nguyễn Thảo Nguyên</td>\n",
              "      <td>Learner_Gr3</td>\n",
              "      <td>2021-06-02 10:34:22.003500</td>\n",
              "      <td>https://github.com/ngttnguyen/</td>\n",
              "    </tr>\n",
              "  </tbody>\n",
              "</table>\n",
              "</div>"
            ],
            "text/plain": [
              "                      user_id  ...                             github_link\n",
              "channel_name                   ...                                        \n",
              "atom-assignment1  U01UMJ5AQ0K  ...    https://github.com/duongphannamhung/\n",
              "atom-assignment2  U01UQGZHSTZ  ...        https://github.com/toantran2206/\n",
              "atom-assignment3  U01UTGRMGEQ  ...  https://github.com/nguyenhonghanh2511/\n",
              "atom-assignment4  U01UJ9M3P1T  ...         https://github.com/cnhhoang850/\n",
              "atom-assignment5  U01UTGT8CVA  ...          https://github.com/ngttnguyen/\n",
              "\n",
              "[5 rows x 5 columns]"
            ]
          },
          "metadata": {
            "tags": []
          },
          "execution_count": 37
        }
      ]
    },
    {
      "cell_type": "code",
      "metadata": {
        "colab": {
          "base_uri": "https://localhost:8080/",
          "height": 223
        },
        "id": "0N2DOagcfjMd",
        "outputId": "7c75c0ee-1420-4751-f8b5-7bef77815f80"
      },
      "source": [
        "df2=df.groupby('channel_name').apply(lambda df: df.loc[df.msg_ts.idxmax()])\n",
        "df2[['user_id','display_name','DataCracy_role', 'msg_ts','github_link' ]]"
      ],
      "execution_count": 38,
      "outputs": [
        {
          "output_type": "execute_result",
          "data": {
            "text/html": [
              "<div>\n",
              "<style scoped>\n",
              "    .dataframe tbody tr th:only-of-type {\n",
              "        vertical-align: middle;\n",
              "    }\n",
              "\n",
              "    .dataframe tbody tr th {\n",
              "        vertical-align: top;\n",
              "    }\n",
              "\n",
              "    .dataframe thead th {\n",
              "        text-align: right;\n",
              "    }\n",
              "</style>\n",
              "<table border=\"1\" class=\"dataframe\">\n",
              "  <thead>\n",
              "    <tr style=\"text-align: right;\">\n",
              "      <th></th>\n",
              "      <th>user_id</th>\n",
              "      <th>display_name</th>\n",
              "      <th>DataCracy_role</th>\n",
              "      <th>msg_ts</th>\n",
              "      <th>github_link</th>\n",
              "    </tr>\n",
              "    <tr>\n",
              "      <th>channel_name</th>\n",
              "      <th></th>\n",
              "      <th></th>\n",
              "      <th></th>\n",
              "      <th></th>\n",
              "      <th></th>\n",
              "    </tr>\n",
              "  </thead>\n",
              "  <tbody>\n",
              "    <tr>\n",
              "      <th>atom-assignment1</th>\n",
              "      <td>U01UJ9LG5U5</td>\n",
              "      <td>Danh Phan</td>\n",
              "      <td>Learner_Gr3</td>\n",
              "      <td>2021-05-10 04:51:46.004700</td>\n",
              "      <td>https://github.com/danhpcv/</td>\n",
              "    </tr>\n",
              "    <tr>\n",
              "      <th>atom-assignment2</th>\n",
              "      <td>U01UTGRMGEQ</td>\n",
              "      <td>Nguyen Hong Hanh</td>\n",
              "      <td>Learner_Gr4</td>\n",
              "      <td>2021-05-22 05:39:34.015500</td>\n",
              "      <td>https://github.com/nguyenhonghanh2511/</td>\n",
              "    </tr>\n",
              "    <tr>\n",
              "      <th>atom-assignment3</th>\n",
              "      <td>U01USGKQ771</td>\n",
              "      <td>Trang</td>\n",
              "      <td>Learner_Gr1</td>\n",
              "      <td>2021-05-27 15:30:16.003200</td>\n",
              "      <td>https://github.com/TrangNgo1709/</td>\n",
              "    </tr>\n",
              "    <tr>\n",
              "      <th>atom-assignment4</th>\n",
              "      <td>U01U6JQB695</td>\n",
              "      <td>NaN</td>\n",
              "      <td>Learner_Gr1</td>\n",
              "      <td>2021-06-04 03:12:24.000800</td>\n",
              "      <td>https://github.com/Tenderriver/</td>\n",
              "    </tr>\n",
              "    <tr>\n",
              "      <th>atom-assignment5</th>\n",
              "      <td>U01UJ9P1S3X</td>\n",
              "      <td>Thao Le</td>\n",
              "      <td>Learner_Gr3</td>\n",
              "      <td>2021-06-03 16:46:34.009600</td>\n",
              "      <td>https://github.com/lethuthao1368/</td>\n",
              "    </tr>\n",
              "  </tbody>\n",
              "</table>\n",
              "</div>"
            ],
            "text/plain": [
              "                      user_id  ...                             github_link\n",
              "channel_name                   ...                                        \n",
              "atom-assignment1  U01UJ9LG5U5  ...             https://github.com/danhpcv/\n",
              "atom-assignment2  U01UTGRMGEQ  ...  https://github.com/nguyenhonghanh2511/\n",
              "atom-assignment3  U01USGKQ771  ...        https://github.com/TrangNgo1709/\n",
              "atom-assignment4  U01U6JQB695  ...         https://github.com/Tenderriver/\n",
              "atom-assignment5  U01UJ9P1S3X  ...       https://github.com/lethuthao1368/\n",
              "\n",
              "[5 rows x 5 columns]"
            ]
          },
          "metadata": {
            "tags": []
          },
          "execution_count": 38
        }
      ]
    }
  ]
}